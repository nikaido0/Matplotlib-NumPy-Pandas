{
 "cells": [
  {
   "cell_type": "code",
   "execution_count": 1,
   "id": "initial_id",
   "metadata": {
    "collapsed": true,
    "ExecuteTime": {
     "end_time": "2024-11-13T08:48:58.760439Z",
     "start_time": "2024-11-13T08:48:58.484634Z"
    }
   },
   "outputs": [],
   "source": [
    "import pandas as pd"
   ]
  },
  {
   "cell_type": "code",
   "outputs": [
    {
     "name": "stdout",
     "output_type": "stream",
     "text": [
      "   发现时间  发现数量   观测方法    行星质量   距地距离     轨道周期\n",
      "0  1989     1   径向速度  11.680  40.57  83.8880\n",
      "1  1992     3  脉冲星计时     NaN    NaN  25.2620\n",
      "2  1992     3  脉冲星计时     NaN    NaN  66.5419\n",
      "3  1994     3  脉冲星计时     NaN    NaN  98.2114\n",
      "4  1995     1   径向速度   0.472  15.36   4.2308\n"
     ]
    }
   ],
   "source": [
    "# 导入 Pandas 对象\n",
    "df = pd.read_csv('./dataset/行星数据.csv', index_col=0)\n",
    "# 可在输出 df 时，对其使用 .head() 方法，使其仅输出前五行\n",
    "print(df.head())"
   ],
   "metadata": {
    "collapsed": false,
    "ExecuteTime": {
     "end_time": "2024-11-13T08:50:04.627968Z",
     "start_time": "2024-11-13T08:50:04.617375Z"
    }
   },
   "id": "dbe536c62c97f32",
   "execution_count": 4
  },
  {
   "cell_type": "code",
   "outputs": [
    {
     "data": {
      "text/plain": "发现时间        2014\n发现数量           7\n观测方法      轨道亮度调制\n行星质量        25.0\n距地距离      8500.0\n轨道周期    730000.0\ndtype: object"
     },
     "execution_count": 5,
     "metadata": {},
     "output_type": "execute_result"
    }
   ],
   "source": [
    "df.max()"
   ],
   "metadata": {
    "collapsed": false,
    "ExecuteTime": {
     "end_time": "2024-11-13T08:50:30.344087Z",
     "start_time": "2024-11-13T08:50:30.335454Z"
    }
   },
   "id": "bca725271a188354",
   "execution_count": 5
  },
  {
   "cell_type": "code",
   "outputs": [
    {
     "data": {
      "text/plain": "              发现时间         发现数量        行星质量         距地距离           轨道周期\ncount  1035.000000  1035.000000  513.000000   808.000000     992.000000\nmean   2009.070531     1.785507    2.638161   264.069282    2002.917596\nstd       3.972567     1.240976    3.818617   733.116493   26014.728304\nmin    1989.000000     1.000000    0.003600     1.350000       0.090700\n25%    2007.000000     1.000000    0.229000    32.560000       5.442575\n50%    2010.000000     1.000000    1.260000    55.250000      39.979500\n75%    2012.000000     2.000000    3.040000   178.500000     526.005000\nmax    2014.000000     7.000000   25.000000  8500.000000  730000.000000",
      "text/html": "<div>\n<style scoped>\n    .dataframe tbody tr th:only-of-type {\n        vertical-align: middle;\n    }\n\n    .dataframe tbody tr th {\n        vertical-align: top;\n    }\n\n    .dataframe thead th {\n        text-align: right;\n    }\n</style>\n<table border=\"1\" class=\"dataframe\">\n  <thead>\n    <tr style=\"text-align: right;\">\n      <th></th>\n      <th>发现时间</th>\n      <th>发现数量</th>\n      <th>行星质量</th>\n      <th>距地距离</th>\n      <th>轨道周期</th>\n    </tr>\n  </thead>\n  <tbody>\n    <tr>\n      <th>count</th>\n      <td>1035.000000</td>\n      <td>1035.000000</td>\n      <td>513.000000</td>\n      <td>808.000000</td>\n      <td>992.000000</td>\n    </tr>\n    <tr>\n      <th>mean</th>\n      <td>2009.070531</td>\n      <td>1.785507</td>\n      <td>2.638161</td>\n      <td>264.069282</td>\n      <td>2002.917596</td>\n    </tr>\n    <tr>\n      <th>std</th>\n      <td>3.972567</td>\n      <td>1.240976</td>\n      <td>3.818617</td>\n      <td>733.116493</td>\n      <td>26014.728304</td>\n    </tr>\n    <tr>\n      <th>min</th>\n      <td>1989.000000</td>\n      <td>1.000000</td>\n      <td>0.003600</td>\n      <td>1.350000</td>\n      <td>0.090700</td>\n    </tr>\n    <tr>\n      <th>25%</th>\n      <td>2007.000000</td>\n      <td>1.000000</td>\n      <td>0.229000</td>\n      <td>32.560000</td>\n      <td>5.442575</td>\n    </tr>\n    <tr>\n      <th>50%</th>\n      <td>2010.000000</td>\n      <td>1.000000</td>\n      <td>1.260000</td>\n      <td>55.250000</td>\n      <td>39.979500</td>\n    </tr>\n    <tr>\n      <th>75%</th>\n      <td>2012.000000</td>\n      <td>2.000000</td>\n      <td>3.040000</td>\n      <td>178.500000</td>\n      <td>526.005000</td>\n    </tr>\n    <tr>\n      <th>max</th>\n      <td>2014.000000</td>\n      <td>7.000000</td>\n      <td>25.000000</td>\n      <td>8500.000000</td>\n      <td>730000.000000</td>\n    </tr>\n  </tbody>\n</table>\n</div>"
     },
     "execution_count": 6,
     "metadata": {},
     "output_type": "execute_result"
    }
   ],
   "source": [
    "df.describe()"
   ],
   "metadata": {
    "collapsed": false,
    "ExecuteTime": {
     "end_time": "2024-11-13T08:50:58.315276Z",
     "start_time": "2024-11-13T08:50:58.295370Z"
    }
   },
   "id": "182676722fa939af",
   "execution_count": 6
  },
  {
   "cell_type": "code",
   "outputs": [],
   "source": [
    "df = pd.read_csv('./dataset/泰坦尼克.csv', index_col=0)"
   ],
   "metadata": {
    "collapsed": false,
    "ExecuteTime": {
     "end_time": "2024-11-13T08:52:27.820152Z",
     "start_time": "2024-11-13T08:52:27.811687Z"
    }
   },
   "id": "7b95b3733aedbbaa",
   "execution_count": 7
  },
  {
   "cell_type": "code",
   "outputs": [
    {
     "data": {
      "text/plain": "  性别    年龄 船舱等级       费用  是否生还\n0  男  22.0   三等   7.2500     0\n1  女  38.0   一等  71.2833     1\n2  女  26.0   三等   7.9250     1\n3  女  35.0   一等  53.1000     1\n4  男  35.0   三等   8.0500     0",
      "text/html": "<div>\n<style scoped>\n    .dataframe tbody tr th:only-of-type {\n        vertical-align: middle;\n    }\n\n    .dataframe tbody tr th {\n        vertical-align: top;\n    }\n\n    .dataframe thead th {\n        text-align: right;\n    }\n</style>\n<table border=\"1\" class=\"dataframe\">\n  <thead>\n    <tr style=\"text-align: right;\">\n      <th></th>\n      <th>性别</th>\n      <th>年龄</th>\n      <th>船舱等级</th>\n      <th>费用</th>\n      <th>是否生还</th>\n    </tr>\n  </thead>\n  <tbody>\n    <tr>\n      <th>0</th>\n      <td>男</td>\n      <td>22.0</td>\n      <td>三等</td>\n      <td>7.2500</td>\n      <td>0</td>\n    </tr>\n    <tr>\n      <th>1</th>\n      <td>女</td>\n      <td>38.0</td>\n      <td>一等</td>\n      <td>71.2833</td>\n      <td>1</td>\n    </tr>\n    <tr>\n      <th>2</th>\n      <td>女</td>\n      <td>26.0</td>\n      <td>三等</td>\n      <td>7.9250</td>\n      <td>1</td>\n    </tr>\n    <tr>\n      <th>3</th>\n      <td>女</td>\n      <td>35.0</td>\n      <td>一等</td>\n      <td>53.1000</td>\n      <td>1</td>\n    </tr>\n    <tr>\n      <th>4</th>\n      <td>男</td>\n      <td>35.0</td>\n      <td>三等</td>\n      <td>8.0500</td>\n      <td>0</td>\n    </tr>\n  </tbody>\n</table>\n</div>"
     },
     "execution_count": 8,
     "metadata": {},
     "output_type": "execute_result"
    }
   ],
   "source": [
    "df.head()"
   ],
   "metadata": {
    "collapsed": false,
    "ExecuteTime": {
     "end_time": "2024-11-13T08:52:34.589571Z",
     "start_time": "2024-11-13T08:52:34.581549Z"
    }
   },
   "id": "deb8c9bc5e4edeb0",
   "execution_count": 8
  },
  {
   "cell_type": "code",
   "outputs": [
    {
     "data": {
      "text/plain": "        是否生还\n性别          \n女   0.742038\n男   0.188908",
      "text/html": "<div>\n<style scoped>\n    .dataframe tbody tr th:only-of-type {\n        vertical-align: middle;\n    }\n\n    .dataframe tbody tr th {\n        vertical-align: top;\n    }\n\n    .dataframe thead th {\n        text-align: right;\n    }\n</style>\n<table border=\"1\" class=\"dataframe\">\n  <thead>\n    <tr style=\"text-align: right;\">\n      <th></th>\n      <th>是否生还</th>\n    </tr>\n    <tr>\n      <th>性别</th>\n      <th></th>\n    </tr>\n  </thead>\n  <tbody>\n    <tr>\n      <th>女</th>\n      <td>0.742038</td>\n    </tr>\n    <tr>\n      <th>男</th>\n      <td>0.188908</td>\n    </tr>\n  </tbody>\n</table>\n</div>"
     },
     "execution_count": 9,
     "metadata": {},
     "output_type": "execute_result"
    }
   ],
   "source": [
    "# 一个特征：性别\n",
    "df.pivot_table('是否生还', index='性别')"
   ],
   "metadata": {
    "collapsed": false,
    "ExecuteTime": {
     "end_time": "2024-11-13T08:52:44.378856Z",
     "start_time": "2024-11-13T08:52:44.361378Z"
    }
   },
   "id": "d2e7574e68ba9a75",
   "execution_count": 9
  },
  {
   "cell_type": "code",
   "outputs": [
    {
     "data": {
      "text/plain": "船舱等级        一等        三等        二等\n性别                                \n女     0.968085  0.500000  0.921053\n男     0.368852  0.135447  0.157407",
      "text/html": "<div>\n<style scoped>\n    .dataframe tbody tr th:only-of-type {\n        vertical-align: middle;\n    }\n\n    .dataframe tbody tr th {\n        vertical-align: top;\n    }\n\n    .dataframe thead th {\n        text-align: right;\n    }\n</style>\n<table border=\"1\" class=\"dataframe\">\n  <thead>\n    <tr style=\"text-align: right;\">\n      <th>船舱等级</th>\n      <th>一等</th>\n      <th>三等</th>\n      <th>二等</th>\n    </tr>\n    <tr>\n      <th>性别</th>\n      <th></th>\n      <th></th>\n      <th></th>\n    </tr>\n  </thead>\n  <tbody>\n    <tr>\n      <th>女</th>\n      <td>0.968085</td>\n      <td>0.500000</td>\n      <td>0.921053</td>\n    </tr>\n    <tr>\n      <th>男</th>\n      <td>0.368852</td>\n      <td>0.135447</td>\n      <td>0.157407</td>\n    </tr>\n  </tbody>\n</table>\n</div>"
     },
     "execution_count": 10,
     "metadata": {},
     "output_type": "execute_result"
    }
   ],
   "source": [
    "# 两个特征：性别、船舱等级\n",
    "df.pivot_table('是否生还', index='性别'\n",
    "               , columns='船舱等级')"
   ],
   "metadata": {
    "collapsed": false,
    "ExecuteTime": {
     "end_time": "2024-11-13T08:53:00.124583Z",
     "start_time": "2024-11-13T08:53:00.099462Z"
    }
   },
   "id": "5c07896a881931e5",
   "execution_count": 10
  },
  {
   "cell_type": "code",
   "outputs": [],
   "source": [],
   "metadata": {
    "collapsed": false
   },
   "id": "8369ca5e0b9efdd6"
  }
 ],
 "metadata": {
  "kernelspec": {
   "display_name": "Python 3",
   "language": "python",
   "name": "python3"
  },
  "language_info": {
   "codemirror_mode": {
    "name": "ipython",
    "version": 2
   },
   "file_extension": ".py",
   "mimetype": "text/x-python",
   "name": "python",
   "nbconvert_exporter": "python",
   "pygments_lexer": "ipython2",
   "version": "2.7.6"
  }
 },
 "nbformat": 4,
 "nbformat_minor": 5
}
