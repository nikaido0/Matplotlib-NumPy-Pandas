{
 "cells": [
  {
   "cell_type": "code",
   "execution_count": 1,
   "id": "initial_id",
   "metadata": {
    "collapsed": true,
    "ExecuteTime": {
     "end_time": "2024-11-13T06:32:53.418098Z",
     "start_time": "2024-11-13T06:32:53.255577Z"
    }
   },
   "outputs": [],
   "source": [
    "import pandas as pd"
   ]
  },
  {
   "cell_type": "code",
   "outputs": [
    {
     "data": {
      "text/plain": "     age gender  num kun\n1号  10.0      女    1   是\n2号  20.0      男    2   是\n3号  30.0      男    3   是\n4号  40.0      女    4   否\n5号  50.0      男    5   是\n6号  60.0      女    6   是",
      "text/html": "<div>\n<style scoped>\n    .dataframe tbody tr th:only-of-type {\n        vertical-align: middle;\n    }\n\n    .dataframe tbody tr th {\n        vertical-align: top;\n    }\n\n    .dataframe thead th {\n        text-align: right;\n    }\n</style>\n<table border=\"1\" class=\"dataframe\">\n  <thead>\n    <tr style=\"text-align: right;\">\n      <th></th>\n      <th>age</th>\n      <th>gender</th>\n      <th>num</th>\n      <th>kun</th>\n    </tr>\n  </thead>\n  <tbody>\n    <tr>\n      <th>1号</th>\n      <td>10.0</td>\n      <td>女</td>\n      <td>1</td>\n      <td>是</td>\n    </tr>\n    <tr>\n      <th>2号</th>\n      <td>20.0</td>\n      <td>男</td>\n      <td>2</td>\n      <td>是</td>\n    </tr>\n    <tr>\n      <th>3号</th>\n      <td>30.0</td>\n      <td>男</td>\n      <td>3</td>\n      <td>是</td>\n    </tr>\n    <tr>\n      <th>4号</th>\n      <td>40.0</td>\n      <td>女</td>\n      <td>4</td>\n      <td>否</td>\n    </tr>\n    <tr>\n      <th>5号</th>\n      <td>50.0</td>\n      <td>男</td>\n      <td>5</td>\n      <td>是</td>\n    </tr>\n    <tr>\n      <th>6号</th>\n      <td>60.0</td>\n      <td>女</td>\n      <td>6</td>\n      <td>是</td>\n    </tr>\n  </tbody>\n</table>\n</div>"
     },
     "execution_count": 5,
     "metadata": {},
     "output_type": "execute_result"
    }
   ],
   "source": [
    "# 导入 Pandas 对象\n",
    "df = pd.read_csv('./dataset/Data.csv', index_col=0)\n",
    "df"
   ],
   "metadata": {
    "collapsed": false,
    "ExecuteTime": {
     "end_time": "2024-11-13T06:43:33.013741Z",
     "start_time": "2024-11-13T06:43:32.990164Z"
    }
   },
   "id": "bd39adb1cbdc9d96",
   "execution_count": 5
  },
  {
   "cell_type": "code",
   "outputs": [
    {
     "name": "stdout",
     "output_type": "stream",
     "text": [
      "{'encoding': 'UTF-8-SIG', 'confidence': 1.0, 'language': ''}\n"
     ]
    }
   ],
   "source": [
    "import chardet\n",
    "\n",
    "# 检测文件的编码\n",
    "with open('./dataset/Data.csv', 'rb') as f:\n",
    "    result = chardet.detect(f.read())\n",
    "\n",
    "print(result)\n"
   ],
   "metadata": {
    "collapsed": false,
    "ExecuteTime": {
     "end_time": "2024-11-13T06:43:30.056765Z",
     "start_time": "2024-11-13T06:43:30.049186Z"
    }
   },
   "id": "16c40c4338e49f4b",
   "execution_count": 4
  },
  {
   "cell_type": "code",
   "outputs": [
    {
     "data": {
      "text/plain": "array([[10.0, '女', 1, '是'],\n       [20.0, '男', 2, '是'],\n       [30.0, '男', 3, '是'],\n       [40.0, '女', 4, '否'],\n       [50.0, '男', 5, '是'],\n       [60.0, '女', 6, '是']], dtype=object)"
     },
     "execution_count": 6,
     "metadata": {},
     "output_type": "execute_result"
    }
   ],
   "source": [
    "# 提取纯数组\n",
    "arr = df.values\n",
    "arr"
   ],
   "metadata": {
    "collapsed": false,
    "ExecuteTime": {
     "end_time": "2024-11-13T08:45:14.675318Z",
     "start_time": "2024-11-13T08:45:14.670007Z"
    }
   },
   "id": "e2918e7a4c110866",
   "execution_count": 6
  },
  {
   "cell_type": "code",
   "outputs": [],
   "source": [],
   "metadata": {
    "collapsed": false
   },
   "id": "3b22b0945ea937a5"
  }
 ],
 "metadata": {
  "kernelspec": {
   "display_name": "Python 3",
   "language": "python",
   "name": "python3"
  },
  "language_info": {
   "codemirror_mode": {
    "name": "ipython",
    "version": 2
   },
   "file_extension": ".py",
   "mimetype": "text/x-python",
   "name": "python",
   "nbconvert_exporter": "python",
   "pygments_lexer": "ipython2",
   "version": "2.7.6"
  }
 },
 "nbformat": 4,
 "nbformat_minor": 5
}
