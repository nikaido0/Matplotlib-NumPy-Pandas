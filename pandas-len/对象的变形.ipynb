{
 "cells": [
  {
   "cell_type": "code",
   "execution_count": 1,
   "id": "initial_id",
   "metadata": {
    "collapsed": true,
    "ExecuteTime": {
     "end_time": "2024-11-13T06:16:50.424110Z",
     "start_time": "2024-11-13T06:16:50.213761Z"
    }
   },
   "outputs": [],
   "source": [
    "import pandas as pd"
   ]
  },
  {
   "cell_type": "code",
   "outputs": [
    {
     "data": {
      "text/plain": "   1 号 2 号 3 号 4 号\n年龄  53  64  72  82\n性别   女   男   男   女",
      "text/html": "<div>\n<style scoped>\n    .dataframe tbody tr th:only-of-type {\n        vertical-align: middle;\n    }\n\n    .dataframe tbody tr th {\n        vertical-align: top;\n    }\n\n    .dataframe thead th {\n        text-align: right;\n    }\n</style>\n<table border=\"1\" class=\"dataframe\">\n  <thead>\n    <tr style=\"text-align: right;\">\n      <th></th>\n      <th>1 号</th>\n      <th>2 号</th>\n      <th>3 号</th>\n      <th>4 号</th>\n    </tr>\n  </thead>\n  <tbody>\n    <tr>\n      <th>年龄</th>\n      <td>53</td>\n      <td>64</td>\n      <td>72</td>\n      <td>82</td>\n    </tr>\n    <tr>\n      <th>性别</th>\n      <td>女</td>\n      <td>男</td>\n      <td>男</td>\n      <td>女</td>\n    </tr>\n  </tbody>\n</table>\n</div>"
     },
     "execution_count": 2,
     "metadata": {},
     "output_type": "execute_result"
    }
   ],
   "source": [
    "# 创建畸形 df\n",
    "v = [[53, 64, 72, 82], ['女'\n",
    "    ,\n",
    "                        '男'\n",
    "    ,\n",
    "                        '男'\n",
    "    ,\n",
    "                        '女']]\n",
    "i = ['年龄'\n",
    "    ,\n",
    "     '性别']\n",
    "c = ['1 号'\n",
    "    , '2 号'\n",
    "    , '3 号'\n",
    "    , '4 号']\n",
    "df = pd.DataFrame(v, index=i, columns=c)\n",
    "df"
   ],
   "metadata": {
    "collapsed": false,
    "ExecuteTime": {
     "end_time": "2024-11-13T06:16:56.917785Z",
     "start_time": "2024-11-13T06:16:56.906855Z"
    }
   },
   "id": "5ac614b2cfb2940",
   "execution_count": 2
  },
  {
   "cell_type": "code",
   "outputs": [
    {
     "data": {
      "text/plain": "     年龄 性别\n1 号  53  女\n2 号  64  男\n3 号  72  男\n4 号  82  女",
      "text/html": "<div>\n<style scoped>\n    .dataframe tbody tr th:only-of-type {\n        vertical-align: middle;\n    }\n\n    .dataframe tbody tr th {\n        vertical-align: top;\n    }\n\n    .dataframe thead th {\n        text-align: right;\n    }\n</style>\n<table border=\"1\" class=\"dataframe\">\n  <thead>\n    <tr style=\"text-align: right;\">\n      <th></th>\n      <th>年龄</th>\n      <th>性别</th>\n    </tr>\n  </thead>\n  <tbody>\n    <tr>\n      <th>1 号</th>\n      <td>53</td>\n      <td>女</td>\n    </tr>\n    <tr>\n      <th>2 号</th>\n      <td>64</td>\n      <td>男</td>\n    </tr>\n    <tr>\n      <th>3 号</th>\n      <td>72</td>\n      <td>男</td>\n    </tr>\n    <tr>\n      <th>4 号</th>\n      <td>82</td>\n      <td>女</td>\n    </tr>\n  </tbody>\n</table>\n</div>"
     },
     "execution_count": 3,
     "metadata": {},
     "output_type": "execute_result"
    }
   ],
   "source": [
    "# 转置\n",
    "df = df.T\n",
    "df"
   ],
   "metadata": {
    "collapsed": false,
    "ExecuteTime": {
     "end_time": "2024-11-13T06:17:05.725909Z",
     "start_time": "2024-11-13T06:17:05.718963Z"
    }
   },
   "id": "84c43e90393e10f2",
   "execution_count": 3
  },
  {
   "cell_type": "markdown",
   "source": [
    "df.iloc[:, ::-1] 中的 : 表示选择所有行。\n",
    "::-1 是 切片操作，它表示“从最后一列到第一列”进行逆序操作。\n",
    "- 第一个冒号 : 表示选择所有行（行不变）。\n",
    "- 第二个 ::-1 表示列从后往前选择，即逆序"
   ],
   "metadata": {
    "collapsed": false
   },
   "id": "bbda36f35c4c2b50"
  },
  {
   "cell_type": "code",
   "outputs": [
    {
     "data": {
      "text/plain": "    性别  年龄\n1 号  女  53\n2 号  男  64\n3 号  男  72\n4 号  女  82",
      "text/html": "<div>\n<style scoped>\n    .dataframe tbody tr th:only-of-type {\n        vertical-align: middle;\n    }\n\n    .dataframe tbody tr th {\n        vertical-align: top;\n    }\n\n    .dataframe thead th {\n        text-align: right;\n    }\n</style>\n<table border=\"1\" class=\"dataframe\">\n  <thead>\n    <tr style=\"text-align: right;\">\n      <th></th>\n      <th>性别</th>\n      <th>年龄</th>\n    </tr>\n  </thead>\n  <tbody>\n    <tr>\n      <th>1 号</th>\n      <td>女</td>\n      <td>53</td>\n    </tr>\n    <tr>\n      <th>2 号</th>\n      <td>男</td>\n      <td>64</td>\n    </tr>\n    <tr>\n      <th>3 号</th>\n      <td>男</td>\n      <td>72</td>\n    </tr>\n    <tr>\n      <th>4 号</th>\n      <td>女</td>\n      <td>82</td>\n    </tr>\n  </tbody>\n</table>\n</div>"
     },
     "execution_count": 4,
     "metadata": {},
     "output_type": "execute_result"
    }
   ],
   "source": [
    "# 左右翻转\n",
    "df = df.iloc[:, :: -1]\n",
    "df"
   ],
   "metadata": {
    "collapsed": false,
    "ExecuteTime": {
     "end_time": "2024-11-13T06:17:20.594465Z",
     "start_time": "2024-11-13T06:17:20.586522Z"
    }
   },
   "id": "c9ed27a37e06a93c",
   "execution_count": 4
  },
  {
   "cell_type": "code",
   "outputs": [
    {
     "data": {
      "text/plain": "    性别  年龄\n4 号  女  82\n3 号  男  72\n2 号  男  64\n1 号  女  53",
      "text/html": "<div>\n<style scoped>\n    .dataframe tbody tr th:only-of-type {\n        vertical-align: middle;\n    }\n\n    .dataframe tbody tr th {\n        vertical-align: top;\n    }\n\n    .dataframe thead th {\n        text-align: right;\n    }\n</style>\n<table border=\"1\" class=\"dataframe\">\n  <thead>\n    <tr style=\"text-align: right;\">\n      <th></th>\n      <th>性别</th>\n      <th>年龄</th>\n    </tr>\n  </thead>\n  <tbody>\n    <tr>\n      <th>4 号</th>\n      <td>女</td>\n      <td>82</td>\n    </tr>\n    <tr>\n      <th>3 号</th>\n      <td>男</td>\n      <td>72</td>\n    </tr>\n    <tr>\n      <th>2 号</th>\n      <td>男</td>\n      <td>64</td>\n    </tr>\n    <tr>\n      <th>1 号</th>\n      <td>女</td>\n      <td>53</td>\n    </tr>\n  </tbody>\n</table>\n</div>"
     },
     "execution_count": 5,
     "metadata": {},
     "output_type": "execute_result"
    }
   ],
   "source": [
    "# 上下翻转\n",
    "df = df.iloc[:: -1, :]\n",
    "df"
   ],
   "metadata": {
    "collapsed": false,
    "ExecuteTime": {
     "end_time": "2024-11-13T06:17:31.722452Z",
     "start_time": "2024-11-13T06:17:31.716951Z"
    }
   },
   "id": "78f1159ed25a80dc",
   "execution_count": 5
  },
  {
   "cell_type": "code",
   "outputs": [
    {
     "data": {
      "text/plain": "(1 号    10\n 2 号    20\n 3 号    30\n 4 号    40\n dtype: int64,\n 1 号    女\n 2 号    男\n 3 号    男\n 4 号    女\n dtype: object,\n 1 号    1\n 2 号    2\n 3 号    3\n 4 号    4\n dtype: int64)"
     },
     "execution_count": 6,
     "metadata": {},
     "output_type": "execute_result"
    }
   ],
   "source": [
    "# 数组法创建 sr\n",
    "i = ['1 号'\n",
    "    , '2 号'\n",
    "    , '3 号'\n",
    "    , '4 号']\n",
    "v1 = [10, 20, 30, 40]\n",
    "v2 = ['女'\n",
    "    ,\n",
    "      '男'\n",
    "    ,\n",
    "      '男'\n",
    "    ,\n",
    "      '女']\n",
    "v3 = [1, 2, 3, 4]\n",
    "sr1 = pd.Series(v1, index=i)\n",
    "sr2 = pd.Series(v2, index=i)\n",
    "sr3 = pd.Series(v3, index=i)\n",
    "sr1, sr2, sr3"
   ],
   "metadata": {
    "collapsed": false,
    "ExecuteTime": {
     "end_time": "2024-11-13T06:19:18.185325Z",
     "start_time": "2024-11-13T06:19:18.179572Z"
    }
   },
   "id": "b6f53a7d5873756f",
   "execution_count": 6
  },
  {
   "cell_type": "code",
   "outputs": [
    {
     "data": {
      "text/plain": "     年龄 性别\n1 号  10  女\n2 号  20  男\n3 号  30  男\n4 号  40  女",
      "text/html": "<div>\n<style scoped>\n    .dataframe tbody tr th:only-of-type {\n        vertical-align: middle;\n    }\n\n    .dataframe tbody tr th {\n        vertical-align: top;\n    }\n\n    .dataframe thead th {\n        text-align: right;\n    }\n</style>\n<table border=\"1\" class=\"dataframe\">\n  <thead>\n    <tr style=\"text-align: right;\">\n      <th></th>\n      <th>年龄</th>\n      <th>性别</th>\n    </tr>\n  </thead>\n  <tbody>\n    <tr>\n      <th>1 号</th>\n      <td>10</td>\n      <td>女</td>\n    </tr>\n    <tr>\n      <th>2 号</th>\n      <td>20</td>\n      <td>男</td>\n    </tr>\n    <tr>\n      <th>3 号</th>\n      <td>30</td>\n      <td>男</td>\n    </tr>\n    <tr>\n      <th>4 号</th>\n      <td>40</td>\n      <td>女</td>\n    </tr>\n  </tbody>\n</table>\n</div>"
     },
     "execution_count": 7,
     "metadata": {},
     "output_type": "execute_result"
    }
   ],
   "source": [
    "# 字典法创建 df\n",
    "df = pd.DataFrame({'年龄': sr1, '性别': sr2})\n",
    "df"
   ],
   "metadata": {
    "collapsed": false,
    "ExecuteTime": {
     "end_time": "2024-11-13T06:19:41.657114Z",
     "start_time": "2024-11-13T06:19:41.650446Z"
    }
   },
   "id": "5cc841734be02196",
   "execution_count": 7
  },
  {
   "cell_type": "code",
   "outputs": [
    {
     "data": {
      "text/plain": "     年龄 性别  牌照\n1 号  10  女   1\n2 号  20  男   2\n3 号  30  男   3\n4 号  40  女   4",
      "text/html": "<div>\n<style scoped>\n    .dataframe tbody tr th:only-of-type {\n        vertical-align: middle;\n    }\n\n    .dataframe tbody tr th {\n        vertical-align: top;\n    }\n\n    .dataframe thead th {\n        text-align: right;\n    }\n</style>\n<table border=\"1\" class=\"dataframe\">\n  <thead>\n    <tr style=\"text-align: right;\">\n      <th></th>\n      <th>年龄</th>\n      <th>性别</th>\n      <th>牌照</th>\n    </tr>\n  </thead>\n  <tbody>\n    <tr>\n      <th>1 号</th>\n      <td>10</td>\n      <td>女</td>\n      <td>1</td>\n    </tr>\n    <tr>\n      <th>2 号</th>\n      <td>20</td>\n      <td>男</td>\n      <td>2</td>\n    </tr>\n    <tr>\n      <th>3 号</th>\n      <td>30</td>\n      <td>男</td>\n      <td>3</td>\n    </tr>\n    <tr>\n      <th>4 号</th>\n      <td>40</td>\n      <td>女</td>\n      <td>4</td>\n    </tr>\n  </tbody>\n</table>\n</div>"
     },
     "execution_count": 8,
     "metadata": {},
     "output_type": "execute_result"
    }
   ],
   "source": [
    "# 把sr 并入 df 中\n",
    "df['牌照'] = sr3\n",
    "df"
   ],
   "metadata": {
    "collapsed": false,
    "ExecuteTime": {
     "end_time": "2024-11-13T06:19:52.260117Z",
     "start_time": "2024-11-13T06:19:52.252671Z"
    }
   },
   "id": "2cda2b9d04d295ed",
   "execution_count": 8
  },
  {
   "cell_type": "code",
   "outputs": [
    {
     "data": {
      "text/plain": "1 号    10\n2 号    20\n3 号    30\n4 号    40\nName: 年龄, dtype: int64"
     },
     "execution_count": 9,
     "metadata": {},
     "output_type": "execute_result"
    }
   ],
   "source": [
    "# 把df['年龄']分离成 sr4\n",
    "sr4 = df['年龄']\n",
    "sr4"
   ],
   "metadata": {
    "collapsed": false,
    "ExecuteTime": {
     "end_time": "2024-11-13T06:20:14.222381Z",
     "start_time": "2024-11-13T06:20:14.217118Z"
    }
   },
   "id": "65ce836c80799593",
   "execution_count": 9
  },
  {
   "cell_type": "markdown",
   "source": [
    "Pandas 中有一个 pd.concat()函数，与 np.concatenate()函数语法相似"
   ],
   "metadata": {
    "collapsed": false
   },
   "id": "70f62f69307bb2bd"
  },
  {
   "cell_type": "code",
   "outputs": [
    {
     "data": {
      "text/plain": "(1 号    10\n 2 号    20\n 3 号    30\n 4 号    40\n dtype: int64,\n 4 号    40\n 5 号    50\n 6 号    60\n dtype: int64)"
     },
     "execution_count": 10,
     "metadata": {},
     "output_type": "execute_result"
    }
   ],
   "source": [
    "# 创建 sr1 和sr2\n",
    "v1 = [10, 20, 30, 40]\n",
    "v2 = [40, 50, 60]\n",
    "k1 = ['1 号'\n",
    "    , '2 号'\n",
    "    , '3 号'\n",
    "    , '4 号']\n",
    "k2 = ['4 号'\n",
    "    , '5 号'\n",
    "    , '6 号']\n",
    "sr1 = pd.Series(v1, index=k1)\n",
    "sr2 = pd.Series(v2, index=k2)\n",
    "sr1, sr2"
   ],
   "metadata": {
    "collapsed": false,
    "ExecuteTime": {
     "end_time": "2024-11-13T06:20:37.137019Z",
     "start_time": "2024-11-13T06:20:37.132469Z"
    }
   },
   "id": "5f119e33f7e3e7cf",
   "execution_count": 10
  },
  {
   "cell_type": "code",
   "outputs": [
    {
     "data": {
      "text/plain": "1 号    10\n2 号    20\n3 号    30\n4 号    40\n4 号    40\n5 号    50\n6 号    60\ndtype: int64"
     },
     "execution_count": 11,
     "metadata": {},
     "output_type": "execute_result"
    }
   ],
   "source": [
    " # 合并\n",
    "pd.concat([sr1, sr2])"
   ],
   "metadata": {
    "collapsed": false,
    "ExecuteTime": {
     "end_time": "2024-11-13T06:20:44.435422Z",
     "start_time": "2024-11-13T06:20:44.429808Z"
    }
   },
   "id": "35c852343e619dac",
   "execution_count": 11
  },
  {
   "cell_type": "markdown",
   "source": [
    "一维对象与二维对象的合并，即可理解为：给二维对象加上一列或者一行"
   ],
   "metadata": {
    "collapsed": false
   },
   "id": "e7c69a4d874a46d7"
  },
  {
   "cell_type": "code",
   "outputs": [
    {
     "data": {
      "text/plain": "(1 号    10\n 2 号    20\n 3 号    30\n dtype: int64,\n 1 号    女\n 2 号    男\n 3 号    男\n dtype: object)"
     },
     "execution_count": 12,
     "metadata": {},
     "output_type": "execute_result"
    }
   ],
   "source": [
    " # 创建 sr1 与sr2\n",
    "v1 = [10, 20, 30]\n",
    "v2 = ['女'\n",
    "    ,\n",
    "      '男'\n",
    "    ,\n",
    "      '男']\n",
    "sr1 = pd.Series(v1, index=['1 号'\n",
    "    , '2 号'\n",
    "    , '3 号'])\n",
    "sr2 = pd.Series(v2, index=['1 号'\n",
    "    , '2 号'\n",
    "    , '3 号'])\n",
    "sr1, sr2"
   ],
   "metadata": {
    "collapsed": false,
    "ExecuteTime": {
     "end_time": "2024-11-13T06:21:46.523498Z",
     "start_time": "2024-11-13T06:21:46.516574Z"
    }
   },
   "id": "722da09c43bc8a51",
   "execution_count": 12
  },
  {
   "cell_type": "code",
   "outputs": [
    {
     "data": {
      "text/plain": "     年龄 性别\n1 号  10  女\n2 号  20  男\n3 号  30  男",
      "text/html": "<div>\n<style scoped>\n    .dataframe tbody tr th:only-of-type {\n        vertical-align: middle;\n    }\n\n    .dataframe tbody tr th {\n        vertical-align: top;\n    }\n\n    .dataframe thead th {\n        text-align: right;\n    }\n</style>\n<table border=\"1\" class=\"dataframe\">\n  <thead>\n    <tr style=\"text-align: right;\">\n      <th></th>\n      <th>年龄</th>\n      <th>性别</th>\n    </tr>\n  </thead>\n  <tbody>\n    <tr>\n      <th>1 号</th>\n      <td>10</td>\n      <td>女</td>\n    </tr>\n    <tr>\n      <th>2 号</th>\n      <td>20</td>\n      <td>男</td>\n    </tr>\n    <tr>\n      <th>3 号</th>\n      <td>30</td>\n      <td>男</td>\n    </tr>\n  </tbody>\n</table>\n</div>"
     },
     "execution_count": 13,
     "metadata": {},
     "output_type": "execute_result"
    }
   ],
   "source": [
    "# 创建 df\n",
    "df = pd.DataFrame({'年龄': sr1, '性别': sr2})\n",
    "df"
   ],
   "metadata": {
    "collapsed": false,
    "ExecuteTime": {
     "end_time": "2024-11-13T06:21:56.463137Z",
     "start_time": "2024-11-13T06:21:56.456004Z"
    }
   },
   "id": "9ff7c53cefef0116",
   "execution_count": 13
  },
  {
   "cell_type": "code",
   "outputs": [
    {
     "data": {
      "text/plain": "     年龄 性别  牌照\n1 号  10  女   1\n2 号  20  男   2\n3 号  30  男   3",
      "text/html": "<div>\n<style scoped>\n    .dataframe tbody tr th:only-of-type {\n        vertical-align: middle;\n    }\n\n    .dataframe tbody tr th {\n        vertical-align: top;\n    }\n\n    .dataframe thead th {\n        text-align: right;\n    }\n</style>\n<table border=\"1\" class=\"dataframe\">\n  <thead>\n    <tr style=\"text-align: right;\">\n      <th></th>\n      <th>年龄</th>\n      <th>性别</th>\n      <th>牌照</th>\n    </tr>\n  </thead>\n  <tbody>\n    <tr>\n      <th>1 号</th>\n      <td>10</td>\n      <td>女</td>\n      <td>1</td>\n    </tr>\n    <tr>\n      <th>2 号</th>\n      <td>20</td>\n      <td>男</td>\n      <td>2</td>\n    </tr>\n    <tr>\n      <th>3 号</th>\n      <td>30</td>\n      <td>男</td>\n      <td>3</td>\n    </tr>\n  </tbody>\n</table>\n</div>"
     },
     "execution_count": 14,
     "metadata": {},
     "output_type": "execute_result"
    }
   ],
   "source": [
    "# 加上一列\n",
    "df['牌照'] = [1, 2, 3]\n",
    "df"
   ],
   "metadata": {
    "collapsed": false,
    "ExecuteTime": {
     "end_time": "2024-11-13T06:22:14.158713Z",
     "start_time": "2024-11-13T06:22:14.152034Z"
    }
   },
   "id": "5dcb3d17c86ddeb8",
   "execution_count": 14
  },
  {
   "cell_type": "code",
   "outputs": [
    {
     "data": {
      "text/plain": "     年龄 性别  牌照\n1 号  10  女   1\n2 号  20  男   2\n3 号  30  男   3\n4 号  40  女   4",
      "text/html": "<div>\n<style scoped>\n    .dataframe tbody tr th:only-of-type {\n        vertical-align: middle;\n    }\n\n    .dataframe tbody tr th {\n        vertical-align: top;\n    }\n\n    .dataframe thead th {\n        text-align: right;\n    }\n</style>\n<table border=\"1\" class=\"dataframe\">\n  <thead>\n    <tr style=\"text-align: right;\">\n      <th></th>\n      <th>年龄</th>\n      <th>性别</th>\n      <th>牌照</th>\n    </tr>\n  </thead>\n  <tbody>\n    <tr>\n      <th>1 号</th>\n      <td>10</td>\n      <td>女</td>\n      <td>1</td>\n    </tr>\n    <tr>\n      <th>2 号</th>\n      <td>20</td>\n      <td>男</td>\n      <td>2</td>\n    </tr>\n    <tr>\n      <th>3 号</th>\n      <td>30</td>\n      <td>男</td>\n      <td>3</td>\n    </tr>\n    <tr>\n      <th>4 号</th>\n      <td>40</td>\n      <td>女</td>\n      <td>4</td>\n    </tr>\n  </tbody>\n</table>\n</div>"
     },
     "execution_count": 15,
     "metadata": {},
     "output_type": "execute_result"
    }
   ],
   "source": [
    "# 加上一行\n",
    "df.loc['4 号'] = [40,\n",
    "                  '女'\n",
    "    , 4]\n",
    "df"
   ],
   "metadata": {
    "collapsed": false,
    "ExecuteTime": {
     "end_time": "2024-11-13T06:23:01.018473Z",
     "start_time": "2024-11-13T06:23:01.012366Z"
    }
   },
   "id": "a578e7c6370b2056",
   "execution_count": 15
  },
  {
   "cell_type": "code",
   "outputs": [
    {
     "data": {
      "text/plain": "(     年龄 性别\n 1 号  10  女\n 2 号  20  男\n 3 号  30  男\n 4 号  40  女,\n      牌照 ikun\n 1 号   1    是\n 2 号   2    是\n 3 号   3    是\n 4 号   4    否,\n      年龄 性别  牌照 ikun\n 5 号  50  男   5    是\n 6 号  60  女   6    是)"
     },
     "execution_count": 16,
     "metadata": {},
     "output_type": "execute_result"
    }
   ],
   "source": [
    "# 设定 df1、df2、df3\n",
    "v1 = [[10,\n",
    "       '女'], [20,\n",
    "               '男'], [30,\n",
    "                       '男'], [40,\n",
    "                               '女']]\n",
    "v2 = [[1,\n",
    "       '是'], [2,\n",
    "               '是'], [3,\n",
    "                       '是'], [4,\n",
    "                               '否']]\n",
    "v3 = [[50,\n",
    "       '男'\n",
    "          , 5,\n",
    "       '是'], [60,\n",
    "               '女'\n",
    "          , 6,\n",
    "               '是']]\n",
    "i1 = ['1 号'\n",
    "    , '2 号'\n",
    "    , '3 号'\n",
    "    , '4 号']\n",
    "i2 = ['1 号'\n",
    "    , '2 号'\n",
    "    , '3 号'\n",
    "    , '4 号']\n",
    "i3 = ['5 号'\n",
    "    , '6 号']\n",
    "c1 = ['年龄'\n",
    "    ,\n",
    "      '性别']\n",
    "c2 = ['牌照'\n",
    "    , 'ikun']\n",
    "c3 = ['年龄'\n",
    "    ,\n",
    "      '性别'\n",
    "    ,\n",
    "      '牌照'\n",
    "    , 'ikun']\n",
    "df1 = pd.DataFrame(v1, index=i1, columns=c1)\n",
    "df2 = pd.DataFrame(v2, index=i2, columns=c2)\n",
    "df3 = pd.DataFrame(v3, index=i3, columns=c3)\n",
    "df1, df2, df3"
   ],
   "metadata": {
    "collapsed": false,
    "ExecuteTime": {
     "end_time": "2024-11-13T06:23:15.906367Z",
     "start_time": "2024-11-13T06:23:15.897473Z"
    }
   },
   "id": "fa0199493028a67f",
   "execution_count": 16
  },
  {
   "cell_type": "code",
   "outputs": [
    {
     "data": {
      "text/plain": "     年龄 性别  牌照 ikun\n1 号  10  女   1    是\n2 号  20  男   2    是\n3 号  30  男   3    是\n4 号  40  女   4    否",
      "text/html": "<div>\n<style scoped>\n    .dataframe tbody tr th:only-of-type {\n        vertical-align: middle;\n    }\n\n    .dataframe tbody tr th {\n        vertical-align: top;\n    }\n\n    .dataframe thead th {\n        text-align: right;\n    }\n</style>\n<table border=\"1\" class=\"dataframe\">\n  <thead>\n    <tr style=\"text-align: right;\">\n      <th></th>\n      <th>年龄</th>\n      <th>性别</th>\n      <th>牌照</th>\n      <th>ikun</th>\n    </tr>\n  </thead>\n  <tbody>\n    <tr>\n      <th>1 号</th>\n      <td>10</td>\n      <td>女</td>\n      <td>1</td>\n      <td>是</td>\n    </tr>\n    <tr>\n      <th>2 号</th>\n      <td>20</td>\n      <td>男</td>\n      <td>2</td>\n      <td>是</td>\n    </tr>\n    <tr>\n      <th>3 号</th>\n      <td>30</td>\n      <td>男</td>\n      <td>3</td>\n      <td>是</td>\n    </tr>\n    <tr>\n      <th>4 号</th>\n      <td>40</td>\n      <td>女</td>\n      <td>4</td>\n      <td>否</td>\n    </tr>\n  </tbody>\n</table>\n</div>"
     },
     "execution_count": 17,
     "metadata": {},
     "output_type": "execute_result"
    }
   ],
   "source": [
    "# 合并列对象（添加列特征）\n",
    "df = pd.concat([df1, df2], axis=1)\n",
    "df"
   ],
   "metadata": {
    "collapsed": false,
    "ExecuteTime": {
     "end_time": "2024-11-13T06:23:29.699403Z",
     "start_time": "2024-11-13T06:23:29.693074Z"
    }
   },
   "id": "364981b078d46811",
   "execution_count": 17
  },
  {
   "cell_type": "code",
   "outputs": [
    {
     "data": {
      "text/plain": "     年龄 性别  牌照 ikun\n1 号  10  女   1    是\n2 号  20  男   2    是\n3 号  30  男   3    是\n4 号  40  女   4    否\n5 号  50  男   5    是\n6 号  60  女   6    是",
      "text/html": "<div>\n<style scoped>\n    .dataframe tbody tr th:only-of-type {\n        vertical-align: middle;\n    }\n\n    .dataframe tbody tr th {\n        vertical-align: top;\n    }\n\n    .dataframe thead th {\n        text-align: right;\n    }\n</style>\n<table border=\"1\" class=\"dataframe\">\n  <thead>\n    <tr style=\"text-align: right;\">\n      <th></th>\n      <th>年龄</th>\n      <th>性别</th>\n      <th>牌照</th>\n      <th>ikun</th>\n    </tr>\n  </thead>\n  <tbody>\n    <tr>\n      <th>1 号</th>\n      <td>10</td>\n      <td>女</td>\n      <td>1</td>\n      <td>是</td>\n    </tr>\n    <tr>\n      <th>2 号</th>\n      <td>20</td>\n      <td>男</td>\n      <td>2</td>\n      <td>是</td>\n    </tr>\n    <tr>\n      <th>3 号</th>\n      <td>30</td>\n      <td>男</td>\n      <td>3</td>\n      <td>是</td>\n    </tr>\n    <tr>\n      <th>4 号</th>\n      <td>40</td>\n      <td>女</td>\n      <td>4</td>\n      <td>否</td>\n    </tr>\n    <tr>\n      <th>5 号</th>\n      <td>50</td>\n      <td>男</td>\n      <td>5</td>\n      <td>是</td>\n    </tr>\n    <tr>\n      <th>6 号</th>\n      <td>60</td>\n      <td>女</td>\n      <td>6</td>\n      <td>是</td>\n    </tr>\n  </tbody>\n</table>\n</div>"
     },
     "execution_count": 18,
     "metadata": {},
     "output_type": "execute_result"
    }
   ],
   "source": [
    "# 合并行对象（添加行个体）\n",
    "df = pd.concat([df, df3])\n",
    "df"
   ],
   "metadata": {
    "collapsed": false,
    "ExecuteTime": {
     "end_time": "2024-11-13T06:23:57.153614Z",
     "start_time": "2024-11-13T06:23:57.148187Z"
    }
   },
   "id": "bd5690950946dc49",
   "execution_count": 18
  },
  {
   "cell_type": "code",
   "outputs": [],
   "source": [],
   "metadata": {
    "collapsed": false
   },
   "id": "29318d35d4405367"
  }
 ],
 "metadata": {
  "kernelspec": {
   "display_name": "Python 3",
   "language": "python",
   "name": "python3"
  },
  "language_info": {
   "codemirror_mode": {
    "name": "ipython",
    "version": 2
   },
   "file_extension": ".py",
   "mimetype": "text/x-python",
   "name": "python",
   "nbconvert_exporter": "python",
   "pygments_lexer": "ipython2",
   "version": "2.7.6"
  }
 },
 "nbformat": 4,
 "nbformat_minor": 5
}
