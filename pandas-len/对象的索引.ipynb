{
 "cells": [
  {
   "cell_type": "code",
   "execution_count": 1,
   "id": "initial_id",
   "metadata": {
    "collapsed": true,
    "ExecuteTime": {
     "end_time": "2024-11-13T06:06:09.599370Z",
     "start_time": "2024-11-13T06:06:09.402134Z"
    }
   },
   "outputs": [],
   "source": [
    "import pandas as pd"
   ]
  },
  {
   "cell_type": "code",
   "outputs": [
    {
     "data": {
      "text/plain": "1 号    53\n2 号    64\n3 号    72\n4 号    82\ndtype: int64"
     },
     "execution_count": 2,
     "metadata": {},
     "output_type": "execute_result"
    }
   ],
   "source": [
    "# 创建 sr\n",
    "v = [53, 64, 72, 82]\n",
    "k = ['1 号'\n",
    "    , '2 号'\n",
    "    , '3 号'\n",
    "    , '4 号']\n",
    "sr = pd.Series(v, index=k)\n",
    "sr"
   ],
   "metadata": {
    "collapsed": false,
    "ExecuteTime": {
     "end_time": "2024-11-13T06:06:17.069206Z",
     "start_time": "2024-11-13T06:06:17.058936Z"
    }
   },
   "id": "9d86d8619cbc320a",
   "execution_count": 2
  },
  {
   "cell_type": "markdown",
   "source": [
    "索引器 loc（显式）与 iloc（隐式）"
   ],
   "metadata": {
    "collapsed": false
   },
   "id": "aa3ef89519d39e3a"
  },
  {
   "cell_type": "code",
   "outputs": [
    {
     "data": {
      "text/plain": "72"
     },
     "execution_count": 3,
     "metadata": {},
     "output_type": "execute_result"
    }
   ],
   "source": [
    "# 访问元素\n",
    "sr.loc['3 号']"
   ],
   "metadata": {
    "collapsed": false,
    "ExecuteTime": {
     "end_time": "2024-11-13T06:07:55.750367Z",
     "start_time": "2024-11-13T06:07:55.745900Z"
    }
   },
   "id": "2981b4d325f04fda",
   "execution_count": 3
  },
  {
   "cell_type": "code",
   "outputs": [
    {
     "data": {
      "text/plain": "1 号    53\n3 号    72\ndtype: int64"
     },
     "execution_count": 4,
     "metadata": {},
     "output_type": "execute_result"
    }
   ],
   "source": [
    "# 花式索引\n",
    "sr.loc[['1 号'\n",
    "    ,\n",
    "        '3 号']]"
   ],
   "metadata": {
    "collapsed": false,
    "ExecuteTime": {
     "end_time": "2024-11-13T06:08:07.767224Z",
     "start_time": "2024-11-13T06:08:07.759832Z"
    }
   },
   "id": "a311a2a927bf0f9e",
   "execution_count": 4
  },
  {
   "cell_type": "code",
   "outputs": [
    {
     "data": {
      "text/plain": "1 号     53\n2 号     64\n3 号    100\n4 号     82\ndtype: int64"
     },
     "execution_count": 5,
     "metadata": {},
     "output_type": "execute_result"
    }
   ],
   "source": [
    "# 修改元素\n",
    "sr.loc['3 号'] = 100\n",
    "sr"
   ],
   "metadata": {
    "collapsed": false,
    "ExecuteTime": {
     "end_time": "2024-11-13T06:08:18.453846Z",
     "start_time": "2024-11-13T06:08:18.449027Z"
    }
   },
   "id": "8310318ce9222c2",
   "execution_count": 5
  },
  {
   "cell_type": "code",
   "outputs": [
    {
     "data": {
      "text/plain": "100"
     },
     "execution_count": 6,
     "metadata": {},
     "output_type": "execute_result"
    }
   ],
   "source": [
    "# 访问元素\n",
    "sr.iloc[2]"
   ],
   "metadata": {
    "collapsed": false,
    "ExecuteTime": {
     "end_time": "2024-11-13T06:08:28.692419Z",
     "start_time": "2024-11-13T06:08:28.688993Z"
    }
   },
   "id": "647d520675346ed6",
   "execution_count": 6
  },
  {
   "cell_type": "code",
   "outputs": [
    {
     "data": {
      "text/plain": "1 号     53\n3 号    100\ndtype: int64"
     },
     "execution_count": 7,
     "metadata": {},
     "output_type": "execute_result"
    }
   ],
   "source": [
    "# 花式索引\n",
    "sr.iloc[[0, 2]]"
   ],
   "metadata": {
    "collapsed": false,
    "ExecuteTime": {
     "end_time": "2024-11-13T06:08:37.893537Z",
     "start_time": "2024-11-13T06:08:37.889290Z"
    }
   },
   "id": "fc69b427aed75aaa",
   "execution_count": 7
  },
  {
   "cell_type": "code",
   "outputs": [
    {
     "data": {
      "text/plain": "1 号     53\n2 号     64\n3 号    100\n4 号     82\ndtype: int64"
     },
     "execution_count": 8,
     "metadata": {},
     "output_type": "execute_result"
    }
   ],
   "source": [
    "# 修改元素\n",
    "sr.iloc[2] = 100\n",
    "sr"
   ],
   "metadata": {
    "collapsed": false,
    "ExecuteTime": {
     "end_time": "2024-11-13T06:08:49.001509Z",
     "start_time": "2024-11-13T06:08:48.996114Z"
    }
   },
   "id": "487d724c6f9aa479",
   "execution_count": 8
  },
  {
   "cell_type": "markdown",
   "source": [
    "使用显式索引时， '1 号':'3 号' 可以涵盖最后一个'3 号'，但隐式与之前一样"
   ],
   "metadata": {
    "collapsed": false
   },
   "id": "759cebf4e6079c51"
  },
  {
   "cell_type": "code",
   "outputs": [
    {
     "data": {
      "text/plain": "1 号    53\n2 号    64\n3 号    72\n4 号    82\ndtype: int64"
     },
     "execution_count": 9,
     "metadata": {},
     "output_type": "execute_result"
    }
   ],
   "source": [
    "# 创建 sr\n",
    "v = [53, 64, 72, 82]\n",
    "k = ['1 号'\n",
    "    , '2 号'\n",
    "    , '3 号'\n",
    "    , '4 号']\n",
    "sr = pd.Series(v, index=k)\n",
    "sr"
   ],
   "metadata": {
    "collapsed": false,
    "ExecuteTime": {
     "end_time": "2024-11-13T06:09:12.720870Z",
     "start_time": "2024-11-13T06:09:12.714901Z"
    }
   },
   "id": "df7e5cda2425183b",
   "execution_count": 9
  },
  {
   "cell_type": "code",
   "outputs": [
    {
     "data": {
      "text/plain": "1 号    53\n2 号    64\n3 号    72\ndtype: int64"
     },
     "execution_count": 10,
     "metadata": {},
     "output_type": "execute_result"
    }
   ],
   "source": [
    "# 访问切片\n",
    "sr.loc['1 号':'3 号']"
   ],
   "metadata": {
    "collapsed": false,
    "ExecuteTime": {
     "end_time": "2024-11-13T06:09:19.956872Z",
     "start_time": "2024-11-13T06:09:19.950761Z"
    }
   },
   "id": "21c024a981344ef0",
   "execution_count": 10
  },
  {
   "cell_type": "code",
   "outputs": [
    {
     "data": {
      "text/plain": "1 号    53\n2 号    64\n3 号    72\ndtype: int64"
     },
     "execution_count": 11,
     "metadata": {},
     "output_type": "execute_result"
    }
   ],
   "source": [
    "# 访问切片\n",
    "sr.iloc[0:3]"
   ],
   "metadata": {
    "collapsed": false,
    "ExecuteTime": {
     "end_time": "2024-11-13T06:09:34.146047Z",
     "start_time": "2024-11-13T06:09:34.141614Z"
    }
   },
   "id": "ac8e521405f84d2c",
   "execution_count": 11
  },
  {
   "cell_type": "code",
   "outputs": [
    {
     "data": {
      "text/plain": "1 号    100\n2 号     64\n3 号     72\n4 号     82\ndtype: int64"
     },
     "execution_count": 12,
     "metadata": {},
     "output_type": "execute_result"
    }
   ],
   "source": [
    "# 切片仅是视图\n",
    "cut = sr.loc['1 号':'3 号']\n",
    "cut.loc['1 号'] = 100\n",
    "sr"
   ],
   "metadata": {
    "collapsed": false,
    "ExecuteTime": {
     "end_time": "2024-11-13T06:09:58.822261Z",
     "start_time": "2024-11-13T06:09:58.816707Z"
    }
   },
   "id": "e0f4376cd6ca930e",
   "execution_count": 12
  },
  {
   "cell_type": "code",
   "outputs": [
    {
     "data": {
      "text/plain": "1 号    100\n2 号     64\n3 号     72\n4 号     82\ndtype: int64"
     },
     "execution_count": 13,
     "metadata": {},
     "output_type": "execute_result"
    }
   ],
   "source": [
    "# 切片仅是视图\n",
    "cut = sr.iloc[0:3]\n",
    "cut.iloc[0] = 100\n",
    "sr"
   ],
   "metadata": {
    "collapsed": false,
    "ExecuteTime": {
     "end_time": "2024-11-13T06:10:16.003570Z",
     "start_time": "2024-11-13T06:10:15.998508Z"
    }
   },
   "id": "3e57ccceee61c09c",
   "execution_count": 13
  },
  {
   "cell_type": "code",
   "outputs": [
    {
     "data": {
      "text/plain": "1 号    100\n2 号     64\n3 号    200\n4 号     82\ndtype: int64"
     },
     "execution_count": 14,
     "metadata": {},
     "output_type": "execute_result"
    }
   ],
   "source": [
    "# 对象赋值仅是绑定\n",
    "cut = sr\n",
    "cut.loc['3 号'] = 200\n",
    "sr"
   ],
   "metadata": {
    "collapsed": false,
    "ExecuteTime": {
     "end_time": "2024-11-13T06:10:23.683293Z",
     "start_time": "2024-11-13T06:10:23.677717Z"
    }
   },
   "id": "89dfa8d2a1a42a08",
   "execution_count": 14
  },
  {
   "cell_type": "code",
   "outputs": [
    {
     "data": {
      "text/plain": "1 号    100\n2 号     64\n3 号    200\n4 号     82\ndtype: int64"
     },
     "execution_count": 15,
     "metadata": {},
     "output_type": "execute_result"
    }
   ],
   "source": [
    "# 对象赋值仅是绑定\n",
    "cut = sr\n",
    "cut.iloc[2] = 200\n",
    "sr"
   ],
   "metadata": {
    "collapsed": false,
    "ExecuteTime": {
     "end_time": "2024-11-13T06:10:31.645936Z",
     "start_time": "2024-11-13T06:10:31.640508Z"
    }
   },
   "id": "a674ac0acecec6f4",
   "execution_count": 15
  },
  {
   "cell_type": "code",
   "outputs": [
    {
     "data": {
      "text/plain": "     年龄 性别\n1 号  53  女\n2 号  64  男\n3 号  72  男\n4 号  82  女",
      "text/html": "<div>\n<style scoped>\n    .dataframe tbody tr th:only-of-type {\n        vertical-align: middle;\n    }\n\n    .dataframe tbody tr th {\n        vertical-align: top;\n    }\n\n    .dataframe thead th {\n        text-align: right;\n    }\n</style>\n<table border=\"1\" class=\"dataframe\">\n  <thead>\n    <tr style=\"text-align: right;\">\n      <th></th>\n      <th>年龄</th>\n      <th>性别</th>\n    </tr>\n  </thead>\n  <tbody>\n    <tr>\n      <th>1 号</th>\n      <td>53</td>\n      <td>女</td>\n    </tr>\n    <tr>\n      <th>2 号</th>\n      <td>64</td>\n      <td>男</td>\n    </tr>\n    <tr>\n      <th>3 号</th>\n      <td>72</td>\n      <td>男</td>\n    </tr>\n    <tr>\n      <th>4 号</th>\n      <td>82</td>\n      <td>女</td>\n    </tr>\n  </tbody>\n</table>\n</div>"
     },
     "execution_count": 16,
     "metadata": {},
     "output_type": "execute_result"
    }
   ],
   "source": [
    "# 字典创建法\n",
    "i = ['1 号'\n",
    "    , '2 号'\n",
    "    , '3 号'\n",
    "    , '4 号']\n",
    "v1 = [53, 64, 72, 82]\n",
    "v2 = ['女'\n",
    "    ,\n",
    "      '男'\n",
    "    ,\n",
    "      '男'\n",
    "    ,\n",
    "      '女']\n",
    "sr1 = pd.Series(v1, index=i)\n",
    "sr2 = pd.Series(v2, index=i)\n",
    "df = pd.DataFrame({'年龄': sr1, '性别': sr2})\n",
    "df"
   ],
   "metadata": {
    "collapsed": false,
    "ExecuteTime": {
     "end_time": "2024-11-13T06:10:51.989274Z",
     "start_time": "2024-11-13T06:10:51.982567Z"
    }
   },
   "id": "94ab373c72b0e4bb",
   "execution_count": 16
  },
  {
   "cell_type": "code",
   "outputs": [
    {
     "data": {
      "text/plain": "53"
     },
     "execution_count": 17,
     "metadata": {},
     "output_type": "execute_result"
    }
   ],
   "source": [
    "# 访问元素\n",
    "df.loc['1 号'\n",
    ",\n",
    "'年龄']"
   ],
   "metadata": {
    "collapsed": false,
    "ExecuteTime": {
     "end_time": "2024-11-13T06:11:22.427016Z",
     "start_time": "2024-11-13T06:11:22.424274Z"
    }
   },
   "id": "73fc3529ced585ab",
   "execution_count": 17
  },
  {
   "cell_type": "code",
   "outputs": [
    {
     "data": {
      "text/plain": "53"
     },
     "execution_count": 18,
     "metadata": {},
     "output_type": "execute_result"
    }
   ],
   "source": [
    "# 访问元素\n",
    "df.iloc[0, 0]"
   ],
   "metadata": {
    "collapsed": false,
    "ExecuteTime": {
     "end_time": "2024-11-13T06:11:31.262576Z",
     "start_time": "2024-11-13T06:11:31.259063Z"
    }
   },
   "id": "55a5f8cd90b4bd8f",
   "execution_count": 18
  },
  {
   "cell_type": "code",
   "outputs": [
    {
     "data": {
      "text/plain": "    性别  年龄\n1 号  女  53\n3 号  男  72",
      "text/html": "<div>\n<style scoped>\n    .dataframe tbody tr th:only-of-type {\n        vertical-align: middle;\n    }\n\n    .dataframe tbody tr th {\n        vertical-align: top;\n    }\n\n    .dataframe thead th {\n        text-align: right;\n    }\n</style>\n<table border=\"1\" class=\"dataframe\">\n  <thead>\n    <tr style=\"text-align: right;\">\n      <th></th>\n      <th>性别</th>\n      <th>年龄</th>\n    </tr>\n  </thead>\n  <tbody>\n    <tr>\n      <th>1 号</th>\n      <td>女</td>\n      <td>53</td>\n    </tr>\n    <tr>\n      <th>3 号</th>\n      <td>男</td>\n      <td>72</td>\n    </tr>\n  </tbody>\n</table>\n</div>"
     },
     "execution_count": 19,
     "metadata": {},
     "output_type": "execute_result"
    }
   ],
   "source": [
    "# 花式索引\n",
    "df.loc[['1 号'\n",
    "    , '3 号'], ['性别'\n",
    "    ,\n",
    "                '年龄']]"
   ],
   "metadata": {
    "collapsed": false,
    "ExecuteTime": {
     "end_time": "2024-11-13T06:11:39.637171Z",
     "start_time": "2024-11-13T06:11:39.631481Z"
    }
   },
   "id": "e5272c53669bcabb",
   "execution_count": 19
  },
  {
   "cell_type": "code",
   "outputs": [
    {
     "data": {
      "text/plain": "     年龄 性别\n1 号  53  女\n3 号  72  男",
      "text/html": "<div>\n<style scoped>\n    .dataframe tbody tr th:only-of-type {\n        vertical-align: middle;\n    }\n\n    .dataframe tbody tr th {\n        vertical-align: top;\n    }\n\n    .dataframe thead th {\n        text-align: right;\n    }\n</style>\n<table border=\"1\" class=\"dataframe\">\n  <thead>\n    <tr style=\"text-align: right;\">\n      <th></th>\n      <th>年龄</th>\n      <th>性别</th>\n    </tr>\n  </thead>\n  <tbody>\n    <tr>\n      <th>1 号</th>\n      <td>53</td>\n      <td>女</td>\n    </tr>\n    <tr>\n      <th>3 号</th>\n      <td>72</td>\n      <td>男</td>\n    </tr>\n  </tbody>\n</table>\n</div>"
     },
     "execution_count": 21,
     "metadata": {},
     "output_type": "execute_result"
    }
   ],
   "source": [
    "# 花式索引\n",
    "df.iloc[[0, 2], [0, 1]]"
   ],
   "metadata": {
    "collapsed": false,
    "ExecuteTime": {
     "end_time": "2024-11-13T06:12:38.530908Z",
     "start_time": "2024-11-13T06:12:38.525596Z"
    }
   },
   "id": "d1ef650388cdb7f1",
   "execution_count": 21
  },
  {
   "cell_type": "code",
   "outputs": [
    {
     "data": {
      "text/plain": "     年龄 性别\n1 号  53  女\n2 号  64  男\n3 号  72  男\n4 号  82  女",
      "text/html": "<div>\n<style scoped>\n    .dataframe tbody tr th:only-of-type {\n        vertical-align: middle;\n    }\n\n    .dataframe tbody tr th {\n        vertical-align: top;\n    }\n\n    .dataframe thead th {\n        text-align: right;\n    }\n</style>\n<table border=\"1\" class=\"dataframe\">\n  <thead>\n    <tr style=\"text-align: right;\">\n      <th></th>\n      <th>年龄</th>\n      <th>性别</th>\n    </tr>\n  </thead>\n  <tbody>\n    <tr>\n      <th>1 号</th>\n      <td>53</td>\n      <td>女</td>\n    </tr>\n    <tr>\n      <th>2 号</th>\n      <td>64</td>\n      <td>男</td>\n    </tr>\n    <tr>\n      <th>3 号</th>\n      <td>72</td>\n      <td>男</td>\n    </tr>\n    <tr>\n      <th>4 号</th>\n      <td>82</td>\n      <td>女</td>\n    </tr>\n  </tbody>\n</table>\n</div>"
     },
     "execution_count": 22,
     "metadata": {},
     "output_type": "execute_result"
    }
   ],
   "source": [
    "# 数组创建法\n",
    "v = [[53,\n",
    "      '女'], [64,\n",
    "              '男'], [72,\n",
    "                      '男'], [82,\n",
    "                              '女']]\n",
    "i = ['1 号'\n",
    "    , '2 号'\n",
    "    , '3 号'\n",
    "    , '4 号']\n",
    "c = ['年龄'\n",
    "    ,\n",
    "     '性别']\n",
    "df = pd.DataFrame(v, index=i, columns=c)\n",
    "df"
   ],
   "metadata": {
    "collapsed": false,
    "ExecuteTime": {
     "end_time": "2024-11-13T06:13:26.695584Z",
     "start_time": "2024-11-13T06:13:26.689291Z"
    }
   },
   "id": "62b449bfdb7a0e89",
   "execution_count": 22
  },
  {
   "cell_type": "code",
   "outputs": [
    {
     "data": {
      "text/plain": "1 号    53\n2 号    64\n3 号    72\nName: 年龄, dtype: int64"
     },
     "execution_count": 23,
     "metadata": {},
     "output_type": "execute_result"
    }
   ],
   "source": [
    "# 切片\n",
    "df.loc['1 号':'3 号',\n",
    "'年龄']"
   ],
   "metadata": {
    "collapsed": false,
    "ExecuteTime": {
     "end_time": "2024-11-13T06:13:35.440871Z",
     "start_time": "2024-11-13T06:13:35.435161Z"
    }
   },
   "id": "7deae8c891647047",
   "execution_count": 23
  },
  {
   "cell_type": "code",
   "outputs": [
    {
     "data": {
      "text/plain": "1 号    53\n2 号    64\n3 号    72\nName: 年龄, dtype: int64"
     },
     "execution_count": 24,
     "metadata": {},
     "output_type": "execute_result"
    }
   ],
   "source": [
    "# 切片\n",
    "df.iloc[0:3, 0]"
   ],
   "metadata": {
    "collapsed": false,
    "ExecuteTime": {
     "end_time": "2024-11-13T06:13:49.117413Z",
     "start_time": "2024-11-13T06:13:49.113224Z"
    }
   },
   "id": "c80ea6b69232d722",
   "execution_count": 24
  },
  {
   "cell_type": "code",
   "outputs": [
    {
     "data": {
      "text/plain": "年龄    72\n性别     男\nName: 3 号, dtype: object"
     },
     "execution_count": 25,
     "metadata": {},
     "output_type": "execute_result"
    }
   ],
   "source": [
    "# 提取二维对象的行\n",
    "df.loc['3 号', :]"
   ],
   "metadata": {
    "collapsed": false,
    "ExecuteTime": {
     "end_time": "2024-11-13T06:14:02.187492Z",
     "start_time": "2024-11-13T06:14:02.182391Z"
    }
   },
   "id": "3ea6b971f327d217",
   "execution_count": 25
  },
  {
   "cell_type": "code",
   "outputs": [
    {
     "data": {
      "text/plain": "年龄    72\n性别     男\nName: 3 号, dtype: object"
     },
     "execution_count": 26,
     "metadata": {},
     "output_type": "execute_result"
    }
   ],
   "source": [
    "# 提取二维对象的行\n",
    "df.iloc[2, :]"
   ],
   "metadata": {
    "collapsed": false,
    "ExecuteTime": {
     "end_time": "2024-11-13T06:14:33.953470Z",
     "start_time": "2024-11-13T06:14:33.948125Z"
    }
   },
   "id": "de687236aa7500bb",
   "execution_count": 26
  },
  {
   "cell_type": "code",
   "outputs": [
    {
     "data": {
      "text/plain": "1 号    53\n2 号    64\n3 号    72\n4 号    82\nName: 年龄, dtype: int64"
     },
     "execution_count": 27,
     "metadata": {},
     "output_type": "execute_result"
    }
   ],
   "source": [
    "# 提取矩阵对象的列\n",
    "df.loc[:, '年龄']"
   ],
   "metadata": {
    "collapsed": false,
    "ExecuteTime": {
     "end_time": "2024-11-13T06:14:43.151417Z",
     "start_time": "2024-11-13T06:14:43.147538Z"
    }
   },
   "id": "30a17557364a6bf",
   "execution_count": 27
  },
  {
   "cell_type": "code",
   "outputs": [
    {
     "data": {
      "text/plain": "1 号    53\n2 号    64\n3 号    72\n4 号    82\nName: 年龄, dtype: int64"
     },
     "execution_count": 28,
     "metadata": {},
     "output_type": "execute_result"
    }
   ],
   "source": [
    "# 提取矩阵对象的列\n",
    "df.iloc[:, 0]"
   ],
   "metadata": {
    "collapsed": false,
    "ExecuteTime": {
     "end_time": "2024-11-13T06:14:49.683446Z",
     "start_time": "2024-11-13T06:14:49.680064Z"
    }
   },
   "id": "73f28901a5ca0084",
   "execution_count": 28
  },
  {
   "cell_type": "code",
   "outputs": [],
   "source": [],
   "metadata": {
    "collapsed": false
   },
   "id": "4246bcb1353196ff"
  }
 ],
 "metadata": {
  "kernelspec": {
   "display_name": "Python 3",
   "language": "python",
   "name": "python3"
  },
  "language_info": {
   "codemirror_mode": {
    "name": "ipython",
    "version": 2
   },
   "file_extension": ".py",
   "mimetype": "text/x-python",
   "name": "python",
   "nbconvert_exporter": "python",
   "pygments_lexer": "ipython2",
   "version": "2.7.6"
  }
 },
 "nbformat": 4,
 "nbformat_minor": 5
}
