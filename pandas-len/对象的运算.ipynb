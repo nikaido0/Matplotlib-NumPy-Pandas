{
 "cells": [
  {
   "cell_type": "code",
   "execution_count": 1,
   "id": "initial_id",
   "metadata": {
    "collapsed": true,
    "ExecuteTime": {
     "end_time": "2024-11-13T06:24:38.589843Z",
     "start_time": "2024-11-13T06:24:38.429751Z"
    }
   },
   "outputs": [],
   "source": [
    "import pandas as pd"
   ]
  },
  {
   "cell_type": "code",
   "outputs": [
    {
     "data": {
      "text/plain": "1 号    53\n2 号    64\n3 号    72\ndtype: int64"
     },
     "execution_count": 2,
     "metadata": {},
     "output_type": "execute_result"
    }
   ],
   "source": [
    "# 创建 sr\n",
    "sr = pd.Series([53, 64, 72], index=['1 号'\n",
    "    , '2 号'\n",
    "    , '3 号'])\n",
    "sr"
   ],
   "metadata": {
    "collapsed": false,
    "ExecuteTime": {
     "end_time": "2024-11-13T06:24:44.873964Z",
     "start_time": "2024-11-13T06:24:44.864288Z"
    }
   },
   "id": "2bb7c5aa01dbac2",
   "execution_count": 2
  },
  {
   "cell_type": "code",
   "outputs": [
    {
     "data": {
      "text/plain": "     年龄 性别\n1 号  53  女\n2 号  64  男\n3 号  72  男",
      "text/html": "<div>\n<style scoped>\n    .dataframe tbody tr th:only-of-type {\n        vertical-align: middle;\n    }\n\n    .dataframe tbody tr th {\n        vertical-align: top;\n    }\n\n    .dataframe thead th {\n        text-align: right;\n    }\n</style>\n<table border=\"1\" class=\"dataframe\">\n  <thead>\n    <tr style=\"text-align: right;\">\n      <th></th>\n      <th>年龄</th>\n      <th>性别</th>\n    </tr>\n  </thead>\n  <tbody>\n    <tr>\n      <th>1 号</th>\n      <td>53</td>\n      <td>女</td>\n    </tr>\n    <tr>\n      <th>2 号</th>\n      <td>64</td>\n      <td>男</td>\n    </tr>\n    <tr>\n      <th>3 号</th>\n      <td>72</td>\n      <td>男</td>\n    </tr>\n  </tbody>\n</table>\n</div>"
     },
     "execution_count": 3,
     "metadata": {},
     "output_type": "execute_result"
    }
   ],
   "source": [
    " # 创建 df\n",
    "v = [[53,\n",
    "      '女'], [64,\n",
    "              '男'], [72,\n",
    "                      '男']]\n",
    "df = pd.DataFrame(v, index=['1 号'\n",
    "    , '2 号'\n",
    "    , '3 号'], columns=['年龄'\n",
    "    ,\n",
    "                        '性别'])\n",
    "df"
   ],
   "metadata": {
    "collapsed": false,
    "ExecuteTime": {
     "end_time": "2024-11-13T06:24:51.725632Z",
     "start_time": "2024-11-13T06:24:51.718671Z"
    }
   },
   "id": "1cb2f1755a11801e",
   "execution_count": 3
  },
  {
   "cell_type": "code",
   "outputs": [
    {
     "data": {
      "text/plain": "1 号    63\n2 号    74\n3 号    82\ndtype: int64"
     },
     "execution_count": 4,
     "metadata": {},
     "output_type": "execute_result"
    }
   ],
   "source": [
    "sr = sr + 10\n",
    "sr"
   ],
   "metadata": {
    "collapsed": false,
    "ExecuteTime": {
     "end_time": "2024-11-13T06:25:01.238015Z",
     "start_time": "2024-11-13T06:25:01.232224Z"
    }
   },
   "id": "d4d60d5a17b86957",
   "execution_count": 4
  },
  {
   "cell_type": "code",
   "outputs": [
    {
     "data": {
      "text/plain": "     年龄 性别\n1 号  73  女\n2 号  84  男\n3 号  92  男",
      "text/html": "<div>\n<style scoped>\n    .dataframe tbody tr th:only-of-type {\n        vertical-align: middle;\n    }\n\n    .dataframe tbody tr th {\n        vertical-align: top;\n    }\n\n    .dataframe thead th {\n        text-align: right;\n    }\n</style>\n<table border=\"1\" class=\"dataframe\">\n  <thead>\n    <tr style=\"text-align: right;\">\n      <th></th>\n      <th>年龄</th>\n      <th>性别</th>\n    </tr>\n  </thead>\n  <tbody>\n    <tr>\n      <th>1 号</th>\n      <td>73</td>\n      <td>女</td>\n    </tr>\n    <tr>\n      <th>2 号</th>\n      <td>84</td>\n      <td>男</td>\n    </tr>\n    <tr>\n      <th>3 号</th>\n      <td>92</td>\n      <td>男</td>\n    </tr>\n  </tbody>\n</table>\n</div>"
     },
     "execution_count": 6,
     "metadata": {},
     "output_type": "execute_result"
    }
   ],
   "source": [
    "df['年龄'] = df['年龄'] + 10\n",
    "df"
   ],
   "metadata": {
    "collapsed": false,
    "ExecuteTime": {
     "end_time": "2024-11-13T06:25:16.032121Z",
     "start_time": "2024-11-13T06:25:16.024232Z"
    }
   },
   "id": "ea8c4e531dfe9e7e",
   "execution_count": 6
  },
  {
   "cell_type": "markdown",
   "source": [
    "对象做运算，必须保证其都是数字型对象，两个对象之间的维度可以不同"
   ],
   "metadata": {
    "collapsed": false
   },
   "id": "5b5fb676f31f40be"
  },
  {
   "cell_type": "code",
   "outputs": [
    {
     "data": {
      "text/plain": "1 号    10\n2 号    20\n3 号    30\n4 号    40\ndtype: int64"
     },
     "execution_count": 7,
     "metadata": {},
     "output_type": "execute_result"
    }
   ],
   "source": [
    "# 创建 sr1\n",
    "v1 = [10, 20, 30, 40]\n",
    "k1 = ['1 号'\n",
    "    , '2 号'\n",
    "    , '3 号'\n",
    "    , '4 号']\n",
    "sr1 = pd.Series(v1, index=k1)\n",
    "sr1"
   ],
   "metadata": {
    "collapsed": false,
    "ExecuteTime": {
     "end_time": "2024-11-13T06:25:43.516077Z",
     "start_time": "2024-11-13T06:25:43.509536Z"
    }
   },
   "id": "f644f72ec9590c11",
   "execution_count": 7
  },
  {
   "cell_type": "code",
   "outputs": [
    {
     "data": {
      "text/plain": "1 号    1\n2 号    2\n3 号    3\ndtype: int64"
     },
     "execution_count": 8,
     "metadata": {},
     "output_type": "execute_result"
    }
   ],
   "source": [
    "# 创建 sr2\n",
    "v2 = [1, 2, 3]\n",
    "k2 = ['1 号'\n",
    "    , '2 号'\n",
    "    , '3 号']\n",
    "sr2 = pd.Series(v2, index=k2)\n",
    "sr2"
   ],
   "metadata": {
    "collapsed": false,
    "ExecuteTime": {
     "end_time": "2024-11-13T06:25:53.778916Z",
     "start_time": "2024-11-13T06:25:53.774185Z"
    }
   },
   "id": "c0b22fe28628a2ce",
   "execution_count": 8
  },
  {
   "cell_type": "code",
   "outputs": [
    {
     "data": {
      "text/plain": "1 号    11.0\n2 号    22.0\n3 号    33.0\n4 号     NaN\ndtype: float64"
     },
     "execution_count": 9,
     "metadata": {},
     "output_type": "execute_result"
    }
   ],
   "source": [
    "sr1 + sr2"
   ],
   "metadata": {
    "collapsed": false,
    "ExecuteTime": {
     "end_time": "2024-11-13T06:26:01.076892Z",
     "start_time": "2024-11-13T06:26:01.072180Z"
    }
   },
   "id": "7eab398223dc2ce5",
   "execution_count": 9
  },
  {
   "cell_type": "code",
   "outputs": [
    {
     "data": {
      "text/plain": "(     年龄 性别\n 1 号  10  女\n 2 号  20  男\n 3 号  30  男\n 4 号  40  女,\n      牌照\n 1 号   1\n 2 号   2\n 3 号   3\n 6 号   6)"
     },
     "execution_count": 10,
     "metadata": {},
     "output_type": "execute_result"
    }
   ],
   "source": [
    "# 设定 df1 和 df2\n",
    "v1 = [[10,\n",
    "       '女'], [20,\n",
    "               '男'], [30,\n",
    "                       '男'], [40,\n",
    "                               '女']]\n",
    "v2 = [1, 2, 3, 6]\n",
    "i1 = ['1 号'\n",
    "    , '2 号'\n",
    "    , '3 号'\n",
    "    , '4 号'];\n",
    "c1 = ['年龄'\n",
    "    ,\n",
    "      '性别']\n",
    "i2 = ['1 号'\n",
    "    , '2 号'\n",
    "    , '3 号'\n",
    "    , '6 号'];\n",
    "c2 = ['牌照']\n",
    "df1 = pd.DataFrame(v1, index=i1, columns=c1)\n",
    "df2 = pd.DataFrame(v2, index=i2, columns=c2)\n",
    "df1, df2"
   ],
   "metadata": {
    "collapsed": false,
    "ExecuteTime": {
     "end_time": "2024-11-13T06:26:20.465904Z",
     "start_time": "2024-11-13T06:26:20.457743Z"
    }
   },
   "id": "e99efe6b9669c9c8",
   "execution_count": 10
  },
  {
   "cell_type": "code",
   "outputs": [
    {
     "data": {
      "text/plain": "     年龄 性别    加法\n1 号  10  女  11.0\n2 号  20  男  22.0\n3 号  30  男  33.0\n4 号  40  女   NaN",
      "text/html": "<div>\n<style scoped>\n    .dataframe tbody tr th:only-of-type {\n        vertical-align: middle;\n    }\n\n    .dataframe tbody tr th {\n        vertical-align: top;\n    }\n\n    .dataframe thead th {\n        text-align: right;\n    }\n</style>\n<table border=\"1\" class=\"dataframe\">\n  <thead>\n    <tr style=\"text-align: right;\">\n      <th></th>\n      <th>年龄</th>\n      <th>性别</th>\n      <th>加法</th>\n    </tr>\n  </thead>\n  <tbody>\n    <tr>\n      <th>1 号</th>\n      <td>10</td>\n      <td>女</td>\n      <td>11.0</td>\n    </tr>\n    <tr>\n      <th>2 号</th>\n      <td>20</td>\n      <td>男</td>\n      <td>22.0</td>\n    </tr>\n    <tr>\n      <th>3 号</th>\n      <td>30</td>\n      <td>男</td>\n      <td>33.0</td>\n    </tr>\n    <tr>\n      <th>4 号</th>\n      <td>40</td>\n      <td>女</td>\n      <td>NaN</td>\n    </tr>\n  </tbody>\n</table>\n</div>"
     },
     "execution_count": 11,
     "metadata": {},
     "output_type": "execute_result"
    }
   ],
   "source": [
    " # 加法\n",
    "df1['加法'] = df1['年龄'] + df2['牌照']\n",
    "df1"
   ],
   "metadata": {
    "collapsed": false,
    "ExecuteTime": {
     "end_time": "2024-11-13T06:26:38.338100Z",
     "start_time": "2024-11-13T06:26:38.328462Z"
    }
   },
   "id": "4b44b9a95560d5a7",
   "execution_count": 11
  },
  {
   "cell_type": "code",
   "outputs": [],
   "source": [],
   "metadata": {
    "collapsed": false
   },
   "id": "8e2c2c6c44b94e1d"
  }
 ],
 "metadata": {
  "kernelspec": {
   "display_name": "Python 3",
   "language": "python",
   "name": "python3"
  },
  "language_info": {
   "codemirror_mode": {
    "name": "ipython",
    "version": 2
   },
   "file_extension": ".py",
   "mimetype": "text/x-python",
   "name": "python",
   "nbconvert_exporter": "python",
   "pygments_lexer": "ipython2",
   "version": "2.7.6"
  }
 },
 "nbformat": 4,
 "nbformat_minor": 5
}
