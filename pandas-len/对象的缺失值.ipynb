{
 "cells": [
  {
   "cell_type": "code",
   "execution_count": 1,
   "id": "initial_id",
   "metadata": {
    "collapsed": true,
    "ExecuteTime": {
     "end_time": "2024-11-13T06:27:14.632663Z",
     "start_time": "2024-11-13T06:27:14.473276Z"
    }
   },
   "outputs": [],
   "source": [
    "import pandas as pd"
   ]
  },
  {
   "cell_type": "code",
   "outputs": [
    {
     "data": {
      "text/plain": "1 号    53.0\n2 号     NaN\n3 号    72.0\n4 号    82.0\ndtype: float64"
     },
     "execution_count": 2,
     "metadata": {},
     "output_type": "execute_result"
    }
   ],
   "source": [
    "# 创建 sr\n",
    "v = [53, None, 72, 82]\n",
    "k = ['1 号'\n",
    "    , '2 号'\n",
    "    , '3 号'\n",
    "    , '4 号']\n",
    "sr = pd.Series(v, index=k)\n",
    "sr"
   ],
   "metadata": {
    "collapsed": false,
    "ExecuteTime": {
     "end_time": "2024-11-13T06:27:20.981859Z",
     "start_time": "2024-11-13T06:27:20.971028Z"
    }
   },
   "id": "1fa92d03afb48b0a",
   "execution_count": 2
  },
  {
   "cell_type": "code",
   "outputs": [
    {
     "data": {
      "text/plain": "       年龄   牌照\n1 号   NaN  1.0\n2 号  64.0  NaN\n3 号  72.0  3.0\n4 号  82.0  4.0",
      "text/html": "<div>\n<style scoped>\n    .dataframe tbody tr th:only-of-type {\n        vertical-align: middle;\n    }\n\n    .dataframe tbody tr th {\n        vertical-align: top;\n    }\n\n    .dataframe thead th {\n        text-align: right;\n    }\n</style>\n<table border=\"1\" class=\"dataframe\">\n  <thead>\n    <tr style=\"text-align: right;\">\n      <th></th>\n      <th>年龄</th>\n      <th>牌照</th>\n    </tr>\n  </thead>\n  <tbody>\n    <tr>\n      <th>1 号</th>\n      <td>NaN</td>\n      <td>1.0</td>\n    </tr>\n    <tr>\n      <th>2 号</th>\n      <td>64.0</td>\n      <td>NaN</td>\n    </tr>\n    <tr>\n      <th>3 号</th>\n      <td>72.0</td>\n      <td>3.0</td>\n    </tr>\n    <tr>\n      <th>4 号</th>\n      <td>82.0</td>\n      <td>4.0</td>\n    </tr>\n  </tbody>\n</table>\n</div>"
     },
     "execution_count": 3,
     "metadata": {},
     "output_type": "execute_result"
    }
   ],
   "source": [
    "# 创建 df\n",
    "v = [[None, 1], [64, None], [72, 3], [82, 4]]\n",
    "i = ['1 号'\n",
    "    , '2 号'\n",
    "    , '3 号'\n",
    "    , '4 号']\n",
    "c = ['年龄'\n",
    "    ,\n",
    "     '牌照']\n",
    "df = pd.DataFrame(v, index=i, columns=c)\n",
    "df"
   ],
   "metadata": {
    "collapsed": false,
    "ExecuteTime": {
     "end_time": "2024-11-13T06:27:33.917210Z",
     "start_time": "2024-11-13T06:27:33.909329Z"
    }
   },
   "id": "6fc708cdfbd57c80",
   "execution_count": 3
  },
  {
   "cell_type": "code",
   "outputs": [
    {
     "data": {
      "text/plain": "1 号    False\n2 号     True\n3 号    False\n4 号    False\ndtype: bool"
     },
     "execution_count": 4,
     "metadata": {},
     "output_type": "execute_result"
    }
   ],
   "source": [
    "# 发现 sr 的缺失值\n",
    "sr.isnull()"
   ],
   "metadata": {
    "collapsed": false,
    "ExecuteTime": {
     "end_time": "2024-11-13T06:27:54.896533Z",
     "start_time": "2024-11-13T06:27:54.890590Z"
    }
   },
   "id": "4f6c6cfa9122ee1",
   "execution_count": 4
  },
  {
   "cell_type": "code",
   "outputs": [
    {
     "data": {
      "text/plain": "        年龄     牌照\n1 号   True  False\n2 号  False   True\n3 号  False  False\n4 号  False  False",
      "text/html": "<div>\n<style scoped>\n    .dataframe tbody tr th:only-of-type {\n        vertical-align: middle;\n    }\n\n    .dataframe tbody tr th {\n        vertical-align: top;\n    }\n\n    .dataframe thead th {\n        text-align: right;\n    }\n</style>\n<table border=\"1\" class=\"dataframe\">\n  <thead>\n    <tr style=\"text-align: right;\">\n      <th></th>\n      <th>年龄</th>\n      <th>牌照</th>\n    </tr>\n  </thead>\n  <tbody>\n    <tr>\n      <th>1 号</th>\n      <td>True</td>\n      <td>False</td>\n    </tr>\n    <tr>\n      <th>2 号</th>\n      <td>False</td>\n      <td>True</td>\n    </tr>\n    <tr>\n      <th>3 号</th>\n      <td>False</td>\n      <td>False</td>\n    </tr>\n    <tr>\n      <th>4 号</th>\n      <td>False</td>\n      <td>False</td>\n    </tr>\n  </tbody>\n</table>\n</div>"
     },
     "execution_count": 5,
     "metadata": {},
     "output_type": "execute_result"
    }
   ],
   "source": [
    "# 发现 df 的缺失值\n",
    "df.isnull()"
   ],
   "metadata": {
    "collapsed": false,
    "ExecuteTime": {
     "end_time": "2024-11-13T06:28:04.656578Z",
     "start_time": "2024-11-13T06:28:04.651054Z"
    }
   },
   "id": "95c83417ad41d8e4",
   "execution_count": 5
  },
  {
   "cell_type": "markdown",
   "source": [
    "剔除缺失值使用 .dropna() 方法，一维对象很好剔除；二维对象比较复杂，\n",
    "要么单独剔除 df 中含有缺失值的行，要么剔除 df 中含有缺失值的列"
   ],
   "metadata": {
    "collapsed": false
   },
   "id": "8be66bec84a1f2fd"
  },
  {
   "cell_type": "code",
   "outputs": [
    {
     "data": {
      "text/plain": "1 号    53.0\n2 号     NaN\n3 号    72.0\n4 号    82.0\ndtype: float64"
     },
     "execution_count": 6,
     "metadata": {},
     "output_type": "execute_result"
    }
   ],
   "source": [
    " # 创建 sr\n",
    "v = [53, None, 72, 82]\n",
    "k = ['1 号'\n",
    "    , '2 号'\n",
    "    , '3 号'\n",
    "    , '4 号']\n",
    "sr = pd.Series(v, index=k)\n",
    "sr"
   ],
   "metadata": {
    "collapsed": false,
    "ExecuteTime": {
     "end_time": "2024-11-13T06:28:51.761580Z",
     "start_time": "2024-11-13T06:28:51.756593Z"
    }
   },
   "id": "d37180fdcd30b0d0",
   "execution_count": 6
  },
  {
   "cell_type": "code",
   "outputs": [
    {
     "data": {
      "text/plain": "       年龄   牌照\n1 号   NaN  NaN\n2 号  64.0  NaN\n3 号  72.0  3.0\n4 号  82.0  4.0",
      "text/html": "<div>\n<style scoped>\n    .dataframe tbody tr th:only-of-type {\n        vertical-align: middle;\n    }\n\n    .dataframe tbody tr th {\n        vertical-align: top;\n    }\n\n    .dataframe thead th {\n        text-align: right;\n    }\n</style>\n<table border=\"1\" class=\"dataframe\">\n  <thead>\n    <tr style=\"text-align: right;\">\n      <th></th>\n      <th>年龄</th>\n      <th>牌照</th>\n    </tr>\n  </thead>\n  <tbody>\n    <tr>\n      <th>1 号</th>\n      <td>NaN</td>\n      <td>NaN</td>\n    </tr>\n    <tr>\n      <th>2 号</th>\n      <td>64.0</td>\n      <td>NaN</td>\n    </tr>\n    <tr>\n      <th>3 号</th>\n      <td>72.0</td>\n      <td>3.0</td>\n    </tr>\n    <tr>\n      <th>4 号</th>\n      <td>82.0</td>\n      <td>4.0</td>\n    </tr>\n  </tbody>\n</table>\n</div>"
     },
     "execution_count": 7,
     "metadata": {},
     "output_type": "execute_result"
    }
   ],
   "source": [
    " # 创建 df\n",
    "v = [[None, None], [64, None], [72, 3], [82, 4]]\n",
    "i = ['1 号'\n",
    "    , '2 号'\n",
    "    , '3 号'\n",
    "    , '4 号']\n",
    "c = ['年龄'\n",
    "    ,\n",
    "     '牌照']\n",
    "df = pd.DataFrame(v, index=i, columns=c)\n",
    "df"
   ],
   "metadata": {
    "collapsed": false,
    "ExecuteTime": {
     "end_time": "2024-11-13T06:29:00.306296Z",
     "start_time": "2024-11-13T06:29:00.300774Z"
    }
   },
   "id": "8b759d43583f65d9",
   "execution_count": 7
  },
  {
   "cell_type": "code",
   "outputs": [
    {
     "data": {
      "text/plain": "1 号    53.0\n3 号    72.0\n4 号    82.0\ndtype: float64"
     },
     "execution_count": 8,
     "metadata": {},
     "output_type": "execute_result"
    }
   ],
   "source": [
    "# 剔除 sr 的缺失值\n",
    "sr.dropna()"
   ],
   "metadata": {
    "collapsed": false,
    "ExecuteTime": {
     "end_time": "2024-11-13T06:29:06.922353Z",
     "start_time": "2024-11-13T06:29:06.916693Z"
    }
   },
   "id": "f20c2daa69e1d452",
   "execution_count": 8
  },
  {
   "cell_type": "markdown",
   "source": [
    "把含有 NaN 的行剔除掉了， 你也可以通过 df.dropna(axis='columns')\n",
    "的方式剔除列。 但请警惕，一般都是剔除行， 只因大数据中行是个体，列是特征"
   ],
   "metadata": {
    "collapsed": false
   },
   "id": "2f0d9775fe25eb8f"
  },
  {
   "cell_type": "code",
   "outputs": [
    {
     "data": {
      "text/plain": "       年龄   牌照\n3 号  72.0  3.0\n4 号  82.0  4.0",
      "text/html": "<div>\n<style scoped>\n    .dataframe tbody tr th:only-of-type {\n        vertical-align: middle;\n    }\n\n    .dataframe tbody tr th {\n        vertical-align: top;\n    }\n\n    .dataframe thead th {\n        text-align: right;\n    }\n</style>\n<table border=\"1\" class=\"dataframe\">\n  <thead>\n    <tr style=\"text-align: right;\">\n      <th></th>\n      <th>年龄</th>\n      <th>牌照</th>\n    </tr>\n  </thead>\n  <tbody>\n    <tr>\n      <th>3 号</th>\n      <td>72.0</td>\n      <td>3.0</td>\n    </tr>\n    <tr>\n      <th>4 号</th>\n      <td>82.0</td>\n      <td>4.0</td>\n    </tr>\n  </tbody>\n</table>\n</div>"
     },
     "execution_count": 9,
     "metadata": {},
     "output_type": "execute_result"
    }
   ],
   "source": [
    "# 剔除 df 含缺失值的行\n",
    "df.dropna()"
   ],
   "metadata": {
    "collapsed": false,
    "ExecuteTime": {
     "end_time": "2024-11-13T06:29:19.707206Z",
     "start_time": "2024-11-13T06:29:19.699417Z"
    }
   },
   "id": "c14eab7444ed604e",
   "execution_count": 9
  },
  {
   "cell_type": "markdown",
   "source": [
    "我们可以\n",
    "设定一个参数，只有当该行全部是 NaN，才剔除该列特征"
   ],
   "metadata": {
    "collapsed": false
   },
   "id": "9dcedc3be91b8046"
  },
  {
   "cell_type": "code",
   "outputs": [
    {
     "data": {
      "text/plain": "       年龄   牌照\n2 号  64.0  NaN\n3 号  72.0  3.0\n4 号  82.0  4.0",
      "text/html": "<div>\n<style scoped>\n    .dataframe tbody tr th:only-of-type {\n        vertical-align: middle;\n    }\n\n    .dataframe tbody tr th {\n        vertical-align: top;\n    }\n\n    .dataframe thead th {\n        text-align: right;\n    }\n</style>\n<table border=\"1\" class=\"dataframe\">\n  <thead>\n    <tr style=\"text-align: right;\">\n      <th></th>\n      <th>年龄</th>\n      <th>牌照</th>\n    </tr>\n  </thead>\n  <tbody>\n    <tr>\n      <th>2 号</th>\n      <td>64.0</td>\n      <td>NaN</td>\n    </tr>\n    <tr>\n      <th>3 号</th>\n      <td>72.0</td>\n      <td>3.0</td>\n    </tr>\n    <tr>\n      <th>4 号</th>\n      <td>82.0</td>\n      <td>4.0</td>\n    </tr>\n  </tbody>\n</table>\n</div>"
     },
     "execution_count": 10,
     "metadata": {},
     "output_type": "execute_result"
    }
   ],
   "source": [
    "# 剔除 df 全是 NaN 的个体\n",
    "df.dropna(how='all')"
   ],
   "metadata": {
    "collapsed": false,
    "ExecuteTime": {
     "end_time": "2024-11-13T06:30:00.871638Z",
     "start_time": "2024-11-13T06:30:00.864298Z"
    }
   },
   "id": "514043f80dfaf721",
   "execution_count": 10
  },
  {
   "cell_type": "markdown",
   "source": [
    "填充缺失值使用 .fillna() 方法，实际的数据填充没有统一的方法，很灵活"
   ],
   "metadata": {
    "collapsed": false
   },
   "id": "5e0d2fd7dd9f16ab"
  },
  {
   "cell_type": "code",
   "outputs": [
    {
     "data": {
      "text/plain": "1 号    53.0\n2 号     NaN\n3 号    72.0\n4 号    82.0\ndtype: float64"
     },
     "execution_count": 11,
     "metadata": {},
     "output_type": "execute_result"
    }
   ],
   "source": [
    "# 创建 sr\n",
    "v = [53, None, 72, 82]\n",
    "sr = pd.Series(v, index=['1 号'\n",
    "    , '2 号'\n",
    "    , '3 号'\n",
    "    , '4 号'])\n",
    "sr"
   ],
   "metadata": {
    "collapsed": false,
    "ExecuteTime": {
     "end_time": "2024-11-13T06:30:30.326490Z",
     "start_time": "2024-11-13T06:30:30.320915Z"
    }
   },
   "id": "c306521f3b0bf470",
   "execution_count": 11
  },
  {
   "cell_type": "code",
   "outputs": [
    {
     "data": {
      "text/plain": "1 号    53.0\n2 号     0.0\n3 号    72.0\n4 号    82.0\ndtype: float64"
     },
     "execution_count": 12,
     "metadata": {},
     "output_type": "execute_result"
    }
   ],
   "source": [
    "# 用常数（0）填充\n",
    "sr.fillna(0)"
   ],
   "metadata": {
    "collapsed": false,
    "ExecuteTime": {
     "end_time": "2024-11-13T06:30:37.158252Z",
     "start_time": "2024-11-13T06:30:37.152345Z"
    }
   },
   "id": "7be7f44f7802ca0",
   "execution_count": 12
  },
  {
   "cell_type": "code",
   "outputs": [
    {
     "data": {
      "text/plain": "1 号    53.0\n2 号    69.0\n3 号    72.0\n4 号    82.0\ndtype: float64"
     },
     "execution_count": 13,
     "metadata": {},
     "output_type": "execute_result"
    }
   ],
   "source": [
    "# 用常数（均值）填充\n",
    "import numpy as np\n",
    "\n",
    "sr.fillna(np.mean(sr))"
   ],
   "metadata": {
    "collapsed": false,
    "ExecuteTime": {
     "end_time": "2024-11-13T06:30:43.723393Z",
     "start_time": "2024-11-13T06:30:43.718245Z"
    }
   },
   "id": "e62f93f664c44ae",
   "execution_count": 13
  },
  {
   "cell_type": "code",
   "outputs": [
    {
     "data": {
      "text/plain": "1 号    53.0\n2 号    53.0\n3 号    72.0\n4 号    82.0\ndtype: float64"
     },
     "execution_count": 14,
     "metadata": {},
     "output_type": "execute_result"
    }
   ],
   "source": [
    "# 用前值填充\n",
    "sr.fillna(method='ffill')"
   ],
   "metadata": {
    "collapsed": false,
    "ExecuteTime": {
     "end_time": "2024-11-13T06:30:52.211455Z",
     "start_time": "2024-11-13T06:30:52.205515Z"
    }
   },
   "id": "94611ab0a35e9c3b",
   "execution_count": 14
  },
  {
   "cell_type": "code",
   "outputs": [
    {
     "data": {
      "text/plain": "1 号    53.0\n2 号    72.0\n3 号    72.0\n4 号    82.0\ndtype: float64"
     },
     "execution_count": 15,
     "metadata": {},
     "output_type": "execute_result"
    }
   ],
   "source": [
    "# 用后值填充\n",
    "sr.fillna(method='bfill')"
   ],
   "metadata": {
    "collapsed": false,
    "ExecuteTime": {
     "end_time": "2024-11-13T06:30:59.020941Z",
     "start_time": "2024-11-13T06:30:59.015094Z"
    }
   },
   "id": "745fe7eb6a59b45c",
   "execution_count": 15
  },
  {
   "cell_type": "code",
   "outputs": [
    {
     "data": {
      "text/plain": "       年龄   牌照\n1 号   NaN  NaN\n2 号  64.0  NaN\n3 号  72.0  3.0\n4 号  82.0  4.0",
      "text/html": "<div>\n<style scoped>\n    .dataframe tbody tr th:only-of-type {\n        vertical-align: middle;\n    }\n\n    .dataframe tbody tr th {\n        vertical-align: top;\n    }\n\n    .dataframe thead th {\n        text-align: right;\n    }\n</style>\n<table border=\"1\" class=\"dataframe\">\n  <thead>\n    <tr style=\"text-align: right;\">\n      <th></th>\n      <th>年龄</th>\n      <th>牌照</th>\n    </tr>\n  </thead>\n  <tbody>\n    <tr>\n      <th>1 号</th>\n      <td>NaN</td>\n      <td>NaN</td>\n    </tr>\n    <tr>\n      <th>2 号</th>\n      <td>64.0</td>\n      <td>NaN</td>\n    </tr>\n    <tr>\n      <th>3 号</th>\n      <td>72.0</td>\n      <td>3.0</td>\n    </tr>\n    <tr>\n      <th>4 号</th>\n      <td>82.0</td>\n      <td>4.0</td>\n    </tr>\n  </tbody>\n</table>\n</div>"
     },
     "execution_count": 16,
     "metadata": {},
     "output_type": "execute_result"
    }
   ],
   "source": [
    "# 设定 df\n",
    "v = [[None, None], [64, None], [72, 3], [82, 4]]\n",
    "i = ['1 号'\n",
    "    , '2 号'\n",
    "    , '3 号'\n",
    "    , '4 号'];\n",
    "c = ['年龄'\n",
    "    ,\n",
    "     '牌照']\n",
    "df = pd.DataFrame(v, index=i, columns=c)\n",
    "df"
   ],
   "metadata": {
    "collapsed": false,
    "ExecuteTime": {
     "end_time": "2024-11-13T06:31:07.635697Z",
     "start_time": "2024-11-13T06:31:07.630392Z"
    }
   },
   "id": "1defdd61af3361d7",
   "execution_count": 16
  },
  {
   "cell_type": "code",
   "outputs": [
    {
     "data": {
      "text/plain": "       年龄   牌照\n1 号   0.0  0.0\n2 号  64.0  0.0\n3 号  72.0  3.0\n4 号  82.0  4.0",
      "text/html": "<div>\n<style scoped>\n    .dataframe tbody tr th:only-of-type {\n        vertical-align: middle;\n    }\n\n    .dataframe tbody tr th {\n        vertical-align: top;\n    }\n\n    .dataframe thead th {\n        text-align: right;\n    }\n</style>\n<table border=\"1\" class=\"dataframe\">\n  <thead>\n    <tr style=\"text-align: right;\">\n      <th></th>\n      <th>年龄</th>\n      <th>牌照</th>\n    </tr>\n  </thead>\n  <tbody>\n    <tr>\n      <th>1 号</th>\n      <td>0.0</td>\n      <td>0.0</td>\n    </tr>\n    <tr>\n      <th>2 号</th>\n      <td>64.0</td>\n      <td>0.0</td>\n    </tr>\n    <tr>\n      <th>3 号</th>\n      <td>72.0</td>\n      <td>3.0</td>\n    </tr>\n    <tr>\n      <th>4 号</th>\n      <td>82.0</td>\n      <td>4.0</td>\n    </tr>\n  </tbody>\n</table>\n</div>"
     },
     "execution_count": 17,
     "metadata": {},
     "output_type": "execute_result"
    }
   ],
   "source": [
    "# 用常数（0）填充\n",
    "df.fillna(0)"
   ],
   "metadata": {
    "collapsed": false,
    "ExecuteTime": {
     "end_time": "2024-11-13T06:31:14.060350Z",
     "start_time": "2024-11-13T06:31:14.053392Z"
    }
   },
   "id": "7101ff17f005c9bc",
   "execution_count": 17
  },
  {
   "cell_type": "code",
   "outputs": [
    {
     "data": {
      "text/plain": "       年龄    牌照\n1 号  45.0  45.0\n2 号  64.0  45.0\n3 号  72.0   3.0\n4 号  82.0   4.0",
      "text/html": "<div>\n<style scoped>\n    .dataframe tbody tr th:only-of-type {\n        vertical-align: middle;\n    }\n\n    .dataframe tbody tr th {\n        vertical-align: top;\n    }\n\n    .dataframe thead th {\n        text-align: right;\n    }\n</style>\n<table border=\"1\" class=\"dataframe\">\n  <thead>\n    <tr style=\"text-align: right;\">\n      <th></th>\n      <th>年龄</th>\n      <th>牌照</th>\n    </tr>\n  </thead>\n  <tbody>\n    <tr>\n      <th>1 号</th>\n      <td>45.0</td>\n      <td>45.0</td>\n    </tr>\n    <tr>\n      <th>2 号</th>\n      <td>64.0</td>\n      <td>45.0</td>\n    </tr>\n    <tr>\n      <th>3 号</th>\n      <td>72.0</td>\n      <td>3.0</td>\n    </tr>\n    <tr>\n      <th>4 号</th>\n      <td>82.0</td>\n      <td>4.0</td>\n    </tr>\n  </tbody>\n</table>\n</div>"
     },
     "execution_count": 18,
     "metadata": {},
     "output_type": "execute_result"
    }
   ],
   "source": [
    "# 用常数（均值）填充\n",
    "import numpy as np\n",
    "\n",
    "df.fillna(np.mean(df))"
   ],
   "metadata": {
    "collapsed": false,
    "ExecuteTime": {
     "end_time": "2024-11-13T06:31:21.763861Z",
     "start_time": "2024-11-13T06:31:21.758168Z"
    }
   },
   "id": "779f253c5ad8eba0",
   "execution_count": 18
  },
  {
   "cell_type": "code",
   "outputs": [
    {
     "data": {
      "text/plain": "       年龄   牌照\n1 号   NaN  NaN\n2 号  64.0  NaN\n3 号  72.0  3.0\n4 号  82.0  4.0",
      "text/html": "<div>\n<style scoped>\n    .dataframe tbody tr th:only-of-type {\n        vertical-align: middle;\n    }\n\n    .dataframe tbody tr th {\n        vertical-align: top;\n    }\n\n    .dataframe thead th {\n        text-align: right;\n    }\n</style>\n<table border=\"1\" class=\"dataframe\">\n  <thead>\n    <tr style=\"text-align: right;\">\n      <th></th>\n      <th>年龄</th>\n      <th>牌照</th>\n    </tr>\n  </thead>\n  <tbody>\n    <tr>\n      <th>1 号</th>\n      <td>NaN</td>\n      <td>NaN</td>\n    </tr>\n    <tr>\n      <th>2 号</th>\n      <td>64.0</td>\n      <td>NaN</td>\n    </tr>\n    <tr>\n      <th>3 号</th>\n      <td>72.0</td>\n      <td>3.0</td>\n    </tr>\n    <tr>\n      <th>4 号</th>\n      <td>82.0</td>\n      <td>4.0</td>\n    </tr>\n  </tbody>\n</table>\n</div>"
     },
     "execution_count": 19,
     "metadata": {},
     "output_type": "execute_result"
    }
   ],
   "source": [
    "# 用前值填充\n",
    "df.fillna(method='ffill')"
   ],
   "metadata": {
    "collapsed": false,
    "ExecuteTime": {
     "end_time": "2024-11-13T06:31:30.934865Z",
     "start_time": "2024-11-13T06:31:30.928242Z"
    }
   },
   "id": "7c9a9940371aea8a",
   "execution_count": 19
  },
  {
   "cell_type": "code",
   "outputs": [
    {
     "data": {
      "text/plain": "       年龄   牌照\n1 号  64.0  3.0\n2 号  64.0  3.0\n3 号  72.0  3.0\n4 号  82.0  4.0",
      "text/html": "<div>\n<style scoped>\n    .dataframe tbody tr th:only-of-type {\n        vertical-align: middle;\n    }\n\n    .dataframe tbody tr th {\n        vertical-align: top;\n    }\n\n    .dataframe thead th {\n        text-align: right;\n    }\n</style>\n<table border=\"1\" class=\"dataframe\">\n  <thead>\n    <tr style=\"text-align: right;\">\n      <th></th>\n      <th>年龄</th>\n      <th>牌照</th>\n    </tr>\n  </thead>\n  <tbody>\n    <tr>\n      <th>1 号</th>\n      <td>64.0</td>\n      <td>3.0</td>\n    </tr>\n    <tr>\n      <th>2 号</th>\n      <td>64.0</td>\n      <td>3.0</td>\n    </tr>\n    <tr>\n      <th>3 号</th>\n      <td>72.0</td>\n      <td>3.0</td>\n    </tr>\n    <tr>\n      <th>4 号</th>\n      <td>82.0</td>\n      <td>4.0</td>\n    </tr>\n  </tbody>\n</table>\n</div>"
     },
     "execution_count": 20,
     "metadata": {},
     "output_type": "execute_result"
    }
   ],
   "source": [
    "# 用后值填充\n",
    "df.fillna(method='bfill')"
   ],
   "metadata": {
    "collapsed": false,
    "ExecuteTime": {
     "end_time": "2024-11-13T06:31:52.191972Z",
     "start_time": "2024-11-13T06:31:52.184775Z"
    }
   },
   "id": "ec0ff07113e1faeb",
   "execution_count": 20
  },
  {
   "cell_type": "code",
   "outputs": [],
   "source": [],
   "metadata": {
    "collapsed": false
   },
   "id": "92c1ef0d6438a942"
  }
 ],
 "metadata": {
  "kernelspec": {
   "display_name": "Python 3",
   "language": "python",
   "name": "python3"
  },
  "language_info": {
   "codemirror_mode": {
    "name": "ipython",
    "version": 2
   },
   "file_extension": ".py",
   "mimetype": "text/x-python",
   "name": "python",
   "nbconvert_exporter": "python",
   "pygments_lexer": "ipython2",
   "version": "2.7.6"
  }
 },
 "nbformat": 4,
 "nbformat_minor": 5
}
