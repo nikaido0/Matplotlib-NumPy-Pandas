{
 "cells": [
  {
   "cell_type": "code",
   "execution_count": 8,
   "id": "initial_id",
   "metadata": {
    "collapsed": true,
    "ExecuteTime": {
     "end_time": "2024-11-13T05:54:41.536421Z",
     "start_time": "2024-11-13T05:54:41.533894Z"
    }
   },
   "outputs": [],
   "source": [
    "import pandas as pd\n",
    "import numpy as np"
   ]
  },
  {
   "cell_type": "markdown",
   "source": [
    "NumPy 中，可以通过 np.array()函数，将 Python 列表转化为 NumPy 数组；\n",
    "同样，Pandas 中，可以通过 pd.Series()函数，将 Python 字典转化为 Series 对象"
   ],
   "metadata": {
    "collapsed": false
   },
   "id": "5b3f5d17760e3b4d"
  },
  {
   "cell_type": "code",
   "outputs": [
    {
     "name": "stdout",
     "output_type": "stream",
     "text": [
      "{'a': 0, 'b': 0.25, 'c': 0.5, 'd': 0.75, 'e': 1}\n"
     ]
    },
    {
     "data": {
      "text/plain": "a    0.00\nb    0.25\nc    0.50\nd    0.75\ne    1.00\ndtype: float64"
     },
     "execution_count": 4,
     "metadata": {},
     "output_type": "execute_result"
    }
   ],
   "source": [
    " # 创建字典\n",
    "dict_v = {'a': 0, 'b': 0.25, 'c': 0.5, 'd': 0.75, 'e': 1}\n",
    "print(dict_v)\n",
    "# 用字典创建对象\n",
    "sr = pd.Series(dict_v)\n",
    "sr"
   ],
   "metadata": {
    "collapsed": false,
    "ExecuteTime": {
     "end_time": "2024-11-13T05:52:42.244067Z",
     "start_time": "2024-11-13T05:52:42.238539Z"
    }
   },
   "id": "d7243bd651bddd46",
   "execution_count": 4
  },
  {
   "cell_type": "markdown",
   "source": [
    "最直接的创建方法即直接给 pd.Series()函数参数，其需要两个参数。第一个\n",
    "参数是值 values（列表、数组、张量均可） ，第二个参数是键 index（索引）"
   ],
   "metadata": {
    "collapsed": false
   },
   "id": "46d7a639acae12fe"
  },
  {
   "cell_type": "code",
   "outputs": [
    {
     "data": {
      "text/plain": "a    0.00\nb    0.25\nc    0.50\nd    0.75\ne    1.00\ndtype: float64"
     },
     "execution_count": 7,
     "metadata": {},
     "output_type": "execute_result"
    }
   ],
   "source": [
    "# 先定义键与值\n",
    "v = [0, 0.25, 0.5, 0.75, 1]\n",
    "k = ['a', 'b', 'c', 'd', 'e']\n",
    "\n",
    "# 用列表创建对象 其中，参数 index 可以省略，省略后索引即从 0 开始的顺序数字\n",
    "sr = pd.Series(v, k)\n",
    "sr"
   ],
   "metadata": {
    "collapsed": false,
    "ExecuteTime": {
     "end_time": "2024-11-13T05:54:20.768546Z",
     "start_time": "2024-11-13T05:54:20.764397Z"
    }
   },
   "id": "dfa42d5f434e1067",
   "execution_count": 7
  },
  {
   "cell_type": "code",
   "outputs": [
    {
     "data": {
      "text/plain": "1 号    53\n2 号    64\n3 号    72\n4 号    82\ndtype: int64"
     },
     "execution_count": 9,
     "metadata": {},
     "output_type": "execute_result"
    }
   ],
   "source": [
    "# 用数组创建 sr\n",
    "v = np.array([53, 64, 72, 82])\n",
    "k = ['1 号'\n",
    "    , '2 号'\n",
    "    , '3 号'\n",
    "    , '4 号']\n",
    "sr = pd.Series(v, index=k)\n",
    "sr"
   ],
   "metadata": {
    "collapsed": false,
    "ExecuteTime": {
     "end_time": "2024-11-13T05:54:46.059353Z",
     "start_time": "2024-11-13T05:54:46.052712Z"
    }
   },
   "id": "81b8ccd0b8025a9b",
   "execution_count": 9
  },
  {
   "cell_type": "code",
   "outputs": [
    {
     "name": "stdout",
     "output_type": "stream",
     "text": [
      "[53 64 72 82]\n"
     ]
    },
    {
     "data": {
      "text/plain": "Index(['1 号', '2 号', '3 号', '4 号'], dtype='object')"
     },
     "execution_count": 11,
     "metadata": {},
     "output_type": "execute_result"
    }
   ],
   "source": [
    "# 查看 values 属性\n",
    "print(sr.values)\n",
    "\n",
    "# 查看 index 属性\n",
    "sr.index"
   ],
   "metadata": {
    "collapsed": false,
    "ExecuteTime": {
     "end_time": "2024-11-13T05:55:23.987830Z",
     "start_time": "2024-11-13T05:55:23.982266Z"
    }
   },
   "id": "db4a92cc4563af1",
   "execution_count": 11
  },
  {
   "cell_type": "code",
   "outputs": [],
   "source": [
    "import torch"
   ],
   "metadata": {
    "collapsed": false,
    "ExecuteTime": {
     "end_time": "2024-11-13T05:55:42.326698Z",
     "start_time": "2024-11-13T05:55:38.606701Z"
    }
   },
   "id": "1fbcc3e780b53b5f",
   "execution_count": 12
  },
  {
   "cell_type": "markdown",
   "source": [
    "事实上，无论是用列表、数组还是张量来创建对象，最终 values 均为数组"
   ],
   "metadata": {
    "collapsed": false
   },
   "id": "a620285c4f1b20fa"
  },
  {
   "cell_type": "code",
   "outputs": [
    {
     "data": {
      "text/plain": "1 号    53\n2 号    64\n3 号    72\n4 号    82\ndtype: int64"
     },
     "execution_count": 13,
     "metadata": {},
     "output_type": "execute_result"
    }
   ],
   "source": [
    "# 用张量创建 sr\n",
    "v = torch.tensor([53, 64, 72, 82])\n",
    "k = ['1 号'\n",
    "    , '2 号'\n",
    "    , '3 号'\n",
    "    , '4 号']\n",
    "sr = pd.Series(v, index=k)\n",
    "sr"
   ],
   "metadata": {
    "collapsed": false,
    "ExecuteTime": {
     "end_time": "2024-11-13T05:55:58.009218Z",
     "start_time": "2024-11-13T05:55:58.003075Z"
    }
   },
   "id": "a9c305e299623959",
   "execution_count": 13
  },
  {
   "cell_type": "code",
   "outputs": [
    {
     "data": {
      "text/plain": "array([53, 64, 72, 82])"
     },
     "execution_count": 14,
     "metadata": {},
     "output_type": "execute_result"
    }
   ],
   "source": [
    "# 查看 values 的属性\n",
    "sr.values"
   ],
   "metadata": {
    "collapsed": false,
    "ExecuteTime": {
     "end_time": "2024-11-13T05:56:06.011306Z",
     "start_time": "2024-11-13T05:56:06.006911Z"
    }
   },
   "id": "a6153cb03dfb546f",
   "execution_count": 14
  },
  {
   "cell_type": "code",
   "outputs": [
    {
     "data": {
      "text/plain": "1 号    53\n2 号    64\n3 号    72\n4 号    82\ndtype: int64"
     },
     "execution_count": 15,
     "metadata": {},
     "output_type": "execute_result"
    }
   ],
   "source": [
    "# 创建 sr1：各个病人的年龄\n",
    "v1 = [53, 64, 72, 82]\n",
    "i = ['1 号'\n",
    "    , '2 号'\n",
    "    , '3 号'\n",
    "    , '4 号']\n",
    "sr1 = pd.Series(v1, index=i)\n",
    "sr1"
   ],
   "metadata": {
    "collapsed": false,
    "ExecuteTime": {
     "end_time": "2024-11-13T05:58:19.733451Z",
     "start_time": "2024-11-13T05:58:19.728453Z"
    }
   },
   "id": "bd6f1ef7ce05945e",
   "execution_count": 15
  },
  {
   "cell_type": "markdown",
   "source": [
    "用字典法创建二维对象时，必须基于多个 Series 对象，每一个 Series 就是一\n",
    "列数据，相当于对一列一列的数据作拼接。\n",
    "⚫ 创建 Series 对象时，字典的键是 index，其延展方向是竖直方向；\n",
    "⚫ 创建 DataFrame 对象时，字典的键是 columns，其延展方向是水平方向"
   ],
   "metadata": {
    "collapsed": false
   },
   "id": "16969f74f6d0da74"
  },
  {
   "cell_type": "code",
   "outputs": [
    {
     "data": {
      "text/plain": "1 号    女\n2 号    男\n3 号    男\n4 号    女\ndtype: object"
     },
     "execution_count": 17,
     "metadata": {},
     "output_type": "execute_result"
    }
   ],
   "source": [
    "# 创建 sr2：各个病人的性别\n",
    "# 创建 sr2：各个病人的性别\n",
    "v2 = ['女'\n",
    "    ,\n",
    "      '男'\n",
    "    ,\n",
    "      '男'\n",
    "    ,\n",
    "      '女']\n",
    "i = ['1 号'\n",
    "    , '2 号'\n",
    "    , '3 号'\n",
    "    , '4 号']\n",
    "sr2 = pd.Series(v2, index=i)\n",
    "sr2"
   ],
   "metadata": {
    "collapsed": false,
    "ExecuteTime": {
     "end_time": "2024-11-13T05:59:18.329837Z",
     "start_time": "2024-11-13T05:59:18.323100Z"
    }
   },
   "id": "8df2df91c2ba7eb1",
   "execution_count": 17
  },
  {
   "cell_type": "code",
   "outputs": [
    {
     "data": {
      "text/plain": "     年龄 性别\n1 号  53  女\n2 号  64  男\n3 号  72  男\n4 号  82  女",
      "text/html": "<div>\n<style scoped>\n    .dataframe tbody tr th:only-of-type {\n        vertical-align: middle;\n    }\n\n    .dataframe tbody tr th {\n        vertical-align: top;\n    }\n\n    .dataframe thead th {\n        text-align: right;\n    }\n</style>\n<table border=\"1\" class=\"dataframe\">\n  <thead>\n    <tr style=\"text-align: right;\">\n      <th></th>\n      <th>年龄</th>\n      <th>性别</th>\n    </tr>\n  </thead>\n  <tbody>\n    <tr>\n      <th>1 号</th>\n      <td>53</td>\n      <td>女</td>\n    </tr>\n    <tr>\n      <th>2 号</th>\n      <td>64</td>\n      <td>男</td>\n    </tr>\n    <tr>\n      <th>3 号</th>\n      <td>72</td>\n      <td>男</td>\n    </tr>\n    <tr>\n      <th>4 号</th>\n      <td>82</td>\n      <td>女</td>\n    </tr>\n  </tbody>\n</table>\n</div>"
     },
     "execution_count": 18,
     "metadata": {},
     "output_type": "execute_result"
    }
   ],
   "source": [
    "# 创建 df 对象\n",
    "df = pd.DataFrame({'年龄': sr1, '性别': sr2})\n",
    "df"
   ],
   "metadata": {
    "collapsed": false,
    "ExecuteTime": {
     "end_time": "2024-11-13T05:59:33.573914Z",
     "start_time": "2024-11-13T05:59:33.567Z"
    }
   },
   "id": "4a1eca8659c5a79e",
   "execution_count": 18
  },
  {
   "cell_type": "markdown",
   "source": [
    "最直接的创建方法即直接给 pd.DataFrame 函数参数，其需要三个参数。第\n",
    "一个参数是值 values（数组），第二个参数是行标签 index，第三个参数是列标签\n",
    "columns。 其中， index 和 columns 参数可以省略，省略后即从 0 开始的顺序数字"
   ],
   "metadata": {
    "collapsed": false
   },
   "id": "f8195f9b937ba479"
  },
  {
   "cell_type": "code",
   "outputs": [
    {
     "data": {
      "text/plain": "     年龄 性别\n1 号  53  女\n2 号  64  男\n3 号  72  男\n4 号  82  女",
      "text/html": "<div>\n<style scoped>\n    .dataframe tbody tr th:only-of-type {\n        vertical-align: middle;\n    }\n\n    .dataframe tbody tr th {\n        vertical-align: top;\n    }\n\n    .dataframe thead th {\n        text-align: right;\n    }\n</style>\n<table border=\"1\" class=\"dataframe\">\n  <thead>\n    <tr style=\"text-align: right;\">\n      <th></th>\n      <th>年龄</th>\n      <th>性别</th>\n    </tr>\n  </thead>\n  <tbody>\n    <tr>\n      <th>1 号</th>\n      <td>53</td>\n      <td>女</td>\n    </tr>\n    <tr>\n      <th>2 号</th>\n      <td>64</td>\n      <td>男</td>\n    </tr>\n    <tr>\n      <th>3 号</th>\n      <td>72</td>\n      <td>男</td>\n    </tr>\n    <tr>\n      <th>4 号</th>\n      <td>82</td>\n      <td>女</td>\n    </tr>\n  </tbody>\n</table>\n</div>"
     },
     "execution_count": 19,
     "metadata": {},
     "output_type": "execute_result"
    }
   ],
   "source": [
    "# 设定键值\n",
    "v = np.array([[53,\n",
    "               '女'], [64,\n",
    "                       '男'], [72,\n",
    "                               '男'], [82,\n",
    "                                       '女']])\n",
    "i = ['1 号'\n",
    "    , '2 号'\n",
    "    , '3 号'\n",
    "    , '4 号']\n",
    "c = ['年龄'\n",
    "    ,\n",
    "     '性别']\n",
    "# 数组创建法\n",
    "df = pd.DataFrame(v, index=i, columns=c)\n",
    "df"
   ],
   "metadata": {
    "collapsed": false,
    "ExecuteTime": {
     "end_time": "2024-11-13T06:00:35.444128Z",
     "start_time": "2024-11-13T06:00:35.438105Z"
    }
   },
   "id": "6389eecc6f0062c6",
   "execution_count": 19
  },
  {
   "cell_type": "code",
   "outputs": [
    {
     "data": {
      "text/plain": "array([['53', '女'],\n       ['64', '男'],\n       ['72', '男'],\n       ['82', '女']], dtype=object)"
     },
     "execution_count": 22,
     "metadata": {},
     "output_type": "execute_result"
    }
   ],
   "source": [
    "# 查看 values 属性\n",
    "df.values"
   ],
   "metadata": {
    "collapsed": false,
    "ExecuteTime": {
     "end_time": "2024-11-13T06:01:43.481281Z",
     "start_time": "2024-11-13T06:01:43.477163Z"
    }
   },
   "id": "88d949f1cf192deb",
   "execution_count": 22
  },
  {
   "cell_type": "code",
   "outputs": [
    {
     "data": {
      "text/plain": "Index(['1 号', '2 号', '3 号', '4 号'], dtype='object')"
     },
     "execution_count": 23,
     "metadata": {},
     "output_type": "execute_result"
    }
   ],
   "source": [
    "# 查看 index 属性\n",
    "df.index"
   ],
   "metadata": {
    "collapsed": false,
    "ExecuteTime": {
     "end_time": "2024-11-13T06:01:54.195939Z",
     "start_time": "2024-11-13T06:01:54.190981Z"
    }
   },
   "id": "8ba13564739aa71f",
   "execution_count": 23
  },
  {
   "cell_type": "code",
   "outputs": [
    {
     "data": {
      "text/plain": "Index(['年龄', '性别'], dtype='object')"
     },
     "execution_count": 24,
     "metadata": {},
     "output_type": "execute_result"
    }
   ],
   "source": [
    "# 查看 columns 属性\n",
    "df.columns"
   ],
   "metadata": {
    "collapsed": false,
    "ExecuteTime": {
     "end_time": "2024-11-13T06:02:03.985657Z",
     "start_time": "2024-11-13T06:02:03.980787Z"
    }
   },
   "id": "ce0d55df5979ac96",
   "execution_count": 24
  },
  {
   "cell_type": "markdown",
   "source": [
    "当想要 Pandas 退化为 NumPy 时，查看其 values 属性即可"
   ],
   "metadata": {
    "collapsed": false
   },
   "id": "78fcdf95944123bf"
  },
  {
   "cell_type": "code",
   "outputs": [
    {
     "name": "stdout",
     "output_type": "stream",
     "text": [
      "[['53' '女']\n",
      " ['64' '男']\n",
      " ['72' '男']\n",
      " ['82' '女']] (4, 2)\n"
     ]
    }
   ],
   "source": [
    "# 提取完整的数组\n",
    "arr = df.values\n",
    "print(arr, arr.shape)"
   ],
   "metadata": {
    "collapsed": false,
    "ExecuteTime": {
     "end_time": "2024-11-13T06:03:53.792670Z",
     "start_time": "2024-11-13T06:03:53.788454Z"
    }
   },
   "id": "8d06a0ab15d0c76",
   "execution_count": 34
  },
  {
   "cell_type": "code",
   "outputs": [
    {
     "name": "stdout",
     "output_type": "stream",
     "text": [
      "[53 64 72 82] (4,)\n"
     ]
    }
   ],
   "source": [
    "# 提取第[0]列，并转化为一个整数型数组\n",
    "arr = arr[:, 0].astype(int)\n",
    "print(arr, arr.shape)"
   ],
   "metadata": {
    "collapsed": false,
    "ExecuteTime": {
     "end_time": "2024-11-13T06:03:55.316528Z",
     "start_time": "2024-11-13T06:03:55.310497Z"
    }
   },
   "id": "551b817ed4c019e6",
   "execution_count": 35
  },
  {
   "cell_type": "code",
   "outputs": [],
   "source": [],
   "metadata": {
    "collapsed": false
   },
   "id": "bf89f1647d51d9f6"
  }
 ],
 "metadata": {
  "kernelspec": {
   "display_name": "Python 3",
   "language": "python",
   "name": "python3"
  },
  "language_info": {
   "codemirror_mode": {
    "name": "ipython",
    "version": 2
   },
   "file_extension": ".py",
   "mimetype": "text/x-python",
   "name": "python",
   "nbconvert_exporter": "python",
   "pygments_lexer": "ipython2",
   "version": "2.7.6"
  }
 },
 "nbformat": 4,
 "nbformat_minor": 5
}
