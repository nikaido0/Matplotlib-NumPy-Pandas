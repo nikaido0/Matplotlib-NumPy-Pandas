{
 "cells": [
  {
   "cell_type": "code",
   "execution_count": 1,
   "id": "initial_id",
   "metadata": {
    "collapsed": true,
    "ExecuteTime": {
     "end_time": "2024-11-12T07:06:48.572637Z",
     "start_time": "2024-11-12T07:06:48.517335Z"
    }
   },
   "outputs": [],
   "source": [
    "import numpy as np"
   ]
  },
  {
   "cell_type": "markdown",
   "source": [
    "数组的转置方法为 .T，其只对矩阵有效， 因此遇到向量要先将其转化为矩阵"
   ],
   "metadata": {
    "collapsed": false
   },
   "id": "5dcc9af9964f7827"
  },
  {
   "cell_type": "code",
   "outputs": [
    {
     "name": "stdout",
     "output_type": "stream",
     "text": [
      "[1 2 3] (3,)\n"
     ]
    }
   ],
   "source": [
    "arr1 = np.arange(1, 4)  # 创建向量\n",
    "print(arr1, arr1.shape)"
   ],
   "metadata": {
    "collapsed": false,
    "ExecuteTime": {
     "end_time": "2024-11-12T07:07:16.205126Z",
     "start_time": "2024-11-12T07:07:16.201131Z"
    }
   },
   "id": "65aa39d0e0974d02",
   "execution_count": 2
  },
  {
   "cell_type": "code",
   "outputs": [
    {
     "name": "stdout",
     "output_type": "stream",
     "text": [
      "[[1 2 3]] (1, 3)\n"
     ]
    }
   ],
   "source": [
    "arr2 = arr1.reshape((1, -1))  # 升级为矩阵\n",
    "print(arr2, arr2.shape)"
   ],
   "metadata": {
    "collapsed": false,
    "ExecuteTime": {
     "end_time": "2024-11-12T07:07:31.968474Z",
     "start_time": "2024-11-12T07:07:31.964804Z"
    }
   },
   "id": "e3d60f9dbeb42edb",
   "execution_count": 3
  },
  {
   "cell_type": "code",
   "outputs": [
    {
     "name": "stdout",
     "output_type": "stream",
     "text": [
      "[[1]\n",
      " [2]\n",
      " [3]] (3, 1)\n"
     ]
    }
   ],
   "source": [
    "arr3 = arr2.T  # 行矩阵的转置\n",
    "print(arr3, arr3.shape)"
   ],
   "metadata": {
    "collapsed": false,
    "ExecuteTime": {
     "end_time": "2024-11-12T07:07:47.206319Z",
     "start_time": "2024-11-12T07:07:47.201750Z"
    }
   },
   "id": "40055db87ba6f0c6",
   "execution_count": 5
  },
  {
   "cell_type": "code",
   "outputs": [
    {
     "name": "stdout",
     "output_type": "stream",
     "text": [
      "[[0]\n",
      " [1]\n",
      " [2]] (3, 1)\n",
      "[[0 1 2]] (1, 3)\n"
     ]
    }
   ],
   "source": [
    "arr1 = np.arange(3).reshape(3, 1)  # 创建列矩阵\n",
    "print(arr1, arr1.shape)\n",
    "\n",
    "arr2 = arr1.T  # 列矩阵的转置\n",
    "print(arr2, arr2.shape)  # 结果为行矩阵"
   ],
   "metadata": {
    "collapsed": false,
    "ExecuteTime": {
     "end_time": "2024-11-12T07:08:30.045040Z",
     "start_time": "2024-11-12T07:08:30.040930Z"
    }
   },
   "id": "42bc337f10b736f7",
   "execution_count": 8
  },
  {
   "cell_type": "code",
   "outputs": [
    {
     "name": "stdout",
     "output_type": "stream",
     "text": [
      "[[0 1]\n",
      " [2 3]] (2, 2)\n",
      "[[0 2]\n",
      " [1 3]] (2, 2)\n"
     ]
    }
   ],
   "source": [
    "arr1 = np.arange(4).reshape(2, 2)  # 创建矩阵\n",
    "print(arr1, arr1.shape)\n",
    "\n",
    "arr2 = arr1.T  # 矩阵的转置\n",
    "print(arr2, arr2.shape)"
   ],
   "metadata": {
    "collapsed": false,
    "ExecuteTime": {
     "end_time": "2024-11-12T07:09:10.970764Z",
     "start_time": "2024-11-12T07:09:10.967003Z"
    }
   },
   "id": "4966b50bd7a8f215",
   "execution_count": 10
  },
  {
   "cell_type": "markdown",
   "source": [
    "数组的翻转方法有两个，一个是上下翻转的 np.flipud( ) ，表示 up-down；\n",
    "一个是左右翻转的 np.fliplr( )，表示 left-right。其中，向量只能使用 np.flipud( )，\n",
    "在数学中，向量并不是横着排的，而是竖着排的"
   ],
   "metadata": {
    "collapsed": false
   },
   "id": "cd46a9bfc2dbf021"
  },
  {
   "cell_type": "code",
   "outputs": [
    {
     "name": "stdout",
     "output_type": "stream",
     "text": [
      "[0 1 2 3 4 5 6 7 8 9]\n",
      "[9 8 7 6 5 4 3 2 1 0]\n"
     ]
    }
   ],
   "source": [
    "# 创建向量\n",
    "arr1 = np.arange(10)\n",
    "print(arr1)\n",
    "\n",
    "# 翻转向量\n",
    "arr_ud = np.flipud(arr1)\n",
    "print(arr_ud)"
   ],
   "metadata": {
    "collapsed": false,
    "ExecuteTime": {
     "end_time": "2024-11-12T07:10:24.654848Z",
     "start_time": "2024-11-12T07:10:24.651417Z"
    }
   },
   "id": "54aab6d0e6ed5af3",
   "execution_count": 11
  },
  {
   "cell_type": "code",
   "outputs": [
    {
     "name": "stdout",
     "output_type": "stream",
     "text": [
      "[[ 1  2  3  4  5]\n",
      " [ 6  7  8  9 10]\n",
      " [11 12 13 14 15]\n",
      " [16 17 18 19 20]]\n",
      "[[ 5  4  3  2  1]\n",
      " [10  9  8  7  6]\n",
      " [15 14 13 12 11]\n",
      " [20 19 18 17 16]]\n",
      "[[16 17 18 19 20]\n",
      " [11 12 13 14 15]\n",
      " [ 6  7  8  9 10]\n",
      " [ 1  2  3  4  5]]\n"
     ]
    }
   ],
   "source": [
    "# 创建矩阵\n",
    "arr2 = np.arange(1, 21).reshape(4, 5)\n",
    "print(arr2)\n",
    "\n",
    "# 左右翻转\n",
    "arr_lr = np.fliplr(arr2)\n",
    "print(arr_lr)\n",
    "\n",
    "# 上下翻转\n",
    "arr_ud = np.flipud(arr2)\n",
    "print(arr_ud)"
   ],
   "metadata": {
    "collapsed": false,
    "ExecuteTime": {
     "end_time": "2024-11-12T07:11:20.542299Z",
     "start_time": "2024-11-12T07:11:20.536353Z"
    }
   },
   "id": "8f7989b7bd10b772",
   "execution_count": 14
  },
  {
   "cell_type": "markdown",
   "source": [
    "想要重塑数组的形状，需要用到 .reshape( ) 方法。\n",
    "前面说过，给定了其他维度的数值，剩下一个维度可以填-1，让它自己去计\n",
    "算。比如把一个 5 行 6 列的矩阵重塑为 3 行 10 列的矩阵，当列的参数 10 告诉\n",
    "它，行的参数直接可以用-1 来替代，它会自己去用 30 除以 10 来计算"
   ],
   "metadata": {
    "collapsed": false
   },
   "id": "ff862ced711b9428"
  },
  {
   "cell_type": "code",
   "outputs": [
    {
     "name": "stdout",
     "output_type": "stream",
     "text": [
      "[1 2 3 4 5 6 7 8 9]\n",
      "[[1 2 3]\n",
      " [4 5 6]\n",
      " [7 8 9]] (3, 3)\n"
     ]
    }
   ],
   "source": [
    "arr1 = np.arange(1, 10)  # 创建向量\n",
    "print(arr1)\n",
    "arr2 = arr1.reshape(3, 3)  # 变形为矩阵\n",
    "print(arr2, arr2.shape)"
   ],
   "metadata": {
    "collapsed": false,
    "ExecuteTime": {
     "end_time": "2024-11-12T07:12:24.864968Z",
     "start_time": "2024-11-12T07:12:24.860859Z"
    }
   },
   "id": "e0010e5ef700b0ef",
   "execution_count": 15
  },
  {
   "cell_type": "code",
   "outputs": [
    {
     "name": "stdout",
     "output_type": "stream",
     "text": [
      "[[1 2 3]\n",
      " [4 5 6]] (2, 3)\n",
      "[1 2 3 4 5 6] (6,)\n",
      "[[1 2 3 4 5 6]] (1, 6)\n"
     ]
    }
   ],
   "source": [
    "arr1 = np.array([[1, 2, 3], [4, 5, 6]])  # 创建矩阵\n",
    "print(arr1, arr1.shape)\n",
    "\n",
    "arr2 = arr1.reshape(6)  # 变形为向量\n",
    "print(arr2, arr2.shape)\n",
    "\n",
    "arr3 = arr1.reshape(1, 6)  # 变形为矩阵\n",
    "print(arr3, arr3.shape)"
   ],
   "metadata": {
    "collapsed": false,
    "ExecuteTime": {
     "end_time": "2024-11-12T07:13:06.428308Z",
     "start_time": "2024-11-12T07:13:06.424807Z"
    }
   },
   "id": "38a1b9a7b0d80e93",
   "execution_count": 17
  },
  {
   "cell_type": "code",
   "outputs": [
    {
     "name": "stdout",
     "output_type": "stream",
     "text": [
      "[1 2 3]\n",
      "[4 5 6]\n",
      "[1 2 3 4 5 6] (6,)\n"
     ]
    }
   ],
   "source": [
    " # 创建向量 1\n",
    "arr1 = np.array([1, 2, 3])\n",
    "print(arr1)\n",
    "# 创建向量 2\n",
    "arr2 = np.array([4, 5, 6])\n",
    "print(arr2)\n",
    "\n",
    "# 拼接\n",
    "arr3 = np.concatenate([arr1, arr2])\n",
    "print(arr3, arr3.shape)"
   ],
   "metadata": {
    "collapsed": false,
    "ExecuteTime": {
     "end_time": "2024-11-12T07:13:35.573620Z",
     "start_time": "2024-11-12T07:13:35.570689Z"
    }
   },
   "id": "a6385e31ccf5ed8f",
   "execution_count": 18
  },
  {
   "cell_type": "markdown",
   "source": [
    "两个矩阵可以按不同的维度进行拼接，但拼接时必须注意维度的吻合\n",
    "向量和矩阵不能进行拼接，必须先把向量升级为矩阵"
   ],
   "metadata": {
    "collapsed": false
   },
   "id": "ba91f9339a206765"
  },
  {
   "cell_type": "code",
   "outputs": [
    {
     "name": "stdout",
     "output_type": "stream",
     "text": [
      "[[1 2 3]\n",
      " [4 5 6]]\n",
      "[[ 7  8  9]\n",
      " [10 11 12]]\n",
      "[[ 1  2  3]\n",
      " [ 4  5  6]\n",
      " [ 7  8  9]\n",
      " [10 11 12]] (4, 3)\n",
      "[[ 1  2  3  7  8  9]\n",
      " [ 4  5  6 10 11 12]] (2, 6)\n"
     ]
    }
   ],
   "source": [
    "# 创建矩阵 1\n",
    "arr1 = np.array([[1, 2, 3], [4, 5, 6]])\n",
    "print(arr1)\n",
    "\n",
    "# 创建矩阵 2\n",
    "arr2 = np.array([[7, 8, 9], [10, 11, 12]])\n",
    "print(arr2)\n",
    "\n",
    "# 按第一个维度（行）拼接\n",
    "arr3 = np.concatenate([arr1, arr2], axis=0)  # 默认参数 axis=0\n",
    "print(arr3, arr3.shape)\n",
    "\n",
    "# 按第二个维度（列）拼接\n",
    "arr4 = np.concatenate([arr1, arr2], axis=1)\n",
    "print(arr4, arr4.shape)"
   ],
   "metadata": {
    "collapsed": false,
    "ExecuteTime": {
     "end_time": "2024-11-12T07:15:34.259083Z",
     "start_time": "2024-11-12T07:15:34.254858Z"
    }
   },
   "id": "c32a05808f593586",
   "execution_count": 20
  },
  {
   "cell_type": "code",
   "outputs": [
    {
     "name": "stdout",
     "output_type": "stream",
     "text": [
      "[10 20 30 40 50 60 70 80 90]\n",
      "[10 20]\n",
      "[30 40 50 60 70 80]\n",
      "[90]\n"
     ]
    }
   ],
   "source": [
    "# 创建向量\n",
    "arr = np.arange(10, 100, 10)\n",
    "print(arr)\n",
    "\n",
    "# 分裂数组 np.split( )函数中，给出的第二个参数[2,8]表示在索引[2]和索引[8]的位置截断。\n",
    "arr1, arr2, arr3 = np.split(arr, [2, 8])\n",
    "print(arr1)\n",
    "print(arr2)\n",
    "print(arr3)"
   ],
   "metadata": {
    "collapsed": false,
    "ExecuteTime": {
     "end_time": "2024-11-12T07:16:39.136089Z",
     "start_time": "2024-11-12T07:16:39.132938Z"
    }
   },
   "id": "2cf3df6c40c380fa",
   "execution_count": 22
  },
  {
   "cell_type": "code",
   "outputs": [
    {
     "name": "stdout",
     "output_type": "stream",
     "text": [
      "[[1 2 3 4]\n",
      " [5 6 7 8]]\n",
      "[[1 2 3 4]] [[5 6 7 8]]\n",
      "[[1]\n",
      " [5]]\n",
      "[[2 3]\n",
      " [6 7]]\n"
     ]
    }
   ],
   "source": [
    "# 创建矩阵\n",
    "arr = np.arange(1, 9).reshape(2, 4)\n",
    "print(arr)\n",
    "\n",
    "# 按第一个维度（行）分裂\n",
    "arr1, arr2 = np.split(arr, [1])  # 默认参数 axis=0\n",
    "print(arr1, arr2)\n",
    "\n",
    "# 按第二个维度（列）分裂\n",
    "arr1, arr2, arr3 = np.split(arr, [1, 3], axis=1)\n",
    "print(arr1)\n",
    "print(arr2)"
   ],
   "metadata": {
    "collapsed": false,
    "ExecuteTime": {
     "end_time": "2024-11-12T07:20:02.678904Z",
     "start_time": "2024-11-12T07:20:02.672833Z"
    }
   },
   "id": "4525ed8a5886f284",
   "execution_count": 27
  },
  {
   "cell_type": "code",
   "outputs": [],
   "source": [],
   "metadata": {
    "collapsed": false
   },
   "id": "53b47a1d93900296"
  }
 ],
 "metadata": {
  "kernelspec": {
   "display_name": "Python 3",
   "language": "python",
   "name": "python3"
  },
  "language_info": {
   "codemirror_mode": {
    "name": "ipython",
    "version": 2
   },
   "file_extension": ".py",
   "mimetype": "text/x-python",
   "name": "python",
   "nbconvert_exporter": "python",
   "pygments_lexer": "ipython2",
   "version": "2.7.6"
  }
 },
 "nbformat": 4,
 "nbformat_minor": 5
}
