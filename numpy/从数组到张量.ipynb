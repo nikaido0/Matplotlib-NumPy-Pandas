{
 "cells": [
  {
   "cell_type": "markdown",
   "source": [
    "PyTorch 作为当前首屈一指的深度学习库，其将 NumPy 的语法尽数吸收，作为自己处理数组的基本语\n",
    "法，且运算速度从使用 CPU 的数组进步到使用 GPU 的张量。\n",
    "⚫ NumPy 和 PyTorch 的基础语法几乎一致，具体表现为：\n",
    "① np 对应 torch；\n",
    "② 数组 array 对应张量 tensor；\n",
    "③ NumPy 的n 维数组对应着 PyTorch 的n 阶张量。\n",
    "⚫ 数组与张量之间可以相互转换：\n",
    "数组 arr 转为张量 ts：ts = torch.tensor(arr)；\n",
    "张量 ts 转为数组 arr：arr = np.array(ts)。"
   ],
   "metadata": {
    "collapsed": false
   },
   "id": "eb5a338831c9f958"
  },
  {
   "cell_type": "code",
   "execution_count": null,
   "id": "initial_id",
   "metadata": {
    "collapsed": true
   },
   "outputs": [],
   "source": []
  },
  {
   "cell_type": "markdown",
   "source": [],
   "metadata": {
    "collapsed": false
   },
   "id": "75c731e41d73a456"
  }
 ],
 "metadata": {
  "kernelspec": {
   "display_name": "Python 3",
   "language": "python",
   "name": "python3"
  },
  "language_info": {
   "codemirror_mode": {
    "name": "ipython",
    "version": 2
   },
   "file_extension": ".py",
   "mimetype": "text/x-python",
   "name": "python",
   "nbconvert_exporter": "python",
   "pygments_lexer": "ipython2",
   "version": "2.7.6"
  }
 },
 "nbformat": 4,
 "nbformat_minor": 5
}
