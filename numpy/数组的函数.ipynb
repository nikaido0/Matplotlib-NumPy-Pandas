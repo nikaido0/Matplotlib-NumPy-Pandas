{
 "cells": [
  {
   "cell_type": "code",
   "execution_count": 1,
   "id": "initial_id",
   "metadata": {
    "collapsed": true,
    "ExecuteTime": {
     "end_time": "2024-11-12T07:34:36.267772Z",
     "start_time": "2024-11-12T07:34:36.210671Z"
    }
   },
   "outputs": [],
   "source": [
    "import numpy as np"
   ]
  },
  {
   "cell_type": "markdown",
   "source": [
    "当矩阵乘积中混有向量时， 根据需求， 其可充当行矩阵，也可充当列矩阵，\n",
    "但混有向量时输出结果必为向量"
   ],
   "metadata": {
    "collapsed": false
   },
   "id": "79765c88b26ebfca"
  },
  {
   "cell_type": "code",
   "outputs": [
    {
     "name": "stdout",
     "output_type": "stream",
     "text": [
      "[0 1 2 3 4]\n",
      "[0 1 2 3 4]\n"
     ]
    }
   ],
   "source": [
    "# 创建向量\n",
    "arr1 = np.arange(5)\n",
    "arr2 = np.arange(5)\n",
    "print(arr1)\n",
    "print(arr2)"
   ],
   "metadata": {
    "collapsed": false,
    "ExecuteTime": {
     "end_time": "2024-11-12T07:34:45.228777Z",
     "start_time": "2024-11-12T07:34:45.224185Z"
    }
   },
   "id": "25c016d4d9aff438",
   "execution_count": 2
  },
  {
   "cell_type": "code",
   "outputs": [
    {
     "name": "stdout",
     "output_type": "stream",
     "text": [
      "30\n"
     ]
    }
   ],
   "source": [
    "# 矩阵乘积\n",
    "print(np.dot(arr1, arr2))"
   ],
   "metadata": {
    "collapsed": false,
    "ExecuteTime": {
     "end_time": "2024-11-12T07:35:18.551378Z",
     "start_time": "2024-11-12T07:35:18.547284Z"
    }
   },
   "id": "b2d94bdba750a908",
   "execution_count": 3
  },
  {
   "cell_type": "code",
   "outputs": [
    {
     "name": "stdout",
     "output_type": "stream",
     "text": [
      "[0 1 2 3 4] (5,)\n",
      "[[ 0  1  2]\n",
      " [ 3  4  5]\n",
      " [ 6  7  8]\n",
      " [ 9 10 11]\n",
      " [12 13 14]]\n"
     ]
    }
   ],
   "source": [
    "# 创建数组\n",
    "arr1 = np.arange(5)\n",
    "arr2 = np.arange(15).reshape(5, 3)\n",
    "print(arr1, arr1.shape)\n",
    "print(arr2)"
   ],
   "metadata": {
    "collapsed": false,
    "ExecuteTime": {
     "end_time": "2024-11-12T07:45:14.202602Z",
     "start_time": "2024-11-12T07:45:14.198069Z"
    }
   },
   "id": "e773a9ecf6bb6acb",
   "execution_count": 4
  },
  {
   "cell_type": "code",
   "outputs": [
    {
     "name": "stdout",
     "output_type": "stream",
     "text": [
      "[ 90 100 110]\n"
     ]
    }
   ],
   "source": [
    "# 矩阵乘积\n",
    "print(np.dot(arr1, arr2))"
   ],
   "metadata": {
    "collapsed": false,
    "ExecuteTime": {
     "end_time": "2024-11-12T07:45:52.772306Z",
     "start_time": "2024-11-12T07:45:52.767665Z"
    }
   },
   "id": "88654a560defd939",
   "execution_count": 7
  },
  {
   "cell_type": "code",
   "outputs": [
    {
     "name": "stdout",
     "output_type": "stream",
     "text": [
      "[[0 1]\n",
      " [2 3]\n",
      " [4 5]\n",
      " [6 7]\n",
      " [8 9]]\n",
      "[[ 0  1  2  3  4  5  6  7]\n",
      " [ 8  9 10 11 12 13 14 15]]\n"
     ]
    }
   ],
   "source": [
    "# 创建矩阵 1\n",
    "arr1 = np.arange(10).reshape(5, 2)\n",
    "print(arr1)\n",
    "\n",
    "# 创建矩阵 2\n",
    "arr2 = np.arange(16).reshape(2, 8)\n",
    "print(arr2)"
   ],
   "metadata": {
    "collapsed": false,
    "ExecuteTime": {
     "end_time": "2024-11-12T07:46:46.668745Z",
     "start_time": "2024-11-12T07:46:46.663194Z"
    }
   },
   "id": "e0e65f0a069f35e9",
   "execution_count": 8
  },
  {
   "cell_type": "code",
   "outputs": [
    {
     "name": "stdout",
     "output_type": "stream",
     "text": [
      "(5, 8)\n"
     ]
    }
   ],
   "source": [
    "# 矩阵乘积\n",
    "print(np.dot(arr1, arr2).shape)"
   ],
   "metadata": {
    "collapsed": false,
    "ExecuteTime": {
     "end_time": "2024-11-12T07:46:54.221288Z",
     "start_time": "2024-11-12T07:46:54.217225Z"
    }
   },
   "id": "d549858e197bf534",
   "execution_count": 9
  },
  {
   "cell_type": "code",
   "outputs": [
    {
     "name": "stdout",
     "output_type": "stream",
     "text": [
      "原数组是： [-10   0  10]\n",
      "绝对值是： [10  0 10]\n"
     ]
    }
   ],
   "source": [
    "# 绝对值函数\n",
    "arr_v = np.array([-10, 0, 10])\n",
    "abs_v = np.abs(arr_v)\n",
    "print('原数组是：', arr_v)\n",
    "print('绝对值是：', abs_v)"
   ],
   "metadata": {
    "collapsed": false,
    "ExecuteTime": {
     "end_time": "2024-11-12T07:47:12.232485Z",
     "start_time": "2024-11-12T07:47:12.228050Z"
    }
   },
   "id": "e060f48b5cb2024f",
   "execution_count": 10
  },
  {
   "cell_type": "code",
   "outputs": [
    {
     "name": "stdout",
     "output_type": "stream",
     "text": [
      "原数组是： [0.         1.57079633 3.14159265]\n",
      "正弦值是： [0.0000000e+00 1.0000000e+00 1.2246468e-16]\n",
      "余弦值是： [ 1.000000e+00  6.123234e-17 -1.000000e+00]\n",
      "正切值是： [ 0.00000000e+00  1.63312394e+16 -1.22464680e-16]\n"
     ]
    }
   ],
   "source": [
    "# 三角函数\n",
    "theta = np.arange(3) * np.pi / 2\n",
    "sin_v = np.sin(theta)\n",
    "cos_v = np.cos(theta)\n",
    "tan_v = np.tan(theta)\n",
    "print('原数组是：', theta)\n",
    "print('正弦值是：', sin_v)\n",
    "print('余弦值是：', cos_v)\n",
    "print('正切值是：', tan_v)"
   ],
   "metadata": {
    "collapsed": false,
    "ExecuteTime": {
     "end_time": "2024-11-12T07:47:26.200816Z",
     "start_time": "2024-11-12T07:47:26.195183Z"
    }
   },
   "id": "636a4e290ba60133",
   "execution_count": 11
  },
  {
   "cell_type": "code",
   "outputs": [
    {
     "name": "stdout",
     "output_type": "stream",
     "text": [
      "x = [1 2 3]\n",
      "e^x = [ 2.71828183  7.3890561  20.08553692]\n",
      "2^x = [2 4 8]\n",
      "10^x =  [  10  100 1000]\n"
     ]
    }
   ],
   "source": [
    "# 指数函数\n",
    "x = np.arange(1, 4)\n",
    "print('x =', x)\n",
    "print('e^x =', np.exp(x))\n",
    "print('2^x =', 2 ** x)\n",
    "print('10^x = ', 10 ** x)"
   ],
   "metadata": {
    "collapsed": false,
    "ExecuteTime": {
     "end_time": "2024-11-12T07:49:07.825685Z",
     "start_time": "2024-11-12T07:49:07.821048Z"
    }
   },
   "id": "1780224b218914d0",
   "execution_count": 12
  },
  {
   "cell_type": "code",
   "outputs": [
    {
     "name": "stdout",
     "output_type": "stream",
     "text": [
      "x = [   1   10  100 1000]\n",
      "ln(x) = [0.         2.30258509 4.60517019 6.90775528]\n",
      "log2(x) = [0.         3.32192809 6.64385619 9.96578428]\n",
      "log10(x) = [0. 1. 2. 3.]\n"
     ]
    }
   ],
   "source": [
    "# 对数函数\n",
    "x = np.array([1, 10, 100, 1000])\n",
    "print('x =', x)\n",
    "print('ln(x) =', np.log(x))\n",
    "print('log2(x) =', np.log(x) / np.log(2))\n",
    "print('log10(x) =', np.log(x) / np.log(10))"
   ],
   "metadata": {
    "collapsed": false,
    "ExecuteTime": {
     "end_time": "2024-11-12T07:49:40.143721Z",
     "start_time": "2024-11-12T07:49:40.140221Z"
    }
   },
   "id": "ce44399c63d48462",
   "execution_count": 13
  },
  {
   "cell_type": "markdown",
   "source": [
    "聚合很有用，这里用矩阵演示。向量与之一致，但没有 axis 参数"
   ],
   "metadata": {
    "collapsed": false
   },
   "id": "8f3c966855e55a75"
  },
  {
   "cell_type": "code",
   "outputs": [
    {
     "name": "stdout",
     "output_type": "stream",
     "text": [
      "[[0.75044872 0.39337807 0.66271635]\n",
      " [0.454357   0.99187685 0.15454709]]\n",
      "按维度一求最大值： [0.75044872 0.99187685 0.66271635]\n",
      "按维度二求最大值： [0.75044872 0.99187685]\n",
      "整体求最大值： 0.991876847999946\n"
     ]
    }
   ],
   "source": [
    "# 最大值函数 np.max( )与最小值函数 np.min( )\n",
    "arr = np.random.random((2, 3))\n",
    "print(arr)\n",
    "print('按维度一求最大值：', np.max(arr, axis=0))  # 每一列的最大值\n",
    "print('按维度二求最大值：', np.max(arr, axis=1))  # 每一行的最大值\n",
    "print('整体求最大值：', np.max(arr))"
   ],
   "metadata": {
    "collapsed": false,
    "ExecuteTime": {
     "end_time": "2024-11-12T07:51:19.804750Z",
     "start_time": "2024-11-12T07:51:19.799403Z"
    }
   },
   "id": "ca7fcc15ca04a523",
   "execution_count": 15
  },
  {
   "cell_type": "code",
   "outputs": [
    {
     "name": "stdout",
     "output_type": "stream",
     "text": [
      "[[0 1 2 3 4]\n",
      " [5 6 7 8 9]]\n",
      "按维度一求和： [ 5  7  9 11 13]\n",
      "按维度二求和： [10 35]\n",
      "整体求和： 45\n"
     ]
    }
   ],
   "source": [
    " # 求和函数 np.sum( )与求积函数 np.prod( )\n",
    "arr = np.arange(10).reshape(2, 5)\n",
    "print(arr)\n",
    "print('按维度一求和：', np.sum(arr, axis=0))\n",
    "print('按维度二求和：', np.sum(arr, axis=1))\n",
    "print('整体求和：', np.sum(arr))"
   ],
   "metadata": {
    "collapsed": false,
    "ExecuteTime": {
     "end_time": "2024-11-12T07:52:27.342238Z",
     "start_time": "2024-11-12T07:52:27.336491Z"
    }
   },
   "id": "81f0885ff87e2400",
   "execution_count": 16
  },
  {
   "cell_type": "code",
   "outputs": [
    {
     "name": "stdout",
     "output_type": "stream",
     "text": [
      "[[0 1 2 3 4]\n",
      " [5 6 7 8 9]]\n",
      "按维度一求平均： [2.5 3.5 4.5 5.5 6.5]\n",
      "按维度二求平均： [2. 7.]\n",
      "整体求平均： 4.5\n"
     ]
    }
   ],
   "source": [
    " # 均值函数 np.mean( )与标准差函数 np.std( )\n",
    "arr = np.arange(10).reshape(2, 5)\n",
    "print(arr)\n",
    "print('按维度一求平均：', np.mean(arr, axis=0))\n",
    "print('按维度二求平均：', np.mean(arr, axis=1))\n",
    "print('整体求平均：', np.mean(arr))"
   ],
   "metadata": {
    "collapsed": false,
    "ExecuteTime": {
     "end_time": "2024-11-12T07:52:44.349478Z",
     "start_time": "2024-11-12T07:52:44.346201Z"
    }
   },
   "id": "153b9d270456d47b",
   "execution_count": 17
  },
  {
   "cell_type": "code",
   "outputs": [],
   "source": [],
   "metadata": {
    "collapsed": false
   },
   "id": "4a3159d53d8d4e22"
  }
 ],
 "metadata": {
  "kernelspec": {
   "display_name": "Python 3",
   "language": "python",
   "name": "python3"
  },
  "language_info": {
   "codemirror_mode": {
    "name": "ipython",
    "version": 2
   },
   "file_extension": ".py",
   "mimetype": "text/x-python",
   "name": "python",
   "nbconvert_exporter": "python",
   "pygments_lexer": "ipython2",
   "version": "2.7.6"
  }
 },
 "nbformat": 4,
 "nbformat_minor": 5
}
