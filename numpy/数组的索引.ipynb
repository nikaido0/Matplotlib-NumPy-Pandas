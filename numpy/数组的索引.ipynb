{
 "cells": [
  {
   "cell_type": "code",
   "execution_count": 1,
   "id": "initial_id",
   "metadata": {
    "collapsed": true,
    "ExecuteTime": {
     "end_time": "2024-11-12T06:25:22.444950Z",
     "start_time": "2024-11-12T06:25:22.390374Z"
    }
   },
   "outputs": [],
   "source": [
    "import numpy as np"
   ]
  },
  {
   "cell_type": "code",
   "outputs": [
    {
     "name": "stdout",
     "output_type": "stream",
     "text": [
      "[1 2 3 4 5 6 7 8 9]\n",
      "4\n",
      "9\n",
      "[  1   2   3 100   5   6   7   8   9]\n"
     ]
    }
   ],
   "source": [
    "# 创建向量\n",
    "arr1 = np.arange(1, 10)\n",
    "print(arr1)\n",
    "\n",
    "# 访问元素\n",
    "print(arr1[3])  # 正着访问\n",
    "print(arr1[-1])  # 倒着访问\n",
    "\n",
    "# 修改数组元素\n",
    "arr1[3] = 100\n",
    "print(arr1)"
   ],
   "metadata": {
    "collapsed": false,
    "ExecuteTime": {
     "end_time": "2024-11-12T06:26:00.179244Z",
     "start_time": "2024-11-12T06:26:00.173378Z"
    }
   },
   "id": "84bd46068b52bd0",
   "execution_count": 3
  },
  {
   "cell_type": "code",
   "outputs": [
    {
     "name": "stdout",
     "output_type": "stream",
     "text": [
      "[[1 2 3]\n",
      " [4 5 6]]\n",
      "3\n",
      "5\n",
      "[[  1   2   3]\n",
      " [  4 100   6]]\n"
     ]
    }
   ],
   "source": [
    "# 创建矩阵\n",
    "arr2 = np.array([[1, 2, 3], [4, 5, 6]])\n",
    "print(arr2)\n",
    "\n",
    "# 访问元素\n",
    "print(arr2[0, 2])\n",
    "print(arr2[1, -2])\n",
    "\n",
    "# 修改元素\n",
    "arr2[1, 1] = 100.9\n",
    "print(arr2)"
   ],
   "metadata": {
    "collapsed": false,
    "ExecuteTime": {
     "end_time": "2024-11-12T06:26:44.687453Z",
     "start_time": "2024-11-12T06:26:44.681648Z"
    }
   },
   "id": "567456e7c556d622",
   "execution_count": 5
  },
  {
   "cell_type": "code",
   "outputs": [
    {
     "name": "stdout",
     "output_type": "stream",
     "text": [
      "[ 0 10 20 30 40 50 60 70 80]\n",
      "[ 0 20]\n"
     ]
    }
   ],
   "source": [
    " # 创建向量\n",
    "arr1 = np.arange(0, 90, 10)\n",
    "print(arr1)\n",
    "\n",
    "# 花式索引 普通索引用一层中括号，花式索引用两层中括号\n",
    "print(arr1[[0, 2]])"
   ],
   "metadata": {
    "collapsed": false,
    "ExecuteTime": {
     "end_time": "2024-11-12T06:27:34.267076Z",
     "start_time": "2024-11-12T06:27:34.263202Z"
    }
   },
   "id": "88dc68d164bbfa5a",
   "execution_count": 6
  },
  {
   "cell_type": "code",
   "outputs": [
    {
     "name": "stdout",
     "output_type": "stream",
     "text": [
      "[[ 1  2  3  4]\n",
      " [ 5  6  7  8]\n",
      " [ 9 10 11 12]\n",
      " [13 14 15 16]]\n",
      "[1 6]\n",
      "[3 6 9]\n"
     ]
    }
   ],
   "source": [
    "# 创建矩阵\n",
    "arr2 = np.arange(1, 17).reshape(4, 4)\n",
    "print(arr2)\n",
    "\n",
    "# 花式索引\n",
    "print(arr2[[0, 1], [0, 1]])  # (x1,x2) (y1,y2)\n",
    "print(arr2[[0, 1, 2], [2, 1, 0]])"
   ],
   "metadata": {
    "collapsed": false,
    "ExecuteTime": {
     "end_time": "2024-11-12T06:28:44.587239Z",
     "start_time": "2024-11-12T06:28:44.582150Z"
    }
   },
   "id": "a0dbab784caa447b",
   "execution_count": 8
  },
  {
   "cell_type": "code",
   "outputs": [
    {
     "name": "stdout",
     "output_type": "stream",
     "text": [
      "[0 1 2 3 4 5 6 7 8 9]\n",
      "[1 2 3]\n",
      "[1 2 3 4 5 6 7 8 9]\n",
      "[0 1 2 3]\n",
      "[0 1 2 3 4 5 6 7 8 9]\n",
      "[2 3 4 5 6 7]\n",
      "[2 3 4 5 6 7 8 9]\n",
      "[0 1 2 3 4 5 6 7]\n"
     ]
    }
   ],
   "source": [
    "arr1 = np.arange(10)\n",
    "\n",
    "print(arr1)\n",
    "print(arr1[1: 4])  # 从索引[1]开始，切到索引[4]之前 左闭右开\n",
    "print(arr1[1:])  # 从索引[1]开始，切到结尾\n",
    "print(arr1[: 4])  # 从数组开头开始，切到索引[4]之前\n",
    "\n",
    "print(arr1)\n",
    "print(arr1[2: -2])  # 切除开头 2个和结尾 2个\n",
    "print(arr1[2:])  # 切除开头 2个\n",
    "print(arr1[: -2])  # 切除结尾 2个"
   ],
   "metadata": {
    "collapsed": false,
    "ExecuteTime": {
     "end_time": "2024-11-12T06:32:01.919042Z",
     "start_time": "2024-11-12T06:32:01.912239Z"
    }
   },
   "id": "48537719d5bea428",
   "execution_count": 11
  },
  {
   "cell_type": "code",
   "outputs": [
    {
     "name": "stdout",
     "output_type": "stream",
     "text": [
      "[0 1 2 3 4 5 6 7 8 9]\n",
      "[0 2 4 6 8]\n",
      "[0 3 6 9]\n",
      "[1 3 5 7]\n"
     ]
    }
   ],
   "source": [
    "print(arr1)\n",
    "print(arr1[:: 2])  # 每 2个元素采样一次\n",
    "print(arr1[:: 3])  # 每 3个元素采样一次\n",
    "print(arr1[1: -1: 2])  # 切除一头一尾后，每 2个元素采样一次"
   ],
   "metadata": {
    "collapsed": false,
    "ExecuteTime": {
     "end_time": "2024-11-12T06:33:24.679643Z",
     "start_time": "2024-11-12T06:33:24.675921Z"
    }
   },
   "id": "424b33455e44b7be",
   "execution_count": 12
  },
  {
   "cell_type": "code",
   "outputs": [
    {
     "name": "stdout",
     "output_type": "stream",
     "text": [
      "[[ 1  2  3  4  5]\n",
      " [ 6  7  8  9 10]\n",
      " [11 12 13 14 15]\n",
      " [16 17 18 19 20]]\n",
      "[[ 7  8  9]\n",
      " [12 13 14]]\n"
     ]
    }
   ],
   "source": [
    "arr2 = np.arange(1, 21).reshape(4, 5)\n",
    "print(arr2)\n",
    "\n",
    "# 1:3 表示行的范围，从第 1 行开始（索引为 1），到第 3 行结束\n",
    "# 1:-1 表示列的范围，从第 1 列开始（索引为 1），到倒数第 1 列结束（不包括倒数第 1 列本身）。\n",
    "print(arr2[1:3, 1:-1])"
   ],
   "metadata": {
    "collapsed": false,
    "ExecuteTime": {
     "end_time": "2024-11-12T06:34:14.893806Z",
     "start_time": "2024-11-12T06:34:14.888214Z"
    }
   },
   "id": "967402ed0705b570",
   "execution_count": 14
  },
  {
   "cell_type": "code",
   "outputs": [
    {
     "name": "stdout",
     "output_type": "stream",
     "text": [
      "[[ 1  3  5]\n",
      " [16 18 20]]\n"
     ]
    }
   ],
   "source": [
    "# ::3 表示行的步长为 3，意味着从第 0 行开始，每隔 3 行取一次\n",
    "# ::2 表示列的步长为 2，意味着从第 0 列开始，每隔 2 列取一次\n",
    "print(arr2[::3, ::2])  # 跳跃采样"
   ],
   "metadata": {
    "collapsed": false,
    "ExecuteTime": {
     "end_time": "2024-11-12T06:37:21.301887Z",
     "start_time": "2024-11-12T06:37:21.297954Z"
    }
   },
   "id": "ecb94ae873ea212c",
   "execution_count": 16
  },
  {
   "cell_type": "code",
   "outputs": [
    {
     "name": "stdout",
     "output_type": "stream",
     "text": [
      "[[ 1  2  3  4  5]\n",
      " [ 6  7  8  9 10]\n",
      " [11 12 13 14 15]\n",
      " [16 17 18 19 20]]\n",
      "[11 12 13 14 15]\n",
      "[[ 6  7  8  9 10]\n",
      " [11 12 13 14 15]]\n"
     ]
    }
   ],
   "source": [
    "arr3 = np.arange(1, 21).reshape(4, 5)\n",
    "print(arr3)\n",
    "\n",
    "print(arr3[2, :])  # 提取第 2 行\n",
    "print(arr3[1:3, :])  # 提取 1至 2行"
   ],
   "metadata": {
    "collapsed": false,
    "ExecuteTime": {
     "end_time": "2024-11-12T06:38:49.498577Z",
     "start_time": "2024-11-12T06:38:49.493539Z"
    }
   },
   "id": "8f0638eb520f13c0",
   "execution_count": 18
  },
  {
   "cell_type": "code",
   "outputs": [
    {
     "name": "stdout",
     "output_type": "stream",
     "text": [
      "[11 12 13 14 15]\n",
      "[11 12 13 14 15]\n"
     ]
    }
   ],
   "source": [
    "print(arr3[2, :])  # 规范的提取行\n",
    "print(arr3[2])  # 简便的提取行"
   ],
   "metadata": {
    "collapsed": false,
    "ExecuteTime": {
     "end_time": "2024-11-12T06:40:18.893763Z",
     "start_time": "2024-11-12T06:40:18.890077Z"
    }
   },
   "id": "7d9a01dcd901a59a",
   "execution_count": 19
  },
  {
   "cell_type": "code",
   "outputs": [
    {
     "name": "stdout",
     "output_type": "stream",
     "text": [
      "[[ 1  2  3  4  5]\n",
      " [ 6  7  8  9 10]\n",
      " [11 12 13 14 15]\n",
      " [16 17 18 19 20]]\n"
     ]
    }
   ],
   "source": [
    "arr4 = np.arange(1, 21).reshape(4, 5)\n",
    "print(arr4)"
   ],
   "metadata": {
    "collapsed": false,
    "ExecuteTime": {
     "end_time": "2024-11-12T06:40:47.722971Z",
     "start_time": "2024-11-12T06:40:47.719887Z"
    }
   },
   "id": "b86c55d46cdc47d4",
   "execution_count": 20
  },
  {
   "cell_type": "code",
   "outputs": [
    {
     "name": "stdout",
     "output_type": "stream",
     "text": [
      "[ 3  8 13 18]\n",
      "[[ 2  3]\n",
      " [ 7  8]\n",
      " [12 13]\n",
      " [17 18]]\n"
     ]
    }
   ],
   "source": [
    "print(arr4[:, 2])  # 提取第 2列（注意，输出的是向量）\n",
    "print(arr4[:, 1:3])  # 提取 1 至2 列"
   ],
   "metadata": {
    "collapsed": false,
    "ExecuteTime": {
     "end_time": "2024-11-12T06:41:25.281827Z",
     "start_time": "2024-11-12T06:41:25.277464Z"
    }
   },
   "id": "2b93098416940bd3",
   "execution_count": 24
  },
  {
   "cell_type": "code",
   "outputs": [
    {
     "name": "stdout",
     "output_type": "stream",
     "text": [
      "[[ 1  2  3  4  5]\n",
      " [ 6  7  8  9 10]\n",
      " [11 12 13 14 15]]\n"
     ]
    }
   ],
   "source": [
    "arr5 = np.arange(1, 16).reshape(3, 5)\n",
    "print(arr5)"
   ],
   "metadata": {
    "collapsed": false,
    "ExecuteTime": {
     "end_time": "2024-11-12T06:42:08.366417Z",
     "start_time": "2024-11-12T06:42:08.362365Z"
    }
   },
   "id": "bbdfe4245fa09db4",
   "execution_count": 25
  },
  {
   "cell_type": "code",
   "outputs": [
    {
     "name": "stdout",
     "output_type": "stream",
     "text": [
      "[ 3  8 13]\n"
     ]
    }
   ],
   "source": [
    "cut = arr5[:, 2]  # 提取第 2列为向量\n",
    "print(cut)"
   ],
   "metadata": {
    "collapsed": false,
    "ExecuteTime": {
     "end_time": "2024-11-12T06:42:17.264558Z",
     "start_time": "2024-11-12T06:42:17.261273Z"
    }
   },
   "id": "a03861674af85b3a",
   "execution_count": 26
  },
  {
   "cell_type": "code",
   "outputs": [
    {
     "name": "stdout",
     "output_type": "stream",
     "text": [
      "[[ 3]\n",
      " [ 8]\n",
      " [13]]\n"
     ]
    }
   ],
   "source": [
    "cut = cut.reshape((-1, 1))  # 升级为列矩阵\n",
    "print(cut)"
   ],
   "metadata": {
    "collapsed": false,
    "ExecuteTime": {
     "end_time": "2024-11-12T06:42:26.604015Z",
     "start_time": "2024-11-12T06:42:26.600228Z"
    }
   },
   "id": "6594e7d10ec022aa",
   "execution_count": 27
  },
  {
   "cell_type": "code",
   "outputs": [
    {
     "name": "stdout",
     "output_type": "stream",
     "text": [
      "[0 1 2 3 4 5 6 7 8 9]\n"
     ]
    }
   ],
   "source": [
    "arr = np.arange(10)  # 创建原数组 arr\n",
    "print(arr)"
   ],
   "metadata": {
    "collapsed": false,
    "ExecuteTime": {
     "end_time": "2024-11-12T06:43:09.788046Z",
     "start_time": "2024-11-12T06:43:09.781096Z"
    }
   },
   "id": "4e8b7be5b2c103e7",
   "execution_count": 28
  },
  {
   "cell_type": "markdown",
   "source": [
    "与 Python 列表和 Matlab 不同，NumPy 数组的切片仅仅是原数组的一个视\n",
    "图。换言之，NumPy 切片并不会创建新的变量"
   ],
   "metadata": {
    "collapsed": false
   },
   "id": "63d77bb03b23fe2f"
  },
  {
   "cell_type": "code",
   "outputs": [
    {
     "name": "stdout",
     "output_type": "stream",
     "text": [
      "[100   1   2]\n",
      "[100   1   2]\n",
      "[100   1   2   3   4   5   6   7   8   9]\n"
     ]
    }
   ],
   "source": [
    "cut = arr[: 3]  # 创建 arr 的切片 cut\n",
    "print(cut)\n",
    "\n",
    "cut[0] = 100  # 对切片的数值进行修改\n",
    "print(cut)\n",
    "print(arr)  # 原数组也被修改"
   ],
   "metadata": {
    "collapsed": false,
    "ExecuteTime": {
     "end_time": "2024-11-12T06:43:49.332805Z",
     "start_time": "2024-11-12T06:43:49.329923Z"
    }
   },
   "id": "cee2ce5a9db970e5",
   "execution_count": 31
  },
  {
   "cell_type": "markdown",
   "source": [
    "如果真的需要为切片创建新变量（这种情况很稀少），使用 .copy( ) 方法。"
   ],
   "metadata": {
    "collapsed": false
   },
   "id": "8df740ccb45284d8"
  },
  {
   "cell_type": "code",
   "outputs": [
    {
     "name": "stdout",
     "output_type": "stream",
     "text": [
      "[0 1 2 3 4 5 6 7 8 9]\n",
      "[0 1 2]\n",
      "[100   1   2]\n",
      "[0 1 2 3 4 5 6 7 8 9]\n"
     ]
    }
   ],
   "source": [
    "arr = np.arange(10)  # 创建一个 0到 10 的向量 arr\n",
    "print(arr)\n",
    "\n",
    "copy = arr[: 3].copy()  # 创建 arr 的拷贝切片\n",
    "print(copy)\n",
    "\n",
    "copy[0] = 100  # 对拷贝切片的数值进行修改\n",
    "print(copy)\n",
    "print(arr)  # 原数组不为所动"
   ],
   "metadata": {
    "collapsed": false,
    "ExecuteTime": {
     "end_time": "2024-11-12T06:45:16.957222Z",
     "start_time": "2024-11-12T06:45:16.953701Z"
    }
   },
   "id": "ead392e2fbec361d",
   "execution_count": 33
  },
  {
   "cell_type": "markdown",
   "source": [
    "与 NumPy 数组的切片一样，NumPy 数组完整的赋值给另一个数组，也只是\n",
    "绑定。换言之，NumPy 数组之间的赋值并不会创建新的变量，示例如下。"
   ],
   "metadata": {
    "collapsed": false
   },
   "id": "b76d397925649093"
  },
  {
   "cell_type": "code",
   "outputs": [
    {
     "name": "stdout",
     "output_type": "stream",
     "text": [
      "[0 1 2 3 4 5 6 7 8 9]\n",
      "[0 1 2 3 4 5 6 7 8 9]\n",
      "[100   1   2   3   4   5   6   7   8   9]\n",
      "[100   1   2   3   4   5   6   7   8   9]\n"
     ]
    }
   ],
   "source": [
    "arr1 = np.arange(10)  # 创建一个 0 到10 的数组变量 arr\n",
    "print(arr1)\n",
    "arr2 = arr1  # 把数组 1 赋值给另一个数组 2\n",
    "print(arr2)\n",
    "arr2[0] = 100  # 修改数组 2\n",
    "print(arr2)\n",
    "print(arr1)  # 原数组也被修改"
   ],
   "metadata": {
    "collapsed": false,
    "ExecuteTime": {
     "end_time": "2024-11-12T07:04:58.710542Z",
     "start_time": "2024-11-12T07:04:58.705764Z"
    }
   },
   "id": "ac93df7e330f35cc",
   "execution_count": 34
  },
  {
   "cell_type": "markdown",
   "source": [
    "如果真的需要赋给一个新数组，使用 .copy( ) 方法"
   ],
   "metadata": {
    "collapsed": false
   },
   "id": "8b5cf07c99485111"
  },
  {
   "cell_type": "code",
   "outputs": [
    {
     "name": "stdout",
     "output_type": "stream",
     "text": [
      "[0 1 2 3 4 5 6 7 8 9]\n",
      "[0 1 2 3 4 5 6 7 8 9]\n",
      "[100   1   2   3   4   5   6   7   8   9]\n",
      "[0 1 2 3 4 5 6 7 8 9]\n"
     ]
    }
   ],
   "source": [
    "arr1 = np.arange(10)  # 创建一个 0 到10 的数组变量 arr\n",
    "print(arr1)\n",
    "arr2 = arr1.copy()  # 把数组 1 的拷贝赋值给另一个数组 2\n",
    "print(arr2)\n",
    "arr2[0] = 100  # 修改数组 2\n",
    "print(arr2)\n",
    "print(arr1)  # 查看数组 1"
   ],
   "metadata": {
    "collapsed": false,
    "ExecuteTime": {
     "end_time": "2024-11-12T07:06:13.019748Z",
     "start_time": "2024-11-12T07:06:13.016124Z"
    }
   },
   "id": "3a5e95c9405baf9b",
   "execution_count": 35
  },
  {
   "cell_type": "code",
   "outputs": [],
   "source": [],
   "metadata": {
    "collapsed": false
   },
   "id": "d488aa7d193e2f7c"
  }
 ],
 "metadata": {
  "kernelspec": {
   "display_name": "Python 3",
   "language": "python",
   "name": "python3"
  },
  "language_info": {
   "codemirror_mode": {
    "name": "ipython",
    "version": 2
   },
   "file_extension": ".py",
   "mimetype": "text/x-python",
   "name": "python",
   "nbconvert_exporter": "python",
   "pygments_lexer": "ipython2",
   "version": "2.7.6"
  }
 },
 "nbformat": 4,
 "nbformat_minor": 5
}
