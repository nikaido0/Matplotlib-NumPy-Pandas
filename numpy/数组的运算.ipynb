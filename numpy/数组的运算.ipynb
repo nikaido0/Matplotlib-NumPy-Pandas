{
 "cells": [
  {
   "cell_type": "code",
   "execution_count": 1,
   "id": "initial_id",
   "metadata": {
    "collapsed": true,
    "ExecuteTime": {
     "end_time": "2024-11-12T07:24:00.060751Z",
     "start_time": "2024-11-12T07:24:00.004702Z"
    }
   },
   "outputs": [],
   "source": [
    "import numpy as np"
   ]
  },
  {
   "cell_type": "markdown",
   "source": [
    "默认情况下，NumPy 中的矩阵运算是不修改原矩阵的，操作结果会返回一个新的矩阵。\n",
    "如果你希望修改原矩阵，可以使用如 +=、*= 等就地操作符，或者直接重新赋值给原矩阵"
   ],
   "metadata": {
    "collapsed": false
   },
   "id": "e24db5fe1275fadf"
  },
  {
   "cell_type": "code",
   "outputs": [
    {
     "name": "stdout",
     "output_type": "stream",
     "text": [
      "[[1 2 3 4]\n",
      " [5 6 7 8]]\n",
      "[[11 12 13 14]\n",
      " [15 16 17 18]]\n",
      "[[-9 -8 -7 -6]\n",
      " [-5 -4 -3 -2]]\n",
      "[[10 20 30 40]\n",
      " [50 60 70 80]]\n",
      "[[0.1 0.2 0.3 0.4]\n",
      " [0.5 0.6 0.7 0.8]]\n",
      "[[1 2 3 4]\n",
      " [5 6 7 8]]\n",
      "[[         1       1024      59049    1048576]\n",
      " [   9765625   60466176  282475249 1073741824]]\n",
      "[[0 0 0 0]\n",
      " [0 1 1 1]]\n"
     ]
    }
   ],
   "source": [
    "# 创建矩阵\n",
    "arr = np.arange(1, 9).reshape(2, 4)\n",
    "print(arr)\n",
    "\n",
    "print(arr + 10)  # 加法\n",
    "print(arr - 10)  # 减法\n",
    "print(arr * 10)  # 乘法\n",
    "print(arr / 10)  # 除法\n",
    "print(arr % 10)  # 取余\n",
    "print(arr ** 10)  # 平方\n",
    "print(arr // 6)  # 取整"
   ],
   "metadata": {
    "collapsed": false,
    "ExecuteTime": {
     "end_time": "2024-11-12T07:26:52.451397Z",
     "start_time": "2024-11-12T07:26:52.445665Z"
    }
   },
   "id": "d9315e053bd648ba",
   "execution_count": 4
  },
  {
   "cell_type": "markdown",
   "source": [
    "同维度数组间的运算即对应元素之间的运算，这里仅以矩阵为例，向量与向\n",
    "量的操作与之相同"
   ],
   "metadata": {
    "collapsed": false
   },
   "id": "18d55abc3db73df9"
  },
  {
   "cell_type": "code",
   "outputs": [
    {
     "name": "stdout",
     "output_type": "stream",
     "text": [
      "[[-1 -2 -3 -4]\n",
      " [-5 -6 -7 -8]]\n",
      "[[1 2 3 4]\n",
      " [5 6 7 8]]\n"
     ]
    }
   ],
   "source": [
    "# 创建矩阵\n",
    "arr1 = np.arange(-1, -9, -1).reshape(2, 4)\n",
    "arr2 = -arr1\n",
    "print(arr1)\n",
    "print(arr2)"
   ],
   "metadata": {
    "collapsed": false,
    "ExecuteTime": {
     "end_time": "2024-11-12T07:27:18.381667Z",
     "start_time": "2024-11-12T07:27:18.377067Z"
    }
   },
   "id": "8ffc407931da7798",
   "execution_count": 5
  },
  {
   "cell_type": "code",
   "outputs": [
    {
     "name": "stdout",
     "output_type": "stream",
     "text": [
      "[[0 0 0 0]\n",
      " [0 0 0 0]]\n",
      "[[ -2  -4  -6  -8]\n",
      " [-10 -12 -14 -16]]\n",
      "[[ -1  -4  -9 -16]\n",
      " [-25 -36 -49 -64]]\n"
     ]
    }
   ],
   "source": [
    "print(arr1 + arr2)  # 加法\n",
    "print(arr1 - arr2)  # 减法\n",
    "print(arr1 * arr2)  # 乘法"
   ],
   "metadata": {
    "collapsed": false,
    "ExecuteTime": {
     "end_time": "2024-11-12T07:27:51.073660Z",
     "start_time": "2024-11-12T07:27:51.069967Z"
    }
   },
   "id": "57a1ea6763cd1a95",
   "execution_count": 6
  },
  {
   "cell_type": "markdown",
   "source": [
    "不同形状的数组之间的运算有以下规则：\n",
    "⚫ 如果是向量与矩阵之间做运算，向量自动升级为行矩阵；\n",
    "⚫ 如果某矩阵是行矩阵或列矩阵，则其被广播，以适配另一个矩阵的形状。"
   ],
   "metadata": {
    "collapsed": false
   },
   "id": "d156f7c69a014787"
  },
  {
   "cell_type": "markdown",
   "source": [
    "当一个形状为(x,y)的矩阵与一个向量做运算时， 要求该向量的形状必须为 y，\n",
    "运算时向量会自动升级成形状为(1,y)的行矩阵，该形状为(1,y)的行矩阵再自动被\n",
    "广播为形状为(x,y)的矩阵，这样就与另一个矩阵的形状适配了"
   ],
   "metadata": {
    "collapsed": false
   },
   "id": "63ff46f8013cd58b"
  },
  {
   "cell_type": "code",
   "outputs": [
    {
     "name": "stdout",
     "output_type": "stream",
     "text": [
      "[-100    0  100] (3,)\n"
     ]
    }
   ],
   "source": [
    "# 向量\n",
    "arr1 = np.array([-100, 0, 100])\n",
    "print(arr1, arr1.shape)"
   ],
   "metadata": {
    "collapsed": false,
    "ExecuteTime": {
     "end_time": "2024-11-12T07:29:38.986080Z",
     "start_time": "2024-11-12T07:29:38.983025Z"
    }
   },
   "id": "f702e4ea64881705",
   "execution_count": 7
  },
  {
   "cell_type": "code",
   "outputs": [
    {
     "name": "stdout",
     "output_type": "stream",
     "text": [
      "[[0.22357154 0.90927012 0.86651132]\n",
      " [0.11374156 0.52154963 0.56323807]\n",
      " [0.80330269 0.6766744  0.27934905]\n",
      " [0.31816944 0.37020358 0.38335417]\n",
      " [0.98541641 0.78289046 0.25817223]\n",
      " [0.90744532 0.30488035 0.1995808 ]\n",
      " [0.44698665 0.87479707 0.20863892]\n",
      " [0.34354711 0.56507966 0.29826657]\n",
      " [0.00215094 0.5346773  0.57684389]\n",
      " [0.35867022 0.19693622 0.84917095]] (10, 3)\n"
     ]
    }
   ],
   "source": [
    "# 矩阵\n",
    "arr2 = np.random.random((10, 3))\n",
    "print(arr2, arr2.shape)"
   ],
   "metadata": {
    "collapsed": false,
    "ExecuteTime": {
     "end_time": "2024-11-12T07:29:53.727006Z",
     "start_time": "2024-11-12T07:29:53.722148Z"
    }
   },
   "id": "ff748ac59be9ee5a",
   "execution_count": 8
  },
  {
   "cell_type": "code",
   "outputs": [
    {
     "name": "stdout",
     "output_type": "stream",
     "text": [
      "[[-99.77642846   0.90927012 100.86651132]\n",
      " [-99.88625844   0.52154963 100.56323807]\n",
      " [-99.19669731   0.6766744  100.27934905]\n",
      " [-99.68183056   0.37020358 100.38335417]\n",
      " [-99.01458359   0.78289046 100.25817223]\n",
      " [-99.09255468   0.30488035 100.1995808 ]\n",
      " [-99.55301335   0.87479707 100.20863892]\n",
      " [-99.65645289   0.56507966 100.29826657]\n",
      " [-99.99784906   0.5346773  100.57684389]\n",
      " [-99.64132978   0.19693622 100.84917095]]\n"
     ]
    }
   ],
   "source": [
    " # 广播\n",
    "print(arr1 + arr2)"
   ],
   "metadata": {
    "collapsed": false,
    "ExecuteTime": {
     "end_time": "2024-11-12T07:30:24.136628Z",
     "start_time": "2024-11-12T07:30:24.132704Z"
    }
   },
   "id": "5ea3e4b00c902b99",
   "execution_count": 9
  },
  {
   "cell_type": "markdown",
   "source": [
    "当一个形状为(x,y)的矩阵与一个列矩阵做运算时，要求该列矩阵的形状必须\n",
    "为(x,1)，该形状为(x,1)的列矩阵再自动被广播为形状为(x,y)的矩阵，这样就与另\n",
    "一个矩阵的形状适配了"
   ],
   "metadata": {
    "collapsed": false
   },
   "id": "b8dc00e574f9d14a"
  },
  {
   "cell_type": "code",
   "outputs": [
    {
     "name": "stdout",
     "output_type": "stream",
     "text": [
      "[[0]\n",
      " [1]\n",
      " [2]]\n",
      "[[1. 1. 1. 1. 1.]\n",
      " [1. 1. 1. 1. 1.]\n",
      " [1. 1. 1. 1. 1.]]\n"
     ]
    }
   ],
   "source": [
    "# 列矩阵\n",
    "arr1 = np.arange(3).reshape(3, 1)\n",
    "print(arr1)\n",
    "\n",
    "# 矩阵\n",
    "arr2 = np.ones((3, 5))\n",
    "print(arr2)"
   ],
   "metadata": {
    "collapsed": false,
    "ExecuteTime": {
     "end_time": "2024-11-12T07:31:49.891988Z",
     "start_time": "2024-11-12T07:31:49.886482Z"
    }
   },
   "id": "c8f3de0bd1db0a24",
   "execution_count": 10
  },
  {
   "cell_type": "code",
   "outputs": [
    {
     "name": "stdout",
     "output_type": "stream",
     "text": [
      "[[0. 0. 0. 0. 0.]\n",
      " [1. 1. 1. 1. 1.]\n",
      " [2. 2. 2. 2. 2.]]\n"
     ]
    }
   ],
   "source": [
    "# 广播\n",
    "print(arr1 * arr2)"
   ],
   "metadata": {
    "collapsed": false,
    "ExecuteTime": {
     "end_time": "2024-11-12T07:31:57.332871Z",
     "start_time": "2024-11-12T07:31:57.329287Z"
    }
   },
   "id": "8a3cdc731714164c",
   "execution_count": 11
  },
  {
   "cell_type": "markdown",
   "source": [
    "当一个形状为(1,y)的行矩阵与一个形状为(x,1) 的列矩阵做运算时， 这俩矩阵\n",
    "都会被自动广播为形状为(x,y)的矩阵，这样就互相适配了"
   ],
   "metadata": {
    "collapsed": false
   },
   "id": "eb933ec62b3adc97"
  },
  {
   "cell_type": "code",
   "outputs": [
    {
     "name": "stdout",
     "output_type": "stream",
     "text": [
      "[0 1 2] (3,)\n",
      "[[0]\n",
      " [1]\n",
      " [2]] (3, 1)\n"
     ]
    }
   ],
   "source": [
    "# 向量\n",
    "arr1 = np.arange(3)\n",
    "print(arr1, arr1.shape)\n",
    "\n",
    "# 列矩阵\n",
    "arr2 = np.arange(3).reshape(3, 1)\n",
    "print(arr2, arr2.shape)"
   ],
   "metadata": {
    "collapsed": false,
    "ExecuteTime": {
     "end_time": "2024-11-12T07:32:50.727088Z",
     "start_time": "2024-11-12T07:32:50.723733Z"
    }
   },
   "id": "e40bc929eca4a743",
   "execution_count": 14
  },
  {
   "cell_type": "code",
   "outputs": [
    {
     "name": "stdout",
     "output_type": "stream",
     "text": [
      "[[0 0 0]\n",
      " [0 1 2]\n",
      " [0 2 4]]\n"
     ]
    }
   ],
   "source": [
    "# 广播\n",
    "print(arr1 * arr2)"
   ],
   "metadata": {
    "collapsed": false,
    "ExecuteTime": {
     "end_time": "2024-11-12T07:32:58.834260Z",
     "start_time": "2024-11-12T07:32:58.831839Z"
    }
   },
   "id": "75e954581fc6c79e",
   "execution_count": 15
  },
  {
   "cell_type": "code",
   "outputs": [],
   "source": [],
   "metadata": {
    "collapsed": false
   },
   "id": "b550bc4017f43607"
  }
 ],
 "metadata": {
  "kernelspec": {
   "display_name": "Python 3",
   "language": "python",
   "name": "python3"
  },
  "language_info": {
   "codemirror_mode": {
    "name": "ipython",
    "version": 2
   },
   "file_extension": ".py",
   "mimetype": "text/x-python",
   "name": "python",
   "nbconvert_exporter": "python",
   "pygments_lexer": "ipython2",
   "version": "2.7.6"
  }
 },
 "nbformat": 4,
 "nbformat_minor": 5
}
