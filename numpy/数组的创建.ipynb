{
 "cells": [
  {
   "cell_type": "code",
   "execution_count": 1,
   "id": "initial_id",
   "metadata": {
    "collapsed": true,
    "ExecuteTime": {
     "end_time": "2024-11-12T06:15:51.635209Z",
     "start_time": "2024-11-12T06:15:51.577724Z"
    }
   },
   "outputs": [],
   "source": [
    "import numpy as np"
   ]
  },
  {
   "cell_type": "code",
   "outputs": [
    {
     "name": "stdout",
     "output_type": "stream",
     "text": [
      "[1 2 3] (3,)\n",
      "[[1 2 3]] (1, 3)\n",
      "[[1]\n",
      " [2]\n",
      " [3]] (3, 1)\n",
      "[[1 2 3]\n",
      " [4 5 6]] (2, 3)\n"
     ]
    }
   ],
   "source": [
    " # 创建一维数组——向量\n",
    "arr1 = np.array([1, 2, 3])\n",
    "print(arr1, arr1.shape)\n",
    "\n",
    "# 创建二维数组——行矩阵\n",
    "arr2 = np.array([[1, 2, 3]])\n",
    "print(arr2, arr2.shape)\n",
    "\n",
    "# 创建二维数组——列矩阵\n",
    "arr3 = np.array([[1], [2], [3]])\n",
    "print(arr3, arr3.shape)\n",
    "\n",
    "# 创建二维数组——矩阵\n",
    "arr4 = np.array([[1, 2, 3], [4, 5, 6]])\n",
    "print(arr4, arr4.shape)"
   ],
   "metadata": {
    "collapsed": false,
    "ExecuteTime": {
     "end_time": "2024-11-12T06:17:07.566991Z",
     "start_time": "2024-11-12T06:17:07.561300Z"
    }
   },
   "id": "a1f1ec2dc1442c1d",
   "execution_count": 3
  },
  {
   "cell_type": "code",
   "outputs": [
    {
     "name": "stdout",
     "output_type": "stream",
     "text": [
      "[0 1 2 3 4 5 6 7 8 9]\n",
      "[10 11 12 13 14 15 16 17 18 19]\n",
      "[ 1  3  5  7  9 11 13 15 17 19]\n"
     ]
    }
   ],
   "source": [
    " # 递增数组\n",
    "arr1 = np.arange(10)  # 从 0 开始，到 10 之前结束\n",
    "print(arr1)\n",
    "\n",
    "# 递增数组\n",
    "arr2 = np.arange(10, 20)  # 从 10 开始，到 20 之前结束\n",
    "print(arr2)\n",
    "\n",
    "# 递增数组\n",
    "arr3 = np.arange(1, 21, 2)  # 从 1 开始，到 21 之前结束，步长为 2\n",
    "print(arr3)"
   ],
   "metadata": {
    "collapsed": false,
    "ExecuteTime": {
     "end_time": "2024-11-12T06:17:44.607655Z",
     "start_time": "2024-11-12T06:17:44.604332Z"
    }
   },
   "id": "75d7ffb1b7f9e02d",
   "execution_count": 4
  },
  {
   "cell_type": "code",
   "outputs": [
    {
     "name": "stdout",
     "output_type": "stream",
     "text": [
      "[0. 0. 0.] (3,)\n",
      "[[1. 1. 1.]] (1, 3)\n",
      "[[3.14 3.14 3.14]\n",
      " [3.14 3.14 3.14]] (2, 3)\n"
     ]
    }
   ],
   "source": [
    "# 全0 数组\n",
    "arr1 = np.zeros(3)  # 形状为 3 的向量\n",
    "print(arr1, arr1.shape)\n",
    "\n",
    "# 全1 数组\n",
    "arr2 = np.ones((1, 3))  # 形状为(1,3)的矩阵\n",
    "print(arr2, arr2.shape)\n",
    "\n",
    "# 全3.14 数组\n",
    "arr3 = 3.14 * np.ones((2, 3))  # 形状为(2,3)的矩阵\n",
    "print(arr3, arr3.shape)"
   ],
   "metadata": {
    "collapsed": false,
    "ExecuteTime": {
     "end_time": "2024-11-12T06:21:48.895429Z",
     "start_time": "2024-11-12T06:21:48.891325Z"
    }
   },
   "id": "d362bc6d86b97a8b",
   "execution_count": 5
  },
  {
   "cell_type": "code",
   "outputs": [
    {
     "name": "stdout",
     "output_type": "stream",
     "text": [
      "[0.40928669 0.82204806 0.8440986  0.48540414 0.97113736] (5,)\n",
      "[[21 41 38 93 51 70 22 59 48 27 41 93 21 34 42]] (1, 15)\n",
      "[[-1.12977587  0.68606797 -1.04367014]\n",
      " [ 0.6093846   0.87752385 -0.57143442]]\n"
     ]
    }
   ],
   "source": [
    "# 0-1 均匀分布的浮点型随机数组\n",
    "arr1 = np.random.random(5)  # 形状为 5 的向量\n",
    "print(arr1, arr1.shape)\n",
    "\n",
    "# 整数型随机数组 该函数需要额外输入范围参数，本例中范围是 10-100\n",
    "arr2 = np.random.randint(10, 100, (1, 15))  # 形状为(1,15)的矩阵\n",
    "print(arr2, arr2.shape)\n",
    "\n",
    "# 服从正态分布的随机数组 该函数需要额外输入正态参数，本例中均值为 0、标准差为 1\n",
    "arr3 = np.random.normal(0, 1, (2, 3))  # 形状为(2,3)的二维矩阵\n",
    "print(arr3)"
   ],
   "metadata": {
    "collapsed": false,
    "ExecuteTime": {
     "end_time": "2024-11-12T06:23:38.337296Z",
     "start_time": "2024-11-12T06:23:38.326304Z"
    }
   },
   "id": "f6b67c6f5ed8e787",
   "execution_count": 8
  },
  {
   "cell_type": "code",
   "outputs": [],
   "source": [],
   "metadata": {
    "collapsed": false
   },
   "id": "d75ecf8e6689040a"
  }
 ],
 "metadata": {
  "kernelspec": {
   "display_name": "Python 3",
   "language": "python",
   "name": "python3"
  },
  "language_info": {
   "codemirror_mode": {
    "name": "ipython",
    "version": 2
   },
   "file_extension": ".py",
   "mimetype": "text/x-python",
   "name": "python",
   "nbconvert_exporter": "python",
   "pygments_lexer": "ipython2",
   "version": "2.7.6"
  }
 },
 "nbformat": 4,
 "nbformat_minor": 5
}
