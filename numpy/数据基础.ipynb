{
 "cells": [
  {
   "cell_type": "code",
   "execution_count": 1,
   "id": "initial_id",
   "metadata": {
    "collapsed": true,
    "ExecuteTime": {
     "end_time": "2024-11-12T05:02:25.987249Z",
     "start_time": "2024-11-12T05:02:25.894893Z"
    }
   },
   "outputs": [],
   "source": [
    "import numpy as np"
   ]
  },
  {
   "cell_type": "code",
   "outputs": [
    {
     "name": "stdout",
     "output_type": "stream",
     "text": [
      "[1 2 3]\n"
     ]
    }
   ],
   "source": [
    "# 创建整型数组\n",
    "arr1 = np.array([1, 2, 3])\n",
    "print(arr1)"
   ],
   "metadata": {
    "collapsed": false,
    "ExecuteTime": {
     "end_time": "2024-11-12T05:03:46.760800Z",
     "start_time": "2024-11-12T05:03:46.755076Z"
    }
   },
   "id": "d690b05365ca6701",
   "execution_count": 3
  },
  {
   "cell_type": "code",
   "outputs": [
    {
     "name": "stdout",
     "output_type": "stream",
     "text": [
      "[1.9 2.  3. ]\n"
     ]
    }
   ],
   "source": [
    "# 参加浮点型数组\n",
    "arr2 = np.array([1.9, 2, 3])\n",
    "print(arr2)"
   ],
   "metadata": {
    "collapsed": false,
    "ExecuteTime": {
     "end_time": "2024-11-12T05:04:55.849576Z",
     "start_time": "2024-11-12T05:04:55.846482Z"
    }
   },
   "id": "c52c09cae82641b5",
   "execution_count": 4
  },
  {
   "cell_type": "code",
   "outputs": [
    {
     "name": "stdout",
     "output_type": "stream",
     "text": [
      "[100   2   3]\n"
     ]
    }
   ],
   "source": [
    "# 整数型数组\n",
    "arr1 = np.array([1, 2, 3])\n",
    "arr1[0] = 100.9  # 插入浮点数，被截断，数组仍为整数型\n",
    "print(arr1)"
   ],
   "metadata": {
    "collapsed": false,
    "ExecuteTime": {
     "end_time": "2024-11-12T06:03:35.911644Z",
     "start_time": "2024-11-12T06:03:35.907428Z"
    }
   },
   "id": "ca47352caade44fe",
   "execution_count": 9
  },
  {
   "cell_type": "code",
   "outputs": [
    {
     "name": "stdout",
     "output_type": "stream",
     "text": [
      "[ 1. 10.  3.]\n"
     ]
    }
   ],
   "source": [
    "# 浮点型数组\n",
    "arr2 = np.array([1.0, 2, 3])\n",
    "arr2[1] = 10  # 插入整数型，被升级，数组仍为浮点型\n",
    "print(arr2)"
   ],
   "metadata": {
    "collapsed": false,
    "ExecuteTime": {
     "end_time": "2024-11-12T06:02:26.169816Z",
     "start_time": "2024-11-12T06:02:26.164814Z"
    }
   },
   "id": "85e28544633566d4",
   "execution_count": 7
  },
  {
   "cell_type": "code",
   "outputs": [
    {
     "name": "stdout",
     "output_type": "stream",
     "text": [
      "[1 2 3]\n",
      "[1. 2. 3.]\n",
      "[1 2 3]\n"
     ]
    }
   ],
   "source": [
    "# 整数型数组\n",
    "arr1 = np.array([1, 2, 3])\n",
    "print(arr1)\n",
    "\n",
    "# 整数型数组 ——> 浮点型数组\n",
    "arr2 = arr1.astype(float)\n",
    "print(arr2)\n",
    "\n",
    "# 浮点型数组 ——> 整数型数组\n",
    "arr3 = arr2.astype(int)\n",
    "print(arr3)"
   ],
   "metadata": {
    "collapsed": false,
    "ExecuteTime": {
     "end_time": "2024-11-12T06:05:58.424955Z",
     "start_time": "2024-11-12T06:05:58.420691Z"
    }
   },
   "id": "f824b98c8740a996",
   "execution_count": 11
  },
  {
   "cell_type": "code",
   "outputs": [
    {
     "name": "stdout",
     "output_type": "stream",
     "text": [
      "[1 2 3]\n",
      "[1. 2. 3.]\n",
      "[1. 2. 3.]\n",
      "[1. 2. 3.]\n",
      "[2. 4. 6.]\n"
     ]
    }
   ],
   "source": [
    "# 整数型数组\n",
    "arr = np.array([1, 2, 3])\n",
    "print(arr)\n",
    "\n",
    "# 整数型数组与浮点数做运算\n",
    "print(arr + 0.0)\n",
    "print(arr * 1.0)\n",
    "\n",
    "# 整数型数组遇到除法（即便是除以整数）\n",
    "print(arr / 1)\n",
    "\n",
    "# 整数型数组与浮点型数组做运算\n",
    "int_arr = np.array([1, 2, 3])\n",
    "float_arr = np.array([1.0, 2, 3])\n",
    "print(int_arr + float_arr)"
   ],
   "metadata": {
    "collapsed": false,
    "ExecuteTime": {
     "end_time": "2024-11-12T06:07:29.687841Z",
     "start_time": "2024-11-12T06:07:29.681827Z"
    }
   },
   "id": "ca05bcf0dd0885c6",
   "execution_count": 13
  },
  {
   "cell_type": "code",
   "outputs": [
    {
     "name": "stdout",
     "output_type": "stream",
     "text": [
      "[1. 1. 1.]\n"
     ]
    }
   ],
   "source": [
    "arr1 = np.ones(3)  # 传入形状 3\n",
    "print(arr1)  # 造出一维数组"
   ],
   "metadata": {
    "collapsed": false,
    "ExecuteTime": {
     "end_time": "2024-11-12T06:10:53.639503Z",
     "start_time": "2024-11-12T06:10:53.634663Z"
    }
   },
   "id": "dd70cb10f4c8655",
   "execution_count": 15
  },
  {
   "cell_type": "code",
   "outputs": [
    {
     "name": "stdout",
     "output_type": "stream",
     "text": [
      "[[1. 1. 1.]]\n"
     ]
    }
   ],
   "source": [
    "arr2 = np.ones((1, 3))  # 传入形状(1,3)\n",
    "print(arr2)  # 造出二维数组"
   ],
   "metadata": {
    "collapsed": false,
    "ExecuteTime": {
     "end_time": "2024-11-12T06:11:18.964216Z",
     "start_time": "2024-11-12T06:11:18.959325Z"
    }
   },
   "id": "b546653eab520b4e",
   "execution_count": 16
  },
  {
   "cell_type": "code",
   "outputs": [
    {
     "name": "stdout",
     "output_type": "stream",
     "text": [
      "[[[1. 1. 1.]]]\n"
     ]
    }
   ],
   "source": [
    "arr3 = np.ones((1, 1, 3))  # 传入形状(1,1,3)\n",
    "print(arr3)  # 造出三维数组"
   ],
   "metadata": {
    "collapsed": false,
    "ExecuteTime": {
     "end_time": "2024-11-12T06:11:33.079693Z",
     "start_time": "2024-11-12T06:11:33.075971Z"
    }
   },
   "id": "ac9e5dc9712400a9",
   "execution_count": 17
  },
  {
   "cell_type": "code",
   "outputs": [
    {
     "name": "stdout",
     "output_type": "stream",
     "text": [
      "(3,)\n",
      "(1, 3)\n",
      "(1, 1, 3)\n"
     ]
    }
   ],
   "source": [
    "print(arr1.shape)\n",
    "print(arr2.shape)\n",
    "print(arr3.shape)"
   ],
   "metadata": {
    "collapsed": false,
    "ExecuteTime": {
     "end_time": "2024-11-12T06:12:12.766050Z",
     "start_time": "2024-11-12T06:12:12.762889Z"
    }
   },
   "id": "f242892f557047f0",
   "execution_count": 18
  },
  {
   "cell_type": "code",
   "outputs": [
    {
     "name": "stdout",
     "output_type": "stream",
     "text": [
      "[0 1 2 3 4 5 6 7 8 9] (10,)\n",
      "[[0 1 2 3 4 5 6 7 8 9]] (1, 10)\n"
     ]
    }
   ],
   "source": [
    "# 创建一维数组\n",
    "arr1 = np.arange(10)\n",
    "print(arr1, arr1.shape)\n",
    "\n",
    "# 升级为二维数组\n",
    "arr2 = arr1.reshape((1, -1))\n",
    "print(arr2, arr2.shape)"
   ],
   "metadata": {
    "collapsed": false,
    "ExecuteTime": {
     "end_time": "2024-11-12T06:13:44.913775Z",
     "start_time": "2024-11-12T06:13:44.910170Z"
    }
   },
   "id": "628481d004a4d2ec",
   "execution_count": 19
  },
  {
   "cell_type": "code",
   "outputs": [
    {
     "name": "stdout",
     "output_type": "stream",
     "text": [
      "[[0 1 2 3 4]\n",
      " [5 6 7 8 9]] (2, 5)\n",
      "[0 1 2 3 4 5 6 7 8 9] (10,)\n"
     ]
    }
   ],
   "source": [
    "# 创建二维数组\n",
    "arr2 = np.arange(10).reshape(2, -1)\n",
    "print(arr2, arr2.shape)\n",
    "\n",
    "# 降级为一维数组\n",
    "arr1 = arr2.reshape(-1)\n",
    "print(arr1, arr1.shape)\n"
   ],
   "metadata": {
    "collapsed": false,
    "ExecuteTime": {
     "end_time": "2024-11-12T06:14:59.243583Z",
     "start_time": "2024-11-12T06:14:59.238148Z"
    }
   },
   "id": "af234a8c5245a4e4",
   "execution_count": 21
  },
  {
   "cell_type": "code",
   "outputs": [],
   "source": [],
   "metadata": {
    "collapsed": false
   },
   "id": "ce31c4956e87a301"
  }
 ],
 "metadata": {
  "kernelspec": {
   "display_name": "Python 3",
   "language": "python",
   "name": "python3"
  },
  "language_info": {
   "codemirror_mode": {
    "name": "ipython",
    "version": 2
   },
   "file_extension": ".py",
   "mimetype": "text/x-python",
   "name": "python",
   "nbconvert_exporter": "python",
   "pygments_lexer": "ipython2",
   "version": "2.7.6"
  }
 },
 "nbformat": 4,
 "nbformat_minor": 5
}
