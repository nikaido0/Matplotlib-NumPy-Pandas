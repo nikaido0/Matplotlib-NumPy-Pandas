{
 "cells": [
  {
   "cell_type": "code",
   "execution_count": 1,
   "id": "initial_id",
   "metadata": {
    "collapsed": true,
    "ExecuteTime": {
     "end_time": "2024-11-12T07:53:31.655818Z",
     "start_time": "2024-11-12T07:53:31.602505Z"
    }
   },
   "outputs": [],
   "source": [
    "import numpy as np"
   ]
  },
  {
   "cell_type": "markdown",
   "source": [
    "由于 NumPy 的主要数据类型是整数型数组或浮点型数组，因此布尔型数组\n",
    "的产生离不开：大于>、大于等于>=、等于==、不等号!=、小于<、小于等于<="
   ],
   "metadata": {
    "collapsed": false
   },
   "id": "b1023ccce6167679"
  },
  {
   "cell_type": "code",
   "outputs": [
    {
     "name": "stdout",
     "output_type": "stream",
     "text": [
      "[[1 2 3]\n",
      " [4 5 6]]\n",
      "[[False False False]\n",
      " [ True  True  True]]\n"
     ]
    }
   ],
   "source": [
    "# 创建数组\n",
    "arr = np.arange(1, 7).reshape(2, 3)\n",
    "print(arr)\n",
    "\n",
    "# 数组与数字作比较\n",
    "print(arr >= 4)"
   ],
   "metadata": {
    "collapsed": false,
    "ExecuteTime": {
     "end_time": "2024-11-12T07:54:07.484713Z",
     "start_time": "2024-11-12T07:54:07.478463Z"
    }
   },
   "id": "7a5ee6c8a5d0312a",
   "execution_count": 2
  },
  {
   "cell_type": "code",
   "outputs": [
    {
     "name": "stdout",
     "output_type": "stream",
     "text": [
      "[1 2 3 4 5]\n",
      "[5 4 3 2 1]\n",
      "[False False False  True  True]\n"
     ]
    }
   ],
   "source": [
    "# 创建同维数组\n",
    "arr1 = np.arange(1, 6)\n",
    "arr2 = np.flipud(arr1)\n",
    "print(arr1)\n",
    "print(arr2)\n",
    "\n",
    "# 同维度数组作比较\n",
    "print(arr1 > arr2)"
   ],
   "metadata": {
    "collapsed": false,
    "ExecuteTime": {
     "end_time": "2024-11-12T07:54:32.113271Z",
     "start_time": "2024-11-12T07:54:32.109105Z"
    }
   },
   "id": "7a09322efb047756",
   "execution_count": 4
  },
  {
   "cell_type": "markdown",
   "source": [
    "最后，还可以同时比较多个条件。Python 基础里，同时检查多个条件使用的\n",
    "与、或、非是 and、or、not。但 NumPy 中使用的与、或、非是 & 、 | 、～"
   ],
   "metadata": {
    "collapsed": false
   },
   "id": "2ca783e859004dd3"
  },
  {
   "cell_type": "code",
   "outputs": [
    {
     "name": "stdout",
     "output_type": "stream",
     "text": [
      "[1 2 3 4 5 6 7 8 9]\n",
      "[ True  True  True False False False  True  True  True]\n"
     ]
    }
   ],
   "source": [
    "# 创建数组\n",
    "arr = np.arange(1, 10)\n",
    "print(arr)\n",
    "\n",
    "# 多个条件\n",
    "print((arr < 4) | (arr > 6))"
   ],
   "metadata": {
    "collapsed": false,
    "ExecuteTime": {
     "end_time": "2024-11-12T07:55:45.125615Z",
     "start_time": "2024-11-12T07:55:45.122207Z"
    }
   },
   "id": "b59cb8136cdecb94",
   "execution_count": 5
  },
  {
   "cell_type": "markdown",
   "source": [
    "np.sum( )函数：统计布尔型数组里 True 的个数"
   ],
   "metadata": {
    "collapsed": false
   },
   "id": "f9870c5259d743ca"
  },
  {
   "cell_type": "code",
   "outputs": [
    {
     "name": "stdout",
     "output_type": "stream",
     "text": [
      "[-1.18851733 -0.83556726 -0.88744548 ...  0.28438908  1.17928925\n",
      "  0.34125736]\n"
     ]
    }
   ],
   "source": [
    "# 创建一个形状为 10000 的标准正态分布数组\n",
    "arr = np.random.normal(0, 1, 10000)\n",
    "print(arr)"
   ],
   "metadata": {
    "collapsed": false,
    "ExecuteTime": {
     "end_time": "2024-11-12T07:56:30.010189Z",
     "start_time": "2024-11-12T07:56:30.004846Z"
    }
   },
   "id": "c24f7a5142d363bb",
   "execution_count": 6
  },
  {
   "cell_type": "code",
   "outputs": [
    {
     "name": "stdout",
     "output_type": "stream",
     "text": [
      "6801\n"
     ]
    }
   ],
   "source": [
    "# 统计该分布中绝对值小于 1 的元素个数\n",
    "num = np.sum(np.abs(arr) < 1)\n",
    "print(num)"
   ],
   "metadata": {
    "collapsed": false,
    "ExecuteTime": {
     "end_time": "2024-11-12T07:56:41.128229Z",
     "start_time": "2024-11-12T07:56:41.125Z"
    }
   },
   "id": "6152aa5ec21a76c",
   "execution_count": 7
  },
  {
   "cell_type": "markdown",
   "source": [
    "np.any( )函数： 只要布尔型数组里含有一个及其以上的 True， 就返回 True"
   ],
   "metadata": {
    "collapsed": false
   },
   "id": "54e2f39fe7e5ef0"
  },
  {
   "cell_type": "code",
   "outputs": [
    {
     "name": "stdout",
     "output_type": "stream",
     "text": [
      "[1 2 3 4 5 6 7 8 9]\n",
      "[9 8 7 6 5 4 3 2 1]\n"
     ]
    }
   ],
   "source": [
    "# 创建同维数组\n",
    "arr1 = np.arange(1, 10)\n",
    "arr2 = np.flipud(arr1)\n",
    "print(arr1)\n",
    "print(arr2)"
   ],
   "metadata": {
    "collapsed": false,
    "ExecuteTime": {
     "end_time": "2024-11-12T07:57:11.579736Z",
     "start_time": "2024-11-12T07:57:11.576758Z"
    }
   },
   "id": "6ee1ab8a98c90f3c",
   "execution_count": 8
  },
  {
   "cell_type": "code",
   "outputs": [
    {
     "name": "stdout",
     "output_type": "stream",
     "text": [
      "True\n"
     ]
    }
   ],
   "source": [
    " # 统计这两个数组里是否有共同元素\n",
    "print(np.any(arr1 == arr2))"
   ],
   "metadata": {
    "collapsed": false,
    "ExecuteTime": {
     "end_time": "2024-11-12T07:57:18.851428Z",
     "start_time": "2024-11-12T07:57:18.848522Z"
    }
   },
   "id": "c7460dea5af7ab10",
   "execution_count": 9
  },
  {
   "cell_type": "markdown",
   "source": [
    "np.all( )函数：当布尔型数组里全是 True 时，才返回 True"
   ],
   "metadata": {
    "collapsed": false
   },
   "id": "7ed8ec3917623f85"
  },
  {
   "cell_type": "code",
   "outputs": [
    {
     "name": "stdout",
     "output_type": "stream",
     "text": [
      "[410.00149165 540.62431446 532.80297398 ... 582.61395246 546.31775183\n",
      " 504.08624142]\n"
     ]
    }
   ],
   "source": [
    "# 模拟英语六级的成绩，创建 100000 个样本\n",
    "arr = np.random.normal(500, 70, 100000)\n",
    "print(arr)"
   ],
   "metadata": {
    "collapsed": false,
    "ExecuteTime": {
     "end_time": "2024-11-12T07:57:42.649173Z",
     "start_time": "2024-11-12T07:57:42.643278Z"
    }
   },
   "id": "e8429dd1f64edaa2",
   "execution_count": 11
  },
  {
   "cell_type": "code",
   "outputs": [
    {
     "name": "stdout",
     "output_type": "stream",
     "text": [
      "False\n"
     ]
    }
   ],
   "source": [
    "# 判断是否所有考生的分数都高于 250\n",
    "print(np.all(arr > 250))"
   ],
   "metadata": {
    "collapsed": false,
    "ExecuteTime": {
     "end_time": "2024-11-12T07:57:58.928910Z",
     "start_time": "2024-11-12T07:57:58.924Z"
    }
   },
   "id": "393726d513d7fcce",
   "execution_count": 13
  },
  {
   "cell_type": "markdown",
   "source": [
    "若一个普通数组和一个布尔型数组的维度相同，可以将布尔型数组作为普通\n",
    "数组的掩码，这样可以对普通数组中的元素作筛选\n",
    "掩码的工作原理：\n",
    "- 当一个布尔型数组与一个普通数组具有相同的形状时，布尔型数组中的每个元素（True 或 False）会对应普通数组中的相应元素。\n",
    "- 如果布尔数组中的某个元素是 True，那么普通数组中相应位置的元素会被保留；如果布尔数组中的某个元素是 False，那么普通数组中相应位置的元素会被丢弃。"
   ],
   "metadata": {
    "collapsed": false
   },
   "id": "8b4cc1f6dd9454b0"
  },
  {
   "cell_type": "code",
   "outputs": [
    {
     "name": "stdout",
     "output_type": "stream",
     "text": [
      "[[ 1  2  3  4]\n",
      " [ 5  6  7  8]\n",
      " [ 9 10 11 12]]\n"
     ]
    }
   ],
   "source": [
    "# 创建数组\n",
    "arr = np.arange(1, 13).reshape(3, 4)\n",
    "print(arr)"
   ],
   "metadata": {
    "collapsed": false,
    "ExecuteTime": {
     "end_time": "2024-11-12T07:58:21.285072Z",
     "start_time": "2024-11-12T07:58:21.282434Z"
    }
   },
   "id": "5eb2a8332e65e61d",
   "execution_count": 14
  },
  {
   "cell_type": "code",
   "outputs": [
    {
     "name": "stdout",
     "output_type": "stream",
     "text": [
      "[[False False False False]\n",
      " [ True  True  True  True]\n",
      " [ True  True  True  True]]\n"
     ]
    }
   ],
   "source": [
    "# 数组与数字作比较\n",
    "print(arr > 4)"
   ],
   "metadata": {
    "collapsed": false,
    "ExecuteTime": {
     "end_time": "2024-11-12T07:58:28.101538Z",
     "start_time": "2024-11-12T07:58:28.099486Z"
    }
   },
   "id": "57f92e563109c5d",
   "execution_count": 15
  },
  {
   "cell_type": "code",
   "outputs": [
    {
     "name": "stdout",
     "output_type": "stream",
     "text": [
      "[ 5  6  7  8  9 10 11 12]\n"
     ]
    }
   ],
   "source": [
    "# 筛选出 arr > 4 的元素\n",
    "print(arr[arr > 4])"
   ],
   "metadata": {
    "collapsed": false,
    "ExecuteTime": {
     "end_time": "2024-11-12T07:58:36.947001Z",
     "start_time": "2024-11-12T07:58:36.944042Z"
    }
   },
   "id": "27bfe61654fd64d4",
   "execution_count": 16
  },
  {
   "cell_type": "code",
   "outputs": [
    {
     "name": "stdout",
     "output_type": "stream",
     "text": [
      "[1 2 3 4 5 6 7 8 9]\n",
      "[9 8 7 6 5 4 3 2 1]\n",
      "[False False False False False  True  True  True  True]\n"
     ]
    }
   ],
   "source": [
    "# 创建同维数组\n",
    "arr1 = np.arange(1, 10)\n",
    "arr2 = np.flipud(arr1)\n",
    "print(arr1)\n",
    "print(arr2)\n",
    "\n",
    "# 同维度数组作比较\n",
    "print(arr1 > arr2)"
   ],
   "metadata": {
    "collapsed": false,
    "ExecuteTime": {
     "end_time": "2024-11-12T08:00:47.037312Z",
     "start_time": "2024-11-12T08:00:47.034294Z"
    }
   },
   "id": "49313414f60a1509",
   "execution_count": 17
  },
  {
   "cell_type": "code",
   "outputs": [
    {
     "name": "stdout",
     "output_type": "stream",
     "text": [
      "[6 7 8 9]\n",
      "[4 3 2 1]\n"
     ]
    }
   ],
   "source": [
    "# 筛选出 arr1 > arr2 位置上的元素\n",
    "print(arr1[arr1 > arr2])\n",
    "print(arr2[arr1 > arr2])"
   ],
   "metadata": {
    "collapsed": false,
    "ExecuteTime": {
     "end_time": "2024-11-12T08:00:53.153220Z",
     "start_time": "2024-11-12T08:00:53.150303Z"
    }
   },
   "id": "6ddbf950dd258780",
   "execution_count": 18
  },
  {
   "cell_type": "code",
   "outputs": [],
   "source": [
    "# 模拟英语六级成绩的随机数组，取 10000 个样本\n",
    "arr = np.random.normal(500, 70, 1000)"
   ],
   "metadata": {
    "collapsed": false,
    "ExecuteTime": {
     "end_time": "2024-11-12T08:01:34.174753Z",
     "start_time": "2024-11-12T08:01:34.171890Z"
    }
   },
   "id": "b9e28bf640a5c216",
   "execution_count": 19
  },
  {
   "cell_type": "code",
   "outputs": [
    {
     "name": "stdout",
     "output_type": "stream",
     "text": [
      "(array([164, 176, 273, 467, 486, 518, 796]),)\n"
     ]
    }
   ],
   "source": [
    "# 找出六级成绩超过 650 的元素所在位置\n",
    "print(np.where(arr > 650))"
   ],
   "metadata": {
    "collapsed": false,
    "ExecuteTime": {
     "end_time": "2024-11-12T08:01:40.836399Z",
     "start_time": "2024-11-12T08:01:40.833893Z"
    }
   },
   "id": "82d397ff8ca895b5",
   "execution_count": 20
  },
  {
   "cell_type": "code",
   "outputs": [
    {
     "name": "stdout",
     "output_type": "stream",
     "text": [
      "(array([796]),)\n"
     ]
    }
   ],
   "source": [
    "# 找出六级成绩最高分的元素所在位置\n",
    "print(np.where(arr == np.max(arr)))"
   ],
   "metadata": {
    "collapsed": false,
    "ExecuteTime": {
     "end_time": "2024-11-12T08:01:56.655320Z",
     "start_time": "2024-11-12T08:01:56.652943Z"
    }
   },
   "id": "5fe9ae049bebd7a9",
   "execution_count": 21
  },
  {
   "cell_type": "code",
   "outputs": [],
   "source": [],
   "metadata": {
    "collapsed": false
   },
   "id": "d9477f6f5bf980fa"
  }
 ],
 "metadata": {
  "kernelspec": {
   "display_name": "Python 3",
   "language": "python",
   "name": "python3"
  },
  "language_info": {
   "codemirror_mode": {
    "name": "ipython",
    "version": 2
   },
   "file_extension": ".py",
   "mimetype": "text/x-python",
   "name": "python",
   "nbconvert_exporter": "python",
   "pygments_lexer": "ipython2",
   "version": "2.7.6"
  }
 },
 "nbformat": 4,
 "nbformat_minor": 5
}
